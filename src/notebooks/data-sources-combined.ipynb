{
 "cells": [
  {
   "cell_type": "code",
   "execution_count": 1,
   "metadata": {},
   "outputs": [],
   "source": [
    "%reload_ext autoreload\n",
    "import pandas as pd\n",
    "from bs4 import BeautifulSoup\n",
    "import requests\n",
    "import json\n",
    "from pipetools import pipe, utils, where\n",
    "from fastcore.basics import typed\n",
    "import requests\n",
    "from fastcore.foundation import L\n",
    "import pandas as pd\n",
    "from typing import List\n",
    "from pathlib import Path\n",
    "import re\n",
    "from datetime import datetime, date"
   ]
  },
  {
   "cell_type": "code",
   "execution_count": 2,
   "metadata": {},
   "outputs": [],
   "source": [
    "team_urls = {\n",
    "    \"liverpool\": \"https://fbref.com/en/squads/822bd0ba/Liverpool-Stats\",\n",
    "    \"aston_villa\": \"https://fbref.com/en/squads/8602292d/Aston-Villa-Stats\",\n",
    "    \"leeds_united\": \"https://fbref.com/en/squads/5bfb9659/Leeds-United-Stats\",\n",
    "    \"crystal_palace\": \"https://fbref.com/en/squads/47c64c55/Crystal-Palace-Stats\",\n",
    "    \"chelsea\": \"https://fbref.com/en/squads/cff3d9bb/Chelsea-Stats\",\n",
    "    \"leicester_city\": \"https://fbref.com/en/squads/a2d435b3/Leicester-City-Stats\",\n",
    "    \"wolves\": \"https://fbref.com/en/squads/8cec06e1/Wolverhampton-Wanderers-Stats\",\n",
    "    \"tottenham_hotspurs\": \"https://fbref.com/en/squads/361ca564/Tottenham-Hotspur-Stats\",\n",
    "    \"westham_united\": \"https://fbref.com/en/squads/7c21e445/West-Ham-United-Stats\",\n",
    "    \"manchester_city\": \"https://fbref.com/en/squads/b8fd03ef/Manchester-City-Stats\",\n",
    "    \"everton\": \"https://fbref.com/en/squads/d3fd31cc/Everton-Stats\",\n",
    "    \"southampton\": \"https://fbref.com/en/squads/33c895d4/Southampton-Stats\",\n",
    "    \"newcastle_united\": \"https://fbref.com/en/squads/b2b47a98/Newcastle-United-Stats\",\n",
    "    \"manchester_united\": \"https://fbref.com/en/squads/19538871/Manchester-United-Stats\",\n",
    "    \"brighton\": \"https://fbref.com/en/squads/d07537b9/Brighton-and-Hove-Albion-Stats\",\n",
    "    \"westbrom\": \"https://fbref.com/en/squads/60c6b05f/West-Bromwich-Albion-Stats\",\n",
    "    \"burnley\": \"https://fbref.com/en/squads/943e8050/Burnley-Stats\",\n",
    "    \"sheffield_united\": \"https://fbref.com/en/squads/1df6b87e/Sheffield-United-Stats\",\n",
    "    \"fulham\": \"https://fbref.com/en/squads/fd962109/Fulham-Stats\",\n",
    "    \"arsenal\": \"https://fbref.com/en/squads/18bb7c10/Arsenal-Stats\"\n",
    "}"
   ]
  },
  {
   "cell_type": "code",
   "execution_count": 3,
   "metadata": {},
   "outputs": [
    {
     "data": {
      "text/plain": [
       "20"
      ]
     },
     "execution_count": 3,
     "metadata": {},
     "output_type": "execute_result"
    }
   ],
   "source": [
    "len(team_urls)"
   ]
  },
  {
   "cell_type": "markdown",
   "metadata": {},
   "source": [
    "### Brewing the soup"
   ]
  },
  {
   "cell_type": "code",
   "execution_count": 4,
   "metadata": {},
   "outputs": [],
   "source": [
    "liv_content = requests.get(team_urls[\"arsenal\"])"
   ]
  },
  {
   "cell_type": "code",
   "execution_count": 5,
   "metadata": {},
   "outputs": [
    {
     "data": {
      "text/plain": [
       "200"
      ]
     },
     "execution_count": 5,
     "metadata": {},
     "output_type": "execute_result"
    }
   ],
   "source": [
    "liv_content.status_code"
   ]
  },
  {
   "cell_type": "code",
   "execution_count": 6,
   "metadata": {},
   "outputs": [],
   "source": [
    "liv_soup = BeautifulSoup(liv_content.content)"
   ]
  },
  {
   "cell_type": "markdown",
   "metadata": {},
   "source": [
    "### Utilities"
   ]
  },
  {
   "cell_type": "code",
   "execution_count": 7,
   "metadata": {},
   "outputs": [],
   "source": [
    "def format_age(age: str) -> str:\n",
    "    spl = age.split(\"-\")\n",
    "    return f\"{spl[0]} years and {spl[1]} days\""
   ]
  },
  {
   "cell_type": "code",
   "execution_count": 8,
   "metadata": {},
   "outputs": [],
   "source": [
    "def to_float(text: str) -> float:\n",
    "    if not text:\n",
    "        return 0.0\n",
    "    else:\n",
    "        return text > pipe | str | float"
   ]
  },
  {
   "cell_type": "code",
   "execution_count": 9,
   "metadata": {},
   "outputs": [
    {
     "data": {
      "text/plain": [
       "float"
      ]
     },
     "execution_count": 9,
     "metadata": {},
     "output_type": "execute_result"
    }
   ],
   "source": [
    "type(to_float('0.222'))"
   ]
  },
  {
   "cell_type": "markdown",
   "metadata": {},
   "source": [
    "### Shooting Stats"
   ]
  },
  {
   "cell_type": "code",
   "execution_count": 10,
   "metadata": {},
   "outputs": [],
   "source": [
    "shooting = BeautifulSoup(liv_content.content).find(attrs={\"id\": \"all_stats_shooting_10728\"})"
   ]
  },
  {
   "cell_type": "code",
   "execution_count": 11,
   "metadata": {
    "scrolled": true
   },
   "outputs": [
    {
     "data": {
      "text/plain": [
       "20"
      ]
     },
     "execution_count": 11,
     "metadata": {},
     "output_type": "execute_result"
    }
   ],
   "source": [
    "len(BeautifulSoup(shooting.contents[5]).find_all(\"tr\")[2:-1])"
   ]
  },
  {
   "cell_type": "code",
   "execution_count": 12,
   "metadata": {},
   "outputs": [
    {
     "data": {
      "text/plain": [
       "[<tr><th class=\"left\" csk=\"Bellerín, Héctor\" data-append-csv=\"Hector-Bellerin\" data-stat=\"player\" scope=\"row\"><a href=\"/en/players/f874dd44/Hector-Bellerin\">Héctor Bellerín</a></th><td class=\"left poptip\" data-stat=\"nationality\" data-tip=\"NT\"><a href=\"/en/country/ESP/Spain-Football\"><span style=\"white-space: nowrap\"><span class=\"f-i f-es\">es</span> ESP</span></a></td><td class=\"center\" csk=\"2.0\" data-stat=\"position\">DF</td><td class=\"center\" data-stat=\"age\">25-241</td><td class=\"right\" data-stat=\"minutes_90s\">8.0</td><td class=\"right iz group_start\" data-stat=\"goals\">0</td><td class=\"right\" data-stat=\"shots_total\">2</td><td class=\"right\" data-stat=\"shots_on_target\">1</td><td class=\"right\" data-stat=\"shots_on_target_pct\">50.0</td><td class=\"right\" data-stat=\"shots_total_per90\">0.25</td><td class=\"right\" data-stat=\"shots_on_target_per90\">0.12</td><td class=\"right\" data-stat=\"goals_per_shot\">0.00</td><td class=\"right\" data-stat=\"goals_per_shot_on_target\">0.00</td><td class=\"right\" data-stat=\"average_shot_distance\">18.1</td><td class=\"right iz\" data-stat=\"shots_free_kicks\">0</td><td class=\"right iz\" data-stat=\"pens_made\">0</td><td class=\"right iz\" data-stat=\"pens_att\">0</td><td class=\"right group_start\" data-stat=\"xg\">0.1</td><td class=\"right\" data-stat=\"npxg\">0.1</td><td class=\"right\" data-stat=\"npxg_per_shot\">0.04</td><td class=\"right minus\" data-stat=\"xg_net\">-0.1</td><td class=\"right minus\" data-stat=\"npxg_net\">-0.1</td><td class=\"left group_start\" data-stat=\"matches\"><a href=\"/en/players/f874dd44/matchlogs/2020-2021/summary/Hector-Bellerin-Match-Logs\">Matches</a></td></tr>,\n",
       " <tr><th class=\"left\" csk=\"Leno, Bernd\" data-append-csv=\"Bernd-Leno\" data-stat=\"player\" scope=\"row\"><a href=\"/en/players/2628fd2b/Bernd-Leno\">Bernd Leno</a></th><td class=\"left poptip\" data-stat=\"nationality\" data-tip=\"NT\"><a href=\"/en/country/GER/Germany-Football\"><span style=\"white-space: nowrap\"><span class=\"f-i f-de\">de</span> GER</span></a></td><td class=\"center\" csk=\"1.0\" data-stat=\"position\">GK</td><td class=\"center\" data-stat=\"age\">28-256</td><td class=\"right\" data-stat=\"minutes_90s\">8.0</td><td class=\"right iz group_start\" data-stat=\"goals\">0</td><td class=\"right iz\" data-stat=\"shots_total\">0</td><td class=\"right iz\" data-stat=\"shots_on_target\">0</td><td class=\"right iz\" data-stat=\"shots_on_target_pct\"></td><td class=\"right\" data-stat=\"shots_total_per90\">0.00</td><td class=\"right\" data-stat=\"shots_on_target_per90\">0.00</td><td class=\"right iz\" data-stat=\"goals_per_shot\"></td><td class=\"right iz\" data-stat=\"goals_per_shot_on_target\"></td><td class=\"right iz\" data-stat=\"average_shot_distance\"></td><td class=\"right iz\" data-stat=\"shots_free_kicks\">0</td><td class=\"right iz\" data-stat=\"pens_made\">0</td><td class=\"right iz\" data-stat=\"pens_att\">0</td><td class=\"right group_start\" data-stat=\"xg\">0.0</td><td class=\"right\" data-stat=\"npxg\">0.0</td><td class=\"right iz\" data-stat=\"npxg_per_shot\"></td><td class=\"right\" data-stat=\"xg_net\">0.0</td><td class=\"right\" data-stat=\"npxg_net\">0.0</td><td class=\"left group_start\" data-stat=\"matches\"><a href=\"/en/players/2628fd2b/matchlogs/2020-2021/summary/Bernd-Leno-Match-Logs\">Matches</a></td></tr>,\n",
       " <tr><th class=\"left\" csk=\"Aubameyang, Pierre-Emerick\" data-append-csv=\"Pierre-Emerick-Aubameyang\" data-stat=\"player\" scope=\"row\"><a href=\"/en/players/d5dd5f1f/Pierre-Emerick-Aubameyang\">Pierre-Emerick Aubameyang</a></th><td class=\"left poptip\" data-stat=\"nationality\" data-tip=\"NT\"><a href=\"/en/country/GAB/Gabon-Football\"><span style=\"white-space: nowrap\"><span class=\"f-i f-ga\">ga</span> GAB</span></a></td><td class=\"center\" csk=\"4.0\" data-stat=\"position\">FW</td><td class=\"center\" data-stat=\"age\">31-150</td><td class=\"right\" data-stat=\"minutes_90s\">8.0</td><td class=\"right group_start\" data-stat=\"goals\">2</td><td class=\"right\" data-stat=\"shots_total\">9</td><td class=\"right\" data-stat=\"shots_on_target\">5</td><td class=\"right\" data-stat=\"shots_on_target_pct\">55.6</td><td class=\"right\" data-stat=\"shots_total_per90\">1.13</td><td class=\"right\" data-stat=\"shots_on_target_per90\">0.63</td><td class=\"right\" data-stat=\"goals_per_shot\">0.11</td><td class=\"right\" data-stat=\"goals_per_shot_on_target\">0.20</td><td class=\"right\" data-stat=\"average_shot_distance\">17.2</td><td class=\"right iz\" data-stat=\"shots_free_kicks\">0</td><td class=\"right\" data-stat=\"pens_made\">1</td><td class=\"right\" data-stat=\"pens_att\">1</td><td class=\"right group_start\" data-stat=\"xg\">1.7</td><td class=\"right\" data-stat=\"npxg\">0.9</td><td class=\"right\" data-stat=\"npxg_per_shot\">0.10</td><td class=\"right plus\" data-stat=\"xg_net\">+0.3</td><td class=\"right plus\" data-stat=\"npxg_net\">+0.1</td><td class=\"left group_start\" data-stat=\"matches\"><a href=\"/en/players/d5dd5f1f/matchlogs/2020-2021/summary/Pierre-Emerick-Aubameyang-Match-Logs\">Matches</a></td></tr>,\n",
       " <tr><th class=\"left\" csk=\"Dos Santos, Gabriel\" data-append-csv=\"Gabriel-Dos-Santos\" data-stat=\"player\" scope=\"row\"><a href=\"/en/players/67ac5bb8/Gabriel-Dos-Santos\">Gabriel Dos Santos</a></th><td class=\"left poptip\" data-stat=\"nationality\" data-tip=\"YNT\"><a href=\"/en/country/BRA/Brazil-Football\"><span style=\"white-space: nowrap\"><span class=\"f-i f-br\">br</span> BRA</span></a></td><td class=\"center\" csk=\"2.0\" data-stat=\"position\">DF</td><td class=\"center\" data-stat=\"age\">22-332</td><td class=\"right\" data-stat=\"minutes_90s\">7.0</td><td class=\"right group_start\" data-stat=\"goals\">1</td><td class=\"right\" data-stat=\"shots_total\">5</td><td class=\"right\" data-stat=\"shots_on_target\">1</td><td class=\"right\" data-stat=\"shots_on_target_pct\">20.0</td><td class=\"right\" data-stat=\"shots_total_per90\">0.71</td><td class=\"right\" data-stat=\"shots_on_target_per90\">0.14</td><td class=\"right\" data-stat=\"goals_per_shot\">0.20</td><td class=\"right\" data-stat=\"goals_per_shot_on_target\">1.00</td><td class=\"right\" data-stat=\"average_shot_distance\">10.2</td><td class=\"right iz\" data-stat=\"shots_free_kicks\">0</td><td class=\"right iz\" data-stat=\"pens_made\">0</td><td class=\"right iz\" data-stat=\"pens_att\">0</td><td class=\"right group_start\" data-stat=\"xg\">0.3</td><td class=\"right\" data-stat=\"npxg\">0.3</td><td class=\"right\" data-stat=\"npxg_per_shot\">0.07</td><td class=\"right plus\" data-stat=\"xg_net\">+0.7</td><td class=\"right plus\" data-stat=\"npxg_net\">+0.7</td><td class=\"left group_start\" data-stat=\"matches\"><a href=\"/en/players/67ac5bb8/matchlogs/2020-2021/summary/Gabriel-Dos-Santos-Match-Logs\">Matches</a></td></tr>,\n",
       " <tr><th class=\"left\" csk=\"Tierney, Kieran\" data-append-csv=\"Kieran-Tierney\" data-stat=\"player\" scope=\"row\"><a href=\"/en/players/fce2302c/Kieran-Tierney\">Kieran Tierney</a></th><td class=\"left poptip\" data-stat=\"nationality\" data-tip=\"NT\"><a href=\"/en/country/SCO/Scotland-Football\"><span style=\"white-space: nowrap\"><span class=\"f-i f-gb-sco\">sco</span> SCO</span></a></td><td class=\"center\" csk=\"2.0\" data-stat=\"position\">DF</td><td class=\"center\" data-stat=\"age\">23-163</td><td class=\"right\" data-stat=\"minutes_90s\">6.9</td><td class=\"right iz group_start\" data-stat=\"goals\">0</td><td class=\"right\" data-stat=\"shots_total\">3</td><td class=\"right iz\" data-stat=\"shots_on_target\">0</td><td class=\"right\" data-stat=\"shots_on_target_pct\">0.0</td><td class=\"right\" data-stat=\"shots_total_per90\">0.44</td><td class=\"right\" data-stat=\"shots_on_target_per90\">0.00</td><td class=\"right\" data-stat=\"goals_per_shot\">0.00</td><td class=\"right iz\" data-stat=\"goals_per_shot_on_target\"></td><td class=\"right\" data-stat=\"average_shot_distance\">26.1</td><td class=\"right iz\" data-stat=\"shots_free_kicks\">0</td><td class=\"right iz\" data-stat=\"pens_made\">0</td><td class=\"right iz\" data-stat=\"pens_att\">0</td><td class=\"right group_start\" data-stat=\"xg\">0.1</td><td class=\"right\" data-stat=\"npxg\">0.1</td><td class=\"right\" data-stat=\"npxg_per_shot\">0.03</td><td class=\"right minus\" data-stat=\"xg_net\">-0.1</td><td class=\"right minus\" data-stat=\"npxg_net\">-0.1</td><td class=\"left group_start\" data-stat=\"matches\"><a href=\"/en/players/fce2302c/matchlogs/2020-2021/summary/Kieran-Tierney-Match-Logs\">Matches</a></td></tr>,\n",
       " <tr><th class=\"left\" csk=\"Willian\" data-append-csv=\"Willian\" data-stat=\"player\" scope=\"row\"><a href=\"/en/players/8b9ebd03/Willian\">Willian</a></th><td class=\"left poptip\" data-stat=\"nationality\" data-tip=\"NT\"><a href=\"/en/country/BRA/Brazil-Football\"><span style=\"white-space: nowrap\"><span class=\"f-i f-br\">br</span> BRA</span></a></td><td class=\"center\" csk=\"4.0\" data-stat=\"position\">FW</td><td class=\"center\" data-stat=\"age\">32-098</td><td class=\"right\" data-stat=\"minutes_90s\">5.7</td><td class=\"right iz group_start\" data-stat=\"goals\">0</td><td class=\"right\" data-stat=\"shots_total\">5</td><td class=\"right\" data-stat=\"shots_on_target\">1</td><td class=\"right\" data-stat=\"shots_on_target_pct\">20.0</td><td class=\"right\" data-stat=\"shots_total_per90\">0.88</td><td class=\"right\" data-stat=\"shots_on_target_per90\">0.18</td><td class=\"right\" data-stat=\"goals_per_shot\">0.00</td><td class=\"right\" data-stat=\"goals_per_shot_on_target\">0.00</td><td class=\"right\" data-stat=\"average_shot_distance\">14.0</td><td class=\"right\" data-stat=\"shots_free_kicks\">1</td><td class=\"right iz\" data-stat=\"pens_made\">0</td><td class=\"right iz\" data-stat=\"pens_att\">0</td><td class=\"right group_start\" data-stat=\"xg\">0.9</td><td class=\"right\" data-stat=\"npxg\">0.9</td><td class=\"right\" data-stat=\"npxg_per_shot\">0.18</td><td class=\"right minus\" data-stat=\"xg_net\">-0.9</td><td class=\"right minus\" data-stat=\"npxg_net\">-0.9</td><td class=\"left group_start\" data-stat=\"matches\"><a href=\"/en/players/8b9ebd03/matchlogs/2020-2021/summary/Willian-Match-Logs\">Matches</a></td></tr>,\n",
       " <tr><th class=\"left\" csk=\"Saka, Bukayo\" data-append-csv=\"Bukayo-Saka\" data-stat=\"player\" scope=\"row\"><a href=\"/en/players/bc7dc64d/Bukayo-Saka\">Bukayo Saka</a></th><td class=\"left poptip\" data-stat=\"nationality\" data-tip=\"NT\"><a href=\"/en/country/ENG/England-Football\"><span style=\"white-space: nowrap\"><span class=\"f-i f-gb-eng\">eng</span> ENG</span></a></td><td class=\"center\" csk=\"2.3\" data-stat=\"position\">DF,MF</td><td class=\"center\" data-stat=\"age\">19-071</td><td class=\"right\" data-stat=\"minutes_90s\">5.6</td><td class=\"right group_start\" data-stat=\"goals\">1</td><td class=\"right\" data-stat=\"shots_total\">12</td><td class=\"right\" data-stat=\"shots_on_target\">5</td><td class=\"right\" data-stat=\"shots_on_target_pct\">41.7</td><td class=\"right\" data-stat=\"shots_total_per90\">2.13</td><td class=\"right\" data-stat=\"shots_on_target_per90\">0.89</td><td class=\"right\" data-stat=\"goals_per_shot\">0.08</td><td class=\"right\" data-stat=\"goals_per_shot_on_target\">0.20</td><td class=\"right\" data-stat=\"average_shot_distance\">14.1</td><td class=\"right iz\" data-stat=\"shots_free_kicks\">0</td><td class=\"right iz\" data-stat=\"pens_made\">0</td><td class=\"right iz\" data-stat=\"pens_att\">0</td><td class=\"right group_start\" data-stat=\"xg\">1.1</td><td class=\"right\" data-stat=\"npxg\">1.1</td><td class=\"right\" data-stat=\"npxg_per_shot\">0.09</td><td class=\"right minus\" data-stat=\"xg_net\">-0.1</td><td class=\"right minus\" data-stat=\"npxg_net\">-0.1</td><td class=\"left group_start\" data-stat=\"matches\"><a href=\"/en/players/bc7dc64d/matchlogs/2020-2021/summary/Bukayo-Saka-Match-Logs\">Matches</a></td></tr>,\n",
       " <tr><th class=\"left\" csk=\"Lacazette, Alexandre\" data-append-csv=\"Alexandre-Lacazette\" data-stat=\"player\" scope=\"row\"><a href=\"/en/players/9dbb75ca/Alexandre-Lacazette\">Alexandre Lacazette</a></th><td class=\"left poptip\" data-stat=\"nationality\" data-tip=\"NT\"><a href=\"/en/country/FRA/France-Football\"><span style=\"white-space: nowrap\"><span class=\"f-i f-fr\">fr</span> FRA</span></a></td><td class=\"center\" csk=\"4.0\" data-stat=\"position\">FW</td><td class=\"center\" data-stat=\"age\">29-171</td><td class=\"right\" data-stat=\"minutes_90s\">5.4</td><td class=\"right group_start\" data-stat=\"goals\">3</td><td class=\"right\" data-stat=\"shots_total\">9</td><td class=\"right\" data-stat=\"shots_on_target\">6</td><td class=\"right\" data-stat=\"shots_on_target_pct\">66.7</td><td class=\"right\" data-stat=\"shots_total_per90\">1.67</td><td class=\"right\" data-stat=\"shots_on_target_per90\">1.11</td><td class=\"right\" data-stat=\"goals_per_shot\">0.33</td><td class=\"right\" data-stat=\"goals_per_shot_on_target\">0.50</td><td class=\"right\" data-stat=\"average_shot_distance\">8.5</td><td class=\"right iz\" data-stat=\"shots_free_kicks\">0</td><td class=\"right iz\" data-stat=\"pens_made\">0</td><td class=\"right iz\" data-stat=\"pens_att\">0</td><td class=\"right group_start\" data-stat=\"xg\">2.2</td><td class=\"right\" data-stat=\"npxg\">2.2</td><td class=\"right\" data-stat=\"npxg_per_shot\">0.25</td><td class=\"right plus\" data-stat=\"xg_net\">+0.8</td><td class=\"right plus\" data-stat=\"npxg_net\">+0.8</td><td class=\"left group_start\" data-stat=\"matches\"><a href=\"/en/players/9dbb75ca/matchlogs/2020-2021/summary/Alexandre-Lacazette-Match-Logs\">Matches</a></td></tr>,\n",
       " <tr><th class=\"left\" csk=\"Elneny, Mohamed\" data-append-csv=\"Mohamed-Elneny\" data-stat=\"player\" scope=\"row\"><a href=\"/en/players/47a34c4f/Mohamed-Elneny\">Mohamed Elneny</a></th><td class=\"left poptip\" data-stat=\"nationality\" data-tip=\"NT\"><a href=\"/en/country/EGY/Egypt-Football\"><span style=\"white-space: nowrap\"><span class=\"f-i f-eg\">eg</span> EGY</span></a></td><td class=\"center\" csk=\"3.0\" data-stat=\"position\">MF</td><td class=\"center\" data-stat=\"age\">28-127</td><td class=\"right\" data-stat=\"minutes_90s\">5.0</td><td class=\"right iz group_start\" data-stat=\"goals\">0</td><td class=\"right\" data-stat=\"shots_total\">3</td><td class=\"right iz\" data-stat=\"shots_on_target\">0</td><td class=\"right\" data-stat=\"shots_on_target_pct\">0.0</td><td class=\"right\" data-stat=\"shots_total_per90\">0.60</td><td class=\"right\" data-stat=\"shots_on_target_per90\">0.00</td><td class=\"right\" data-stat=\"goals_per_shot\">0.00</td><td class=\"right iz\" data-stat=\"goals_per_shot_on_target\"></td><td class=\"right\" data-stat=\"average_shot_distance\">18.3</td><td class=\"right iz\" data-stat=\"shots_free_kicks\">0</td><td class=\"right iz\" data-stat=\"pens_made\">0</td><td class=\"right iz\" data-stat=\"pens_att\">0</td><td class=\"right group_start\" data-stat=\"xg\">0.3</td><td class=\"right\" data-stat=\"npxg\">0.3</td><td class=\"right\" data-stat=\"npxg_per_shot\">0.11</td><td class=\"right minus\" data-stat=\"xg_net\">-0.3</td><td class=\"right minus\" data-stat=\"npxg_net\">-0.3</td><td class=\"left group_start\" data-stat=\"matches\"><a href=\"/en/players/47a34c4f/matchlogs/2020-2021/summary/Mohamed-Elneny-Match-Logs\">Matches</a></td></tr>,\n",
       " <tr><th class=\"left\" csk=\"Holding, Rob\" data-append-csv=\"Rob-Holding\" data-stat=\"player\" scope=\"row\"><a href=\"/en/players/d79a8c87/Rob-Holding\">Rob Holding</a></th><td class=\"left poptip\" data-stat=\"nationality\" data-tip=\"YNT\"><a href=\"/en/country/ENG/England-Football\"><span style=\"white-space: nowrap\"><span class=\"f-i f-gb-eng\">eng</span> ENG</span></a></td><td class=\"center\" csk=\"2.0\" data-stat=\"position\">DF</td><td class=\"center\" data-stat=\"age\">25-056</td><td class=\"right\" data-stat=\"minutes_90s\">5.0</td><td class=\"right iz group_start\" data-stat=\"goals\">0</td><td class=\"right\" data-stat=\"shots_total\">1</td><td class=\"right iz\" data-stat=\"shots_on_target\">0</td><td class=\"right\" data-stat=\"shots_on_target_pct\">0.0</td><td class=\"right\" data-stat=\"shots_total_per90\">0.20</td><td class=\"right\" data-stat=\"shots_on_target_per90\">0.00</td><td class=\"right\" data-stat=\"goals_per_shot\">0.00</td><td class=\"right iz\" data-stat=\"goals_per_shot_on_target\"></td><td class=\"right\" data-stat=\"average_shot_distance\">9.0</td><td class=\"right iz\" data-stat=\"shots_free_kicks\">0</td><td class=\"right iz\" data-stat=\"pens_made\">0</td><td class=\"right iz\" data-stat=\"pens_att\">0</td><td class=\"right group_start\" data-stat=\"xg\">0.2</td><td class=\"right\" data-stat=\"npxg\">0.2</td><td class=\"right\" data-stat=\"npxg_per_shot\">0.21</td><td class=\"right minus\" data-stat=\"xg_net\">-0.2</td><td class=\"right minus\" data-stat=\"npxg_net\">-0.2</td><td class=\"left group_start\" data-stat=\"matches\"><a href=\"/en/players/d79a8c87/matchlogs/2020-2021/summary/Rob-Holding-Match-Logs\">Matches</a></td></tr>,\n",
       " <tr><th class=\"left\" csk=\"Xhaka, Granit\" data-append-csv=\"Granit-Xhaka\" data-stat=\"player\" scope=\"row\"><a href=\"/en/players/e61b8aee/Granit-Xhaka\">Granit Xhaka</a></th><td class=\"left poptip\" data-stat=\"nationality\" data-tip=\"NT\"><a href=\"/en/country/SUI/Switzerland-Football\"><span style=\"white-space: nowrap\"><span class=\"f-i f-ch\">ch</span> SUI</span></a></td><td class=\"center\" csk=\"2.5\" data-stat=\"position\">MF,DF</td><td class=\"center\" data-stat=\"age\">28-049</td><td class=\"right\" data-stat=\"minutes_90s\">4.5</td><td class=\"right iz group_start\" data-stat=\"goals\">0</td><td class=\"right\" data-stat=\"shots_total\">5</td><td class=\"right iz\" data-stat=\"shots_on_target\">0</td><td class=\"right\" data-stat=\"shots_on_target_pct\">0.0</td><td class=\"right\" data-stat=\"shots_total_per90\">1.10</td><td class=\"right\" data-stat=\"shots_on_target_per90\">0.00</td><td class=\"right\" data-stat=\"goals_per_shot\">0.00</td><td class=\"right iz\" data-stat=\"goals_per_shot_on_target\"></td><td class=\"right\" data-stat=\"average_shot_distance\">22.3</td><td class=\"right\" data-stat=\"shots_free_kicks\">2</td><td class=\"right iz\" data-stat=\"pens_made\">0</td><td class=\"right iz\" data-stat=\"pens_att\">0</td><td class=\"right group_start\" data-stat=\"xg\">0.3</td><td class=\"right\" data-stat=\"npxg\">0.3</td><td class=\"right\" data-stat=\"npxg_per_shot\">0.06</td><td class=\"right minus\" data-stat=\"xg_net\">-0.3</td><td class=\"right minus\" data-stat=\"npxg_net\">-0.3</td><td class=\"left group_start\" data-stat=\"matches\"><a href=\"/en/players/e61b8aee/matchlogs/2020-2021/summary/Granit-Xhaka-Match-Logs\">Matches</a></td></tr>,\n",
       " <tr><th class=\"left\" csk=\"Ceballos, Dani\" data-append-csv=\"Dani-Ceballos\" data-stat=\"player\" scope=\"row\"><a href=\"/en/players/c0617e2b/Dani-Ceballos\">Dani Ceballos</a></th><td class=\"left poptip\" data-stat=\"nationality\" data-tip=\"NT\"><a href=\"/en/country/ESP/Spain-Football\"><span style=\"white-space: nowrap\"><span class=\"f-i f-es\">es</span> ESP</span></a></td><td class=\"center\" csk=\"3.0\" data-stat=\"position\">MF</td><td class=\"center\" data-stat=\"age\">24-100</td><td class=\"right\" data-stat=\"minutes_90s\">4.9</td><td class=\"right iz group_start\" data-stat=\"goals\">0</td><td class=\"right\" data-stat=\"shots_total\">1</td><td class=\"right iz\" data-stat=\"shots_on_target\">0</td><td class=\"right\" data-stat=\"shots_on_target_pct\">0.0</td><td class=\"right\" data-stat=\"shots_total_per90\">0.21</td><td class=\"right\" data-stat=\"shots_on_target_per90\">0.00</td><td class=\"right\" data-stat=\"goals_per_shot\">0.00</td><td class=\"right iz\" data-stat=\"goals_per_shot_on_target\"></td><td class=\"right\" data-stat=\"average_shot_distance\">26.2</td><td class=\"right iz\" data-stat=\"shots_free_kicks\">0</td><td class=\"right iz\" data-stat=\"pens_made\">0</td><td class=\"right iz\" data-stat=\"pens_att\">0</td><td class=\"right group_start\" data-stat=\"xg\">0.0</td><td class=\"right\" data-stat=\"npxg\">0.0</td><td class=\"right\" data-stat=\"npxg_per_shot\">0.03</td><td class=\"right\" data-stat=\"xg_net\">0.0</td><td class=\"right\" data-stat=\"npxg_net\">0.0</td><td class=\"left group_start\" data-stat=\"matches\"><a href=\"/en/players/c0617e2b/matchlogs/2020-2021/summary/Dani-Ceballos-Match-Logs\">Matches</a></td></tr>,\n",
       " <tr><th class=\"left\" csk=\"Luiz, David\" data-append-csv=\"David-Luiz\" data-stat=\"player\" scope=\"row\"><a href=\"/en/players/c0e27d1a/David-Luiz\">David Luiz</a></th><td class=\"left poptip\" data-stat=\"nationality\" data-tip=\"NT\"><a href=\"/en/country/BRA/Brazil-Football\"><span style=\"white-space: nowrap\"><span class=\"f-i f-br\">br</span> BRA</span></a></td><td class=\"center\" csk=\"2.0\" data-stat=\"position\">DF</td><td class=\"center\" data-stat=\"age\">33-207</td><td class=\"right\" data-stat=\"minutes_90s\">3.6</td><td class=\"right iz group_start\" data-stat=\"goals\">0</td><td class=\"right\" data-stat=\"shots_total\">2</td><td class=\"right iz\" data-stat=\"shots_on_target\">0</td><td class=\"right\" data-stat=\"shots_on_target_pct\">0.0</td><td class=\"right\" data-stat=\"shots_total_per90\">0.56</td><td class=\"right\" data-stat=\"shots_on_target_per90\">0.00</td><td class=\"right\" data-stat=\"goals_per_shot\">0.00</td><td class=\"right iz\" data-stat=\"goals_per_shot_on_target\"></td><td class=\"right\" data-stat=\"average_shot_distance\">25.7</td><td class=\"right\" data-stat=\"shots_free_kicks\">1</td><td class=\"right iz\" data-stat=\"pens_made\">0</td><td class=\"right iz\" data-stat=\"pens_att\">0</td><td class=\"right group_start\" data-stat=\"xg\">0.1</td><td class=\"right\" data-stat=\"npxg\">0.1</td><td class=\"right\" data-stat=\"npxg_per_shot\">0.05</td><td class=\"right minus\" data-stat=\"xg_net\">-0.1</td><td class=\"right minus\" data-stat=\"npxg_net\">-0.1</td><td class=\"left group_start\" data-stat=\"matches\"><a href=\"/en/players/c0e27d1a/matchlogs/2020-2021/summary/David-Luiz-Match-Logs\">Matches</a></td></tr>,\n",
       " <tr><th class=\"left\" csk=\"Partey, Thomas\" data-append-csv=\"Thomas-Partey\" data-stat=\"player\" scope=\"row\"><a href=\"/en/players/529f49ab/Thomas-Partey\">Thomas Partey</a></th><td class=\"left poptip\" data-stat=\"nationality\" data-tip=\"NT\"><a href=\"/en/country/GHA/Ghana-Football\"><span style=\"white-space: nowrap\"><span class=\"f-i f-gh\">gh</span> GHA</span></a></td><td class=\"center\" csk=\"3.0\" data-stat=\"position\">MF</td><td class=\"center\" data-stat=\"age\">27-155</td><td class=\"right\" data-stat=\"minutes_90s\">2.6</td><td class=\"right iz group_start\" data-stat=\"goals\">0</td><td class=\"right\" data-stat=\"shots_total\">3</td><td class=\"right\" data-stat=\"shots_on_target\">2</td><td class=\"right\" data-stat=\"shots_on_target_pct\">66.7</td><td class=\"right\" data-stat=\"shots_total_per90\">1.16</td><td class=\"right\" data-stat=\"shots_on_target_per90\">0.77</td><td class=\"right\" data-stat=\"goals_per_shot\">0.00</td><td class=\"right\" data-stat=\"goals_per_shot_on_target\">0.00</td><td class=\"right\" data-stat=\"average_shot_distance\">19.4</td><td class=\"right iz\" data-stat=\"shots_free_kicks\">0</td><td class=\"right iz\" data-stat=\"pens_made\">0</td><td class=\"right iz\" data-stat=\"pens_att\">0</td><td class=\"right group_start\" data-stat=\"xg\">0.5</td><td class=\"right\" data-stat=\"npxg\">0.5</td><td class=\"right\" data-stat=\"npxg_per_shot\">0.15</td><td class=\"right minus\" data-stat=\"xg_net\">-0.5</td><td class=\"right minus\" data-stat=\"npxg_net\">-0.5</td><td class=\"left group_start\" data-stat=\"matches\"><a href=\"/en/players/529f49ab/matchlogs/2020-2021/summary/Thomas-Partey-Match-Logs\">Matches</a></td></tr>,\n",
       " <tr><th class=\"left\" csk=\"Maitland-Niles, Ainsley\" data-append-csv=\"Ainsley-Maitland-Niles\" data-stat=\"player\" scope=\"row\"><a href=\"/en/players/e3a5814e/Ainsley-Maitland-Niles\">Ainsley Maitland-Niles</a></th><td class=\"left poptip\" data-stat=\"nationality\" data-tip=\"NT\"><a href=\"/en/country/ENG/England-Football\"><span style=\"white-space: nowrap\"><span class=\"f-i f-gb-eng\">eng</span> ENG</span></a></td><td class=\"center\" csk=\"2.0\" data-stat=\"position\">DF</td><td class=\"center\" data-stat=\"age\">23-078</td><td class=\"right\" data-stat=\"minutes_90s\">2.1</td><td class=\"right iz group_start\" data-stat=\"goals\">0</td><td class=\"right\" data-stat=\"shots_total\">1</td><td class=\"right iz\" data-stat=\"shots_on_target\">0</td><td class=\"right\" data-stat=\"shots_on_target_pct\">0.0</td><td class=\"right\" data-stat=\"shots_total_per90\">0.48</td><td class=\"right\" data-stat=\"shots_on_target_per90\">0.00</td><td class=\"right\" data-stat=\"goals_per_shot\">0.00</td><td class=\"right iz\" data-stat=\"goals_per_shot_on_target\"></td><td class=\"right\" data-stat=\"average_shot_distance\">19.9</td><td class=\"right iz\" data-stat=\"shots_free_kicks\">0</td><td class=\"right iz\" data-stat=\"pens_made\">0</td><td class=\"right iz\" data-stat=\"pens_att\">0</td><td class=\"right group_start\" data-stat=\"xg\">0.0</td><td class=\"right\" data-stat=\"npxg\">0.0</td><td class=\"right\" data-stat=\"npxg_per_shot\">0.03</td><td class=\"right\" data-stat=\"xg_net\">0.0</td><td class=\"right\" data-stat=\"npxg_net\">0.0</td><td class=\"left group_start\" data-stat=\"matches\"><a href=\"/en/players/e3a5814e/matchlogs/2020-2021/summary/Ainsley-Maitland-Niles-Match-Logs\">Matches</a></td></tr>,\n",
       " <tr><th class=\"left\" csk=\"Pépé, Nicolas\" data-append-csv=\"Nicolas-Pepe\" data-stat=\"player\" scope=\"row\"><a href=\"/en/players/57e3f0c7/Nicolas-Pepe\">Nicolas Pépé</a></th><td class=\"left poptip\" data-stat=\"nationality\" data-tip=\"NT\"><a href=\"/en/country/CIV/Cote-dIvoire-Football\"><span style=\"white-space: nowrap\"><span class=\"f-i f-ci\">ci</span> CIV</span></a></td><td class=\"center\" csk=\"3.5\" data-stat=\"position\">FW,MF</td><td class=\"center\" data-stat=\"age\">25-170</td><td class=\"right\" data-stat=\"minutes_90s\">2.6</td><td class=\"right group_start\" data-stat=\"goals\">1</td><td class=\"right\" data-stat=\"shots_total\">7</td><td class=\"right\" data-stat=\"shots_on_target\">3</td><td class=\"right\" data-stat=\"shots_on_target_pct\">42.9</td><td class=\"right\" data-stat=\"shots_total_per90\">2.72</td><td class=\"right\" data-stat=\"shots_on_target_per90\">1.16</td><td class=\"right\" data-stat=\"goals_per_shot\">0.14</td><td class=\"right\" data-stat=\"goals_per_shot_on_target\">0.33</td><td class=\"right\" data-stat=\"average_shot_distance\">16.9</td><td class=\"right\" data-stat=\"shots_free_kicks\">1</td><td class=\"right iz\" data-stat=\"pens_made\">0</td><td class=\"right iz\" data-stat=\"pens_att\">0</td><td class=\"right group_start\" data-stat=\"xg\">0.7</td><td class=\"right\" data-stat=\"npxg\">0.7</td><td class=\"right\" data-stat=\"npxg_per_shot\">0.10</td><td class=\"right plus\" data-stat=\"xg_net\">+0.3</td><td class=\"right plus\" data-stat=\"npxg_net\">+0.3</td><td class=\"left group_start\" data-stat=\"matches\"><a href=\"/en/players/57e3f0c7/matchlogs/2020-2021/summary/Nicolas-Pepe-Match-Logs\">Matches</a></td></tr>,\n",
       " <tr><th class=\"left\" csk=\"Nketiah, Eddie\" data-append-csv=\"Eddie-Nketiah\" data-stat=\"player\" scope=\"row\"><a href=\"/en/players/a53649b7/Eddie-Nketiah\">Eddie Nketiah</a></th><td class=\"left poptip\" data-stat=\"nationality\" data-tip=\"YNT\"><a href=\"/en/country/ENG/England-Football\"><span style=\"white-space: nowrap\"><span class=\"f-i f-gb-eng\">eng</span> ENG</span></a></td><td class=\"center\" csk=\"4.0\" data-stat=\"position\">FW</td><td class=\"center\" data-stat=\"age\">21-169</td><td class=\"right\" data-stat=\"minutes_90s\">1.7</td><td class=\"right group_start\" data-stat=\"goals\">1</td><td class=\"right\" data-stat=\"shots_total\">3</td><td class=\"right\" data-stat=\"shots_on_target\">2</td><td class=\"right\" data-stat=\"shots_on_target_pct\">66.7</td><td class=\"right\" data-stat=\"shots_total_per90\">1.78</td><td class=\"right\" data-stat=\"shots_on_target_per90\">1.18</td><td class=\"right\" data-stat=\"goals_per_shot\">0.33</td><td class=\"right\" data-stat=\"goals_per_shot_on_target\">0.50</td><td class=\"right\" data-stat=\"average_shot_distance\">10.0</td><td class=\"right iz\" data-stat=\"shots_free_kicks\">0</td><td class=\"right iz\" data-stat=\"pens_made\">0</td><td class=\"right iz\" data-stat=\"pens_att\">0</td><td class=\"right group_start\" data-stat=\"xg\">1.0</td><td class=\"right\" data-stat=\"npxg\">1.0</td><td class=\"right\" data-stat=\"npxg_per_shot\">0.32</td><td class=\"right\" data-stat=\"xg_net\">0.0</td><td class=\"right\" data-stat=\"npxg_net\">0.0</td><td class=\"left group_start\" data-stat=\"matches\"><a href=\"/en/players/a53649b7/matchlogs/2020-2021/summary/Eddie-Nketiah-Match-Logs\">Matches</a></td></tr>,\n",
       " <tr><th class=\"left\" csk=\"Kolašinac, Sead\" data-append-csv=\"Sead-Kolasinac\" data-stat=\"player\" scope=\"row\"><a href=\"/en/players/3935e52e/Sead-Kolasinac\">Sead Kolašinac</a></th><td class=\"left poptip\" data-stat=\"nationality\" data-tip=\"NT\"><a href=\"/en/country/BIH/Bosnia-and-Herzegovina-Football\"><span style=\"white-space: nowrap\"><span class=\"f-i f-ba\">ba</span> BIH</span></a></td><td class=\"center\" csk=\"2.0\" data-stat=\"position\">DF</td><td class=\"center\" data-stat=\"age\">27-148</td><td class=\"right\" data-stat=\"minutes_90s\">1.0</td><td class=\"right iz group_start\" data-stat=\"goals\">0</td><td class=\"right iz\" data-stat=\"shots_total\">0</td><td class=\"right iz\" data-stat=\"shots_on_target\">0</td><td class=\"right iz\" data-stat=\"shots_on_target_pct\"></td><td class=\"right\" data-stat=\"shots_total_per90\">0.00</td><td class=\"right\" data-stat=\"shots_on_target_per90\">0.00</td><td class=\"right iz\" data-stat=\"goals_per_shot\"></td><td class=\"right iz\" data-stat=\"goals_per_shot_on_target\"></td><td class=\"right iz\" data-stat=\"average_shot_distance\"></td><td class=\"right iz\" data-stat=\"shots_free_kicks\">0</td><td class=\"right iz\" data-stat=\"pens_made\">0</td><td class=\"right iz\" data-stat=\"pens_att\">0</td><td class=\"right group_start\" data-stat=\"xg\">0.0</td><td class=\"right\" data-stat=\"npxg\">0.0</td><td class=\"right iz\" data-stat=\"npxg_per_shot\"></td><td class=\"right\" data-stat=\"xg_net\">0.0</td><td class=\"right\" data-stat=\"npxg_net\">0.0</td><td class=\"left group_start\" data-stat=\"matches\"><a href=\"/en/players/3935e52e/matchlogs/2020-2021/summary/Sead-Kolasinac-Match-Logs\">Matches</a></td></tr>,\n",
       " <tr><th class=\"left\" csk=\"Mustafi, Shkodran\" data-append-csv=\"Shkodran-Mustafi\" data-stat=\"player\" scope=\"row\"><a href=\"/en/players/3f2d59fe/Shkodran-Mustafi\">Shkodran Mustafi</a></th><td class=\"left poptip\" data-stat=\"nationality\" data-tip=\"NT\"><a href=\"/en/country/GER/Germany-Football\"><span style=\"white-space: nowrap\"><span class=\"f-i f-de\">de</span> GER</span></a></td><td class=\"center\" csk=\"2.0\" data-stat=\"position\">DF</td><td class=\"center\" data-stat=\"age\">28-212</td><td class=\"right\" data-stat=\"minutes_90s\">0.5</td><td class=\"right iz group_start\" data-stat=\"goals\">0</td><td class=\"right iz\" data-stat=\"shots_total\">0</td><td class=\"right iz\" data-stat=\"shots_on_target\">0</td><td class=\"right iz\" data-stat=\"shots_on_target_pct\"></td><td class=\"right\" data-stat=\"shots_total_per90\">0.00</td><td class=\"right\" data-stat=\"shots_on_target_per90\">0.00</td><td class=\"right iz\" data-stat=\"goals_per_shot\"></td><td class=\"right iz\" data-stat=\"goals_per_shot_on_target\"></td><td class=\"right iz\" data-stat=\"average_shot_distance\"></td><td class=\"right iz\" data-stat=\"shots_free_kicks\">0</td><td class=\"right iz\" data-stat=\"pens_made\">0</td><td class=\"right iz\" data-stat=\"pens_att\">0</td><td class=\"right group_start\" data-stat=\"xg\">0.0</td><td class=\"right\" data-stat=\"npxg\">0.0</td><td class=\"right iz\" data-stat=\"npxg_per_shot\"></td><td class=\"right\" data-stat=\"xg_net\">0.0</td><td class=\"right\" data-stat=\"npxg_net\">0.0</td><td class=\"left group_start\" data-stat=\"matches\"><a href=\"/en/players/3f2d59fe/matchlogs/2020-2021/summary/Shkodran-Mustafi-Match-Logs\">Matches</a></td></tr>]"
      ]
     },
     "execution_count": 12,
     "metadata": {},
     "output_type": "execute_result"
    }
   ],
   "source": [
    "BeautifulSoup(shooting.contents[5]).find_all(\"tr\")[2:-2]"
   ]
  },
  {
   "cell_type": "code",
   "execution_count": 13,
   "metadata": {},
   "outputs": [],
   "source": [
    "shooting = BeautifulSoup(shooting.contents[5]).find_all(\"tr\")[2:-2]"
   ]
  },
  {
   "cell_type": "code",
   "execution_count": 14,
   "metadata": {},
   "outputs": [],
   "source": [
    "import collections\n",
    "\n",
    "ShootingStats = collections.namedtuple(\n",
    "    'ShootingStats', \n",
    "    'name profile_url nationality position age minutes_90s goals shots_total shots_on_target \\\n",
    "    shots_on_target_pct shots_total_per90 goals_per_shot goals_per_shot_on_target \\\n",
    "    shots_free_kicks pens_made pens_att xg npxg npxg_per_shot xg_net npxg_net')"
   ]
  },
  {
   "cell_type": "code",
   "execution_count": 15,
   "metadata": {},
   "outputs": [
    {
     "data": {
      "text/plain": [
       "<tr><th class=\"left\" csk=\"Mustafi, Shkodran\" data-append-csv=\"Shkodran-Mustafi\" data-stat=\"player\" scope=\"row\"><a href=\"/en/players/3f2d59fe/Shkodran-Mustafi\">Shkodran Mustafi</a></th><td class=\"left poptip\" data-stat=\"nationality\" data-tip=\"NT\"><a href=\"/en/country/GER/Germany-Football\"><span style=\"white-space: nowrap\"><span class=\"f-i f-de\">de</span> GER</span></a></td><td class=\"center\" csk=\"2.0\" data-stat=\"position\">DF</td><td class=\"center\" data-stat=\"age\">28-212</td><td class=\"right\" data-stat=\"minutes_90s\">0.5</td><td class=\"right iz group_start\" data-stat=\"goals\">0</td><td class=\"right iz\" data-stat=\"shots_total\">0</td><td class=\"right iz\" data-stat=\"shots_on_target\">0</td><td class=\"right iz\" data-stat=\"shots_on_target_pct\"></td><td class=\"right\" data-stat=\"shots_total_per90\">0.00</td><td class=\"right\" data-stat=\"shots_on_target_per90\">0.00</td><td class=\"right iz\" data-stat=\"goals_per_shot\"></td><td class=\"right iz\" data-stat=\"goals_per_shot_on_target\"></td><td class=\"right iz\" data-stat=\"average_shot_distance\"></td><td class=\"right iz\" data-stat=\"shots_free_kicks\">0</td><td class=\"right iz\" data-stat=\"pens_made\">0</td><td class=\"right iz\" data-stat=\"pens_att\">0</td><td class=\"right group_start\" data-stat=\"xg\">0.0</td><td class=\"right\" data-stat=\"npxg\">0.0</td><td class=\"right iz\" data-stat=\"npxg_per_shot\"></td><td class=\"right\" data-stat=\"xg_net\">0.0</td><td class=\"right\" data-stat=\"npxg_net\">0.0</td><td class=\"left group_start\" data-stat=\"matches\"><a href=\"/en/players/3f2d59fe/matchlogs/2020-2021/summary/Shkodran-Mustafi-Match-Logs\">Matches</a></td></tr>"
      ]
     },
     "execution_count": 15,
     "metadata": {},
     "output_type": "execute_result"
    }
   ],
   "source": [
    "shooting[-1]"
   ]
  },
  {
   "cell_type": "code",
   "execution_count": 16,
   "metadata": {},
   "outputs": [
    {
     "data": {
      "text/plain": [
       "'/en/players/f874dd44/Hector-Bellerin'"
      ]
     },
     "execution_count": 16,
     "metadata": {},
     "output_type": "execute_result"
    }
   ],
   "source": [
    "shooting[0].find(\"a\").attrs[\"href\"]"
   ]
  },
  {
   "cell_type": "code",
   "execution_count": 17,
   "metadata": {},
   "outputs": [],
   "source": [
    "@typed\n",
    "def extract_shooting_stats(shooting: list) -> list:\n",
    "    shooting_stats = []\n",
    "    for stat in shooting:\n",
    "        shooting_stats.append(ShootingStats(\n",
    "            name=(stat.find(\"th\").text),\n",
    "            profile_url=f'https://fbref.com{stat.find(\"a\").attrs[\"href\"]}',\n",
    "            nationality=stat.find(attrs={\"data-stat\": \"nationality\"}).text.split(\" \"),\n",
    "            position=stat.find(attrs={\"data-stat\": \"position\"}).text,\n",
    "            age=format_age(stat.find(attrs={\"data-stat\": \"age\"}).text),\n",
    "            minutes_90s=float(stat.find(attrs={\"data-stat\": \"minutes_90s\"}).text),\n",
    "            goals=int(stat.find(attrs={\"data-stat\": \"goals\"}).text),\n",
    "            shots_total=int(stat.find(attrs={\"data-stat\": \"shots_total\"}).text),\n",
    "            shots_on_target=int(stat.find(attrs={\"data-stat\": \"shots_on_target\"}).text),\n",
    "            shots_on_target_pct=to_float(stat.find(attrs={\"data-stat\": \"shots_on_target_pct\"}).text),\n",
    "            shots_total_per90=to_float(stat.find(attrs={\"data-stat\": \"shots_total_per90\"}).text),\n",
    "            goals_per_shot=to_float(stat.find(attrs={\"data-stat\": \"goals_per_shot\"}).text),\n",
    "            goals_per_shot_on_target=to_float(stat.find(attrs={\"data-stat\": \"goals_per_shot_on_target\"}).text),\n",
    "            shots_free_kicks=to_float(stat.find(attrs={\"data-stat\": \"shots_free_kicks\"}).text),\n",
    "            pens_made=int(stat.find(attrs={\"data-stat\": \"pens_made\"}).text),\n",
    "            pens_att=int(stat.find(attrs={\"data-stat\": \"pens_att\"}).text),\n",
    "            xg=to_float(stat.find(attrs={\"data-stat\": \"xg\"}).text),\n",
    "            npxg=to_float(stat.find(attrs={\"data-stat\": \"npxg\"}).text),\n",
    "            npxg_per_shot=to_float(stat.find(attrs={\"data-stat\": \"npxg_per_shot\"}).text),\n",
    "            xg_net=stat.find(attrs={\"data-stat\": \"xg_net\"}).text,\n",
    "            npxg_net=stat.find(attrs={\"data-stat\": \"npxg_net\"}).text\n",
    "        ))\n",
    "    return shooting_stats"
   ]
  },
  {
   "cell_type": "code",
   "execution_count": 19,
   "metadata": {},
   "outputs": [
    {
     "data": {
      "text/plain": [
       "ShootingStats(name='Héctor Bellerín', profile_url='https://fbref.com/en/players/f874dd44/Hector-Bellerin', nationality=['es', 'ESP'], position='DF', age='25 years and 241 days', minutes_90s=8.0, goals=0, shots_total=2, shots_on_target=1, shots_on_target_pct=50.0, shots_total_per90=0.25, goals_per_shot=0.0, goals_per_shot_on_target=0.0, shots_free_kicks=0.0, pens_made=0, pens_att=0, xg=0.1, npxg=0.1, npxg_per_shot=0.04, xg_net='-0.1', npxg_net='-0.1')"
      ]
     },
     "execution_count": 19,
     "metadata": {},
     "output_type": "execute_result"
    }
   ],
   "source": [
    "extract_shooting_stats(shooting=shooting)[0]"
   ]
  },
  {
   "cell_type": "markdown",
   "metadata": {},
   "source": [
    "### Passing Stats"
   ]
  },
  {
   "cell_type": "code",
   "execution_count": 20,
   "metadata": {},
   "outputs": [],
   "source": [
    "passing = BeautifulSoup(liv_content.content).find(attrs={\"id\": \"all_stats_passing_10728\"})"
   ]
  },
  {
   "cell_type": "code",
   "execution_count": 21,
   "metadata": {},
   "outputs": [
    {
     "data": {
      "text/plain": [
       "20"
      ]
     },
     "execution_count": 21,
     "metadata": {},
     "output_type": "execute_result"
    }
   ],
   "source": [
    "len(BeautifulSoup(passing.contents[5]).find_all(\"tr\")[2:-1])"
   ]
  },
  {
   "cell_type": "code",
   "execution_count": 22,
   "metadata": {},
   "outputs": [],
   "source": [
    "passing = BeautifulSoup(passing.contents[5]).find_all(\"tr\")[2:-2]"
   ]
  },
  {
   "cell_type": "code",
   "execution_count": 23,
   "metadata": {},
   "outputs": [],
   "source": [
    "PassingStats = collections.namedtuple(\n",
    "    'PassingStats',\n",
    "    'name passes_completed passes passes_pct passes_total_distance passes_progressive_distance \\\n",
    "    passes_completed_short passes_short passes_pct_short passes_completed_medium passes_medium \\\n",
    "    passes_pct_medium passes_completed_long passes_long passes_pct_long assists xa xa_net assisted_shots \\\n",
    "    passes_into_final_third passes_into_penalty_area crosses_into_penalty_area progressive_passes'\n",
    ")"
   ]
  },
  {
   "cell_type": "code",
   "execution_count": 24,
   "metadata": {},
   "outputs": [],
   "source": [
    "@typed\n",
    "def extract_passing_stats(passing: list) -> list:\n",
    "    passing_stats = []\n",
    "    for stat in passing:\n",
    "        passing_stats.append(\n",
    "            PassingStats(\n",
    "                name=stat.find(\"th\").text,\n",
    "                passes_completed=int(stat.find(attrs={\"data-stat\": \"passes_completed\"}).text),\n",
    "                passes=int(stat.find(attrs={\"data-stat\": \"passes\"}).text),\n",
    "                passes_pct=to_float(stat.find(attrs={\"data-stat\": \"passes_pct\"}).text),\n",
    "                passes_total_distance=to_float(stat.find(attrs={\"data-stat\": \"passes_total_distance\"}).text),\n",
    "                passes_progressive_distance=to_float(stat.find(attrs={\"data-stat\": \"passes_progressive_distance\"}).text),\n",
    "                passes_completed_short=int(stat.find(attrs={\"data-stat\": \"passes_completed_short\"}).text),\n",
    "                passes_short=int(stat.find(attrs={\"data-stat\": \"passes_short\"}).text),\n",
    "                passes_pct_short=to_float(stat.find(attrs={\"data-stat\": \"passes_pct_short\"}).text),\n",
    "                passes_completed_medium=int(stat.find(attrs={\"data-stat\": \"passes_completed_medium\"}).text),\n",
    "                passes_medium=int(stat.find(attrs={\"data-stat\": \"passes_medium\"}).text),\n",
    "                passes_pct_medium=to_float(stat.find(attrs={\"data-stat\": \"passes_pct_medium\"}).text),\n",
    "                passes_completed_long=int(stat.find(attrs={\"data-stat\": \"passes_completed_long\"}).text),\n",
    "                passes_long=int(stat.find(attrs={\"data-stat\": \"passes_long\"}).text),\n",
    "                passes_pct_long=to_float(stat.find(attrs={\"data-stat\": \"passes_pct_long\"}).text),\n",
    "                assists=int(stat.find(attrs={\"data-stat\": \"assists\"}).text),\n",
    "                xa=to_float(stat.find(attrs={\"data-stat\": \"xa\"}).text),\n",
    "                xa_net=stat.find(attrs={\"data-stat\": \"xa_net\"}).text,\n",
    "                assisted_shots=int(stat.find(attrs={\"data-stat\": \"assisted_shots\"}).text),\n",
    "                passes_into_final_third=int(stat.find(attrs={\"data-stat\": \"passes_into_final_third\"}).text),\n",
    "                passes_into_penalty_area=int(stat.find(attrs={\"data-stat\": \"passes_into_penalty_area\"}).text),\n",
    "                crosses_into_penalty_area=int(stat.find(attrs={\"data-stat\": \"crosses_into_penalty_area\"}).text),\n",
    "                progressive_passes=int(stat.find(attrs={\"data-stat\": \"progressive_passes\"}).text)\n",
    "            )\n",
    "        )\n",
    "    return passing_stats"
   ]
  },
  {
   "cell_type": "code",
   "execution_count": 25,
   "metadata": {},
   "outputs": [
    {
     "data": {
      "text/plain": [
       "PassingStats(name='Héctor Bellerín', passes_completed=368, passes=432, passes_pct=85.2, passes_total_distance=6600.0, passes_progressive_distance=1735.0, passes_completed_short=154, passes_short=176, passes_pct_short=87.5, passes_completed_medium=173, passes_medium=198, passes_pct_medium=87.4, passes_completed_long=33, passes_long=43, passes_pct_long=76.7, assists=2, xa=0.5, xa_net='+1.5', assisted_shots=4, passes_into_final_third=18, passes_into_penalty_area=10, crosses_into_penalty_area=4, progressive_passes=29)"
      ]
     },
     "execution_count": 25,
     "metadata": {},
     "output_type": "execute_result"
    }
   ],
   "source": [
    "extract_passing_stats(passing=passing)[0]"
   ]
  },
  {
   "cell_type": "markdown",
   "metadata": {},
   "source": [
    "### Extra Passing stats"
   ]
  },
  {
   "cell_type": "code",
   "execution_count": 26,
   "metadata": {},
   "outputs": [],
   "source": [
    "extra_passing = BeautifulSoup(liv_content.content).find(attrs={\"id\": \"all_stats_passing_types_10728\"})"
   ]
  },
  {
   "cell_type": "code",
   "execution_count": 27,
   "metadata": {},
   "outputs": [
    {
     "data": {
      "text/plain": [
       "20"
      ]
     },
     "execution_count": 27,
     "metadata": {},
     "output_type": "execute_result"
    }
   ],
   "source": [
    "len(BeautifulSoup(extra_passing.contents[5]).find_all(\"tr\")[2:-1])"
   ]
  },
  {
   "cell_type": "code",
   "execution_count": 28,
   "metadata": {},
   "outputs": [],
   "source": [
    "extra_passing = BeautifulSoup(extra_passing.contents[5]).find_all(\"tr\")[2:-2]"
   ]
  },
  {
   "cell_type": "code",
   "execution_count": 29,
   "metadata": {},
   "outputs": [],
   "source": [
    "ExtraPassingStats = collections.namedtuple(\n",
    "    'ExtraPassingStats',\n",
    "    'name passes_live passes_dead passes_free_kicks through_balls passes_pressure passes_switches\\\n",
    "    crosses corner_kicks corner_kicks_in corner_kicks_out corner_kicks_straight passes_ground\\\n",
    "    passes_low passes_high passes_left_foot passes_right_foot passes_head throw_ins passes_other_body\\\n",
    "    passes_completed passes_offsides passes_oob passes_intercepted passes_blocked'\n",
    ")"
   ]
  },
  {
   "cell_type": "code",
   "execution_count": 30,
   "metadata": {},
   "outputs": [],
   "source": [
    "@typed\n",
    "def extract_extra_passing_stats(extra_passing: list) -> list:\n",
    "    extra_passing_stats = []\n",
    "    for stat in extra_passing:\n",
    "        extra_passing_stats.append(\n",
    "            ExtraPassingStats(\n",
    "                name=stat.find(\"th\").text,\n",
    "                passes_live=int(stat.find(attrs={\"data-stat\": \"passes_live\"}).text),\n",
    "                passes_dead=int(stat.find(attrs={\"data-stat\": \"passes_dead\"}).text),\n",
    "                passes_free_kicks=int(stat.find(attrs={\"data-stat\": \"passes_free_kicks\"}).text),\n",
    "                through_balls=int(stat.find(attrs={\"data-stat\": \"through_balls\"}).text),\n",
    "                passes_pressure=int(stat.find(attrs={\"data-stat\": \"passes_pressure\"}).text),\n",
    "                passes_switches=int(stat.find(attrs={\"data-stat\": \"passes_switches\"}).text),\n",
    "                crosses=int(stat.find(attrs={\"data-stat\": \"crosses\"}).text),\n",
    "                corner_kicks=int(stat.find(attrs={\"data-stat\": \"corner_kicks\"}).text),\n",
    "                corner_kicks_in=int(stat.find(attrs={\"data-stat\": \"corner_kicks_in\"}).text),\n",
    "                corner_kicks_out=int(stat.find(attrs={\"data-stat\": \"corner_kicks_out\"}).text),\n",
    "                corner_kicks_straight=int(stat.find(attrs={\"data-stat\": \"corner_kicks_straight\"}).text),\n",
    "                passes_ground=int(stat.find(attrs={\"data-stat\": \"passes_ground\"}).text),\n",
    "                passes_low=int(stat.find(attrs={\"data-stat\": \"passes_low\"}).text),\n",
    "                passes_high=int(stat.find(attrs={\"data-stat\": \"passes_high\"}).text),\n",
    "                passes_left_foot=int(stat.find(attrs={\"data-stat\": \"passes_left_foot\"}).text),\n",
    "                passes_right_foot=int(stat.find(attrs={\"data-stat\": \"passes_right_foot\"}).text),\n",
    "                passes_head=int(stat.find(attrs={\"data-stat\": \"passes_head\"}).text),\n",
    "                throw_ins=int(stat.find(attrs={\"data-stat\": \"throw_ins\"}).text),\n",
    "                passes_other_body=int(stat.find(attrs={\"data-stat\": \"passes_other_body\"}).text),\n",
    "                passes_completed=int(stat.find(attrs={\"data-stat\": \"passes_completed\"}).text),\n",
    "                passes_offsides=int(stat.find(attrs={\"data-stat\": \"passes_offsides\"}).text),\n",
    "                passes_oob=int(stat.find(attrs={\"data-stat\": \"passes_oob\"}).text),\n",
    "                passes_intercepted=int(stat.find(attrs={\"data-stat\": \"passes_intercepted\"}).text),\n",
    "                passes_blocked=int(stat.find(attrs={\"data-stat\": \"passes_blocked\"}).text)\n",
    "            )\n",
    "        )\n",
    "    return extra_passing_stats"
   ]
  },
  {
   "cell_type": "code",
   "execution_count": 31,
   "metadata": {},
   "outputs": [
    {
     "data": {
      "text/plain": [
       "ExtraPassingStats(name='Héctor Bellerín', passes_live=378, passes_dead=54, passes_free_kicks=4, through_balls=1, passes_pressure=73, passes_switches=8, crosses=17, corner_kicks=0, corner_kicks_in=0, corner_kicks_out=0, corner_kicks_straight=0, passes_ground=276, passes_low=102, passes_high=54, passes_left_foot=42, passes_right_foot=311, passes_head=21, throw_ins=50, passes_other_body=2, passes_completed=368, passes_offsides=1, passes_oob=2, passes_intercepted=3, passes_blocked=10)"
      ]
     },
     "execution_count": 31,
     "metadata": {},
     "output_type": "execute_result"
    }
   ],
   "source": [
    "extract_extra_passing_stats(extra_passing=extra_passing)[0]"
   ]
  },
  {
   "cell_type": "markdown",
   "metadata": {},
   "source": [
    "### Goal Creation Stats"
   ]
  },
  {
   "cell_type": "code",
   "execution_count": 32,
   "metadata": {},
   "outputs": [],
   "source": [
    "gca = BeautifulSoup(liv_content.content).find(attrs={\"id\": \"all_stats_gca_10728\"})"
   ]
  },
  {
   "cell_type": "code",
   "execution_count": 33,
   "metadata": {},
   "outputs": [
    {
     "data": {
      "text/plain": [
       "20"
      ]
     },
     "execution_count": 33,
     "metadata": {},
     "output_type": "execute_result"
    }
   ],
   "source": [
    "len(BeautifulSoup(gca.contents[5]).find_all(\"tr\")[2:-1])"
   ]
  },
  {
   "cell_type": "code",
   "execution_count": 34,
   "metadata": {},
   "outputs": [],
   "source": [
    "gca = BeautifulSoup(gca.contents[5]).find_all(\"tr\")[2:-2]"
   ]
  },
  {
   "cell_type": "code",
   "execution_count": 35,
   "metadata": {},
   "outputs": [],
   "source": [
    "GCAStats = collections.namedtuple(\n",
    "    'GCAStats',\n",
    "    'name sca sca_per90 sca_passes_live sca_passes_dead sca_dribbles sca_shots sca_fouled gca\\\n",
    "    gca_per90 gca_passes_live gca_passes_dead gca_dribbles gca_shots gca_fouled gca_og_for'\n",
    ")"
   ]
  },
  {
   "cell_type": "code",
   "execution_count": 36,
   "metadata": {},
   "outputs": [],
   "source": [
    "@typed\n",
    "def extract_gca_stats(gca: list) -> list:\n",
    "    gca_stats = []\n",
    "    for stat in gca:\n",
    "        gca_stats.append(\n",
    "            GCAStats(\n",
    "                name=stat.find(\"th\").text,\n",
    "                sca=int(stat.find(attrs={\"data-stat\": \"sca\"}).text),\n",
    "                sca_per90=to_float(stat.find(attrs={\"data-stat\": \"sca_per90\"}).text),\n",
    "                sca_passes_live=int(stat.find(attrs={\"data-stat\": \"sca_passes_live\"}).text),\n",
    "                sca_passes_dead=int(stat.find(attrs={\"data-stat\": \"sca_passes_dead\"}).text),\n",
    "                sca_dribbles=int(stat.find(attrs={\"data-stat\": \"sca_dribbles\"}).text),\n",
    "                sca_shots=int(stat.find(attrs={\"data-stat\": \"sca_shots\"}).text),\n",
    "                sca_fouled=int(stat.find(attrs={\"data-stat\": \"sca_fouled\"}).text),\n",
    "                gca=int(stat.find(attrs={\"data-stat\": \"gca\"}).text),\n",
    "                gca_per90=to_float(stat.find(attrs={\"data-stat\": \"gca_per90\"}).text),\n",
    "                gca_passes_live=int(stat.find(attrs={\"data-stat\": \"gca_passes_live\"}).text),\n",
    "                gca_passes_dead=int(stat.find(attrs={\"data-stat\": \"gca_passes_dead\"}).text),\n",
    "                gca_dribbles=int(stat.find(attrs={\"data-stat\": \"gca_dribbles\"}).text),\n",
    "                gca_shots=int(stat.find(attrs={\"data-stat\": \"gca_shots\"}).text),\n",
    "                gca_fouled=int(stat.find(attrs={\"data-stat\": \"gca_fouled\"}).text),\n",
    "                gca_og_for=int(stat.find(attrs={\"data-stat\": \"gca_og_for\"}).text)\n",
    "            )\n",
    "        )\n",
    "    return gca_stats"
   ]
  },
  {
   "cell_type": "code",
   "execution_count": 37,
   "metadata": {
    "scrolled": true
   },
   "outputs": [
    {
     "data": {
      "text/plain": [
       "GCAStats(name='Héctor Bellerín', sca=8, sca_per90=1.0, sca_passes_live=7, sca_passes_dead=0, sca_dribbles=0, sca_shots=0, sca_fouled=1, gca=3, gca_per90=0.37, gca_passes_live=2, gca_passes_dead=0, gca_dribbles=0, gca_shots=0, gca_fouled=1, gca_og_for=0)"
      ]
     },
     "execution_count": 37,
     "metadata": {},
     "output_type": "execute_result"
    }
   ],
   "source": [
    "extract_gca_stats(gca=gca)[0]"
   ]
  },
  {
   "cell_type": "markdown",
   "metadata": {},
   "source": [
    "### Defensive Stats"
   ]
  },
  {
   "cell_type": "code",
   "execution_count": 38,
   "metadata": {},
   "outputs": [],
   "source": [
    "defensive = BeautifulSoup(liv_content.content).find(attrs={\"id\": \"all_stats_defense_10728\"})"
   ]
  },
  {
   "cell_type": "code",
   "execution_count": 39,
   "metadata": {},
   "outputs": [
    {
     "data": {
      "text/plain": [
       "20"
      ]
     },
     "execution_count": 39,
     "metadata": {},
     "output_type": "execute_result"
    }
   ],
   "source": [
    "len(BeautifulSoup(defensive.contents[5]).find_all(\"tr\")[2:-1])"
   ]
  },
  {
   "cell_type": "code",
   "execution_count": 40,
   "metadata": {},
   "outputs": [],
   "source": [
    "defensive = BeautifulSoup(defensive.contents[5]).find_all(\"tr\")[2:-2]"
   ]
  },
  {
   "cell_type": "code",
   "execution_count": 41,
   "metadata": {},
   "outputs": [],
   "source": [
    "DefensiveActions = collections.namedtuple(\n",
    "    'DefensiveActions',\n",
    "    'name tackles tackles_won tackles_def_3rd tackles_mid_3rd tackles_att_3rd dribble_tackles dribbles_vs\\\n",
    "    dribble_tackles_pct dribbled_past pressures pressure_regains pressure_regain_pct pressures_def_3rd\\\n",
    "    pressures_mid_3rd pressures_att_3rd blocks blocked_shots blocked_shots_saves blocked_passes interceptions\\\n",
    "    tackles_interceptions clearances errors'\n",
    ")"
   ]
  },
  {
   "cell_type": "code",
   "execution_count": 42,
   "metadata": {},
   "outputs": [],
   "source": [
    "@typed\n",
    "def extract_defensive_actions(defensive_actions: list) -> list:\n",
    "    defensive_actions = []\n",
    "    for stat in defensive:\n",
    "        defensive_actions.append(\n",
    "            DefensiveActions(\n",
    "                name=stat.find(\"th\").text,\n",
    "                tackles=int(stat.find(attrs={\"data-stat\": \"tackles\"}).text),\n",
    "                tackles_won=int(stat.find(attrs={\"data-stat\": \"tackles_won\"}).text),\n",
    "                tackles_def_3rd=int(stat.find(attrs={\"data-stat\": \"tackles_def_3rd\"}).text),\n",
    "                tackles_mid_3rd=int(stat.find(attrs={\"data-stat\": \"tackles_mid_3rd\"}).text),\n",
    "                tackles_att_3rd=int(stat.find(attrs={\"data-stat\": \"tackles_att_3rd\"}).text),\n",
    "                dribble_tackles=int(stat.find(attrs={\"data-stat\": \"dribble_tackles\"}).text),\n",
    "                dribbles_vs=int(stat.find(attrs={\"data-stat\": \"dribbles_vs\"}).text),\n",
    "                dribble_tackles_pct=to_float(stat.find(attrs={\"data-stat\": \"dribble_tackles_pct\"}).text),\n",
    "                dribbled_past=int(stat.find(attrs={\"data-stat\": \"dribbled_past\"}).text),\n",
    "                pressures=int(stat.find(attrs={\"data-stat\": \"pressures\"}).text),\n",
    "                pressure_regains=int(stat.find(attrs={\"data-stat\": \"pressure_regains\"}).text),\n",
    "                pressure_regain_pct=to_float(stat.find(attrs={\"data-stat\": \"pressure_regain_pct\"}).text),\n",
    "                pressures_def_3rd=int(stat.find(attrs={\"data-stat\": \"pressures_def_3rd\"}).text),\n",
    "                pressures_mid_3rd=int(stat.find(attrs={\"data-stat\": \"pressures_mid_3rd\"}).text),\n",
    "                pressures_att_3rd=int(stat.find(attrs={\"data-stat\": \"pressures_att_3rd\"}).text),\n",
    "                blocks=int(stat.find(attrs={\"data-stat\": \"blocks\"}).text),\n",
    "                blocked_shots=int(stat.find(attrs={\"data-stat\": \"blocked_shots\"}).text),\n",
    "                blocked_shots_saves=int(stat.find(attrs={\"data-stat\": \"blocked_shots_saves\"}).text),\n",
    "                blocked_passes=int(stat.find(attrs={\"data-stat\": \"blocked_passes\"}).text),\n",
    "                interceptions=int(stat.find(attrs={\"data-stat\": \"interceptions\"}).text),\n",
    "                tackles_interceptions=int(stat.find(attrs={\"data-stat\": \"tackles_interceptions\"}).text),\n",
    "                clearances=int(stat.find(attrs={\"data-stat\": \"clearances\"}).text),\n",
    "                errors=int(stat.find(attrs={\"data-stat\": \"errors\"}).text),\n",
    "            )\n",
    "        )\n",
    "    return defensive_actions"
   ]
  },
  {
   "cell_type": "code",
   "execution_count": 43,
   "metadata": {
    "scrolled": true
   },
   "outputs": [
    {
     "data": {
      "text/plain": [
       "DefensiveActions(name='Héctor Bellerín', tackles=11, tackles_won=8, tackles_def_3rd=6, tackles_mid_3rd=5, tackles_att_3rd=0, dribble_tackles=4, dribbles_vs=14, dribble_tackles_pct=28.6, dribbled_past=10, pressures=68, pressure_regains=20, pressure_regain_pct=29.4, pressures_def_3rd=25, pressures_mid_3rd=37, pressures_att_3rd=6, blocks=19, blocked_shots=3, blocked_shots_saves=0, blocked_passes=16, interceptions=1, tackles_interceptions=12, clearances=13, errors=0)"
      ]
     },
     "execution_count": 43,
     "metadata": {},
     "output_type": "execute_result"
    }
   ],
   "source": [
    "extract_defensive_actions(defensive_actions=defensive)[0]"
   ]
  },
  {
   "cell_type": "markdown",
   "metadata": {},
   "source": [
    "### Possession Stats"
   ]
  },
  {
   "cell_type": "code",
   "execution_count": 44,
   "metadata": {},
   "outputs": [],
   "source": [
    "possesion = BeautifulSoup(liv_content.content).find(attrs={\"id\": \"all_stats_possession_10728\"})"
   ]
  },
  {
   "cell_type": "code",
   "execution_count": 45,
   "metadata": {},
   "outputs": [
    {
     "data": {
      "text/plain": [
       "20"
      ]
     },
     "execution_count": 45,
     "metadata": {},
     "output_type": "execute_result"
    }
   ],
   "source": [
    "len(BeautifulSoup(possesion.contents[5]).find_all(\"tr\")[2:-1])"
   ]
  },
  {
   "cell_type": "code",
   "execution_count": 46,
   "metadata": {},
   "outputs": [],
   "source": [
    "possesion = BeautifulSoup(possesion.contents[5]).find_all(\"tr\")[2:-2]"
   ]
  },
  {
   "cell_type": "code",
   "execution_count": 47,
   "metadata": {},
   "outputs": [],
   "source": [
    "PossessionStats = collections.namedtuple(\n",
    "    'PossessionStats',\n",
    "    'name touches touches_def_pen_area touches_def_3rd touches_mid_3rd touches_att_3rd touches_att_pen_area\\\n",
    "    touches_live_ball dribbles_completed dribbles dribbles_completed_pct players_dribbled_past nutmegs\\\n",
    "    carries carry_distance carry_progressive_distance pass_targets passes_received passes_received_pct\\\n",
    "    miscontrols dispossessed'\n",
    ")"
   ]
  },
  {
   "cell_type": "code",
   "execution_count": 48,
   "metadata": {},
   "outputs": [],
   "source": [
    "@typed\n",
    "def extract_possession_stats(possesion: list) -> list:\n",
    "    possesion_stats = []\n",
    "    for stat in possesion:\n",
    "        possesion_stats.append(\n",
    "            PossessionStats(\n",
    "                name=stat.find(\"th\").text,\n",
    "                touches=int(stat.find(attrs={\"data-stat\": \"touches\"}).text),\n",
    "                touches_def_pen_area=int(stat.find(attrs={\"data-stat\": \"touches_def_pen_area\"}).text),\n",
    "                touches_def_3rd=int(stat.find(attrs={\"data-stat\": \"touches_def_3rd\"}).text),\n",
    "                touches_mid_3rd=int(stat.find(attrs={\"data-stat\": \"touches_mid_3rd\"}).text),\n",
    "                touches_att_3rd=int(stat.find(attrs={\"data-stat\": \"touches_att_3rd\"}).text),\n",
    "                touches_att_pen_area=int(stat.find(attrs={\"data-stat\": \"touches_att_pen_area\"}).text),\n",
    "                touches_live_ball=int(stat.find(attrs={\"data-stat\": \"touches_live_ball\"}).text),\n",
    "                dribbles_completed=int(stat.find(attrs={\"data-stat\": \"dribbles_completed\"}).text),\n",
    "                dribbles=int(stat.find(attrs={\"data-stat\": \"dribbles\"}).text),\n",
    "                dribbles_completed_pct=to_float(stat.find(attrs={\"data-stat\": \"dribbles_completed_pct\"}).text),\n",
    "                players_dribbled_past=int(stat.find(attrs={\"data-stat\": \"players_dribbled_past\"}).text),\n",
    "                nutmegs=int(stat.find(attrs={\"data-stat\": \"nutmegs\"}).text),\n",
    "                carries=int(stat.find(attrs={\"data-stat\": \"carries\"}).text),\n",
    "                carry_distance=int(stat.find(attrs={\"data-stat\": \"carry_distance\"}).text),\n",
    "                carry_progressive_distance=int(stat.find(attrs={\"data-stat\": \"carry_progressive_distance\"}).text),\n",
    "                pass_targets=int(stat.find(attrs={\"data-stat\": \"pass_targets\"}).text),\n",
    "                passes_received=int(stat.find(attrs={\"data-stat\": \"passes_received\"}).text),\n",
    "                passes_received_pct=to_float(stat.find(attrs={\"data-stat\": \"passes_received_pct\"}).text),\n",
    "                miscontrols=int(stat.find(attrs={\"data-stat\": \"miscontrols\"}).text),\n",
    "                dispossessed=int(stat.find(attrs={\"data-stat\": \"dispossessed\"}).text),\n",
    "            )\n",
    "        )\n",
    "    return possesion_stats"
   ]
  },
  {
   "cell_type": "code",
   "execution_count": 49,
   "metadata": {
    "scrolled": true
   },
   "outputs": [
    {
     "data": {
      "text/plain": [
       "PossessionStats(name='Héctor Bellerín', touches=499, touches_def_pen_area=21, touches_def_3rd=152, touches_mid_3rd=234, touches_att_3rd=132, touches_att_pen_area=13, touches_live_ball=447, dribbles_completed=9, dribbles=15, dribbles_completed_pct=60.0, players_dribbled_past=9, nutmegs=1, carries=303, carry_distance=1519, carry_progressive_distance=995, pass_targets=350, passes_received=319, passes_received_pct=91.1, miscontrols=6, dispossessed=3)"
      ]
     },
     "execution_count": 49,
     "metadata": {},
     "output_type": "execute_result"
    }
   ],
   "source": [
    "extract_possession_stats(possesion=possesion)[0]"
   ]
  },
  {
   "cell_type": "markdown",
   "metadata": {},
   "source": [
    "### Playing Time Stats"
   ]
  },
  {
   "cell_type": "code",
   "execution_count": 50,
   "metadata": {},
   "outputs": [],
   "source": [
    "playing_time = BeautifulSoup(liv_content.content).find(attrs={\"id\": \"all_stats_playing_time_10728\"})"
   ]
  },
  {
   "cell_type": "code",
   "execution_count": 51,
   "metadata": {},
   "outputs": [
    {
     "data": {
      "text/plain": [
       "23"
      ]
     },
     "execution_count": 51,
     "metadata": {},
     "output_type": "execute_result"
    }
   ],
   "source": [
    "len(BeautifulSoup(playing_time.contents[5]).find_all(\"tr\")[2:-1])"
   ]
  },
  {
   "cell_type": "code",
   "execution_count": 52,
   "metadata": {},
   "outputs": [],
   "source": [
    "playing_time = BeautifulSoup(playing_time.contents[5]).find_all(\"tr\")[2:-2]"
   ]
  },
  {
   "cell_type": "code",
   "execution_count": 53,
   "metadata": {},
   "outputs": [],
   "source": [
    "PlayingTimeStats = collections.namedtuple(\n",
    "    'PlayingTimeStats',\n",
    "    'name games minutes minutes_per_game minutes_pct minutes_90s games_starts minutes_per_start\\\n",
    "    games_subs minutes_per_sub unused_subs points_per_match on_goals_for on_goals_against plus_minus\\\n",
    "    plus_minus_per90 plus_minus_wowy on_xg_for on_xg_against xg_plus_minus xg_plus_minus_per90\\\n",
    "    xg_plus_minus_wowy'\n",
    ")"
   ]
  },
  {
   "cell_type": "code",
   "execution_count": 54,
   "metadata": {},
   "outputs": [],
   "source": [
    "@typed\n",
    "def extract_playing_time_stats(playing_time: list) -> list:\n",
    "    playing_time_stats = []\n",
    "    for stat in playing_time:\n",
    "        playing_time_stats.append(\n",
    "            PlayingTimeStats(\n",
    "                name=stat.find(\"th\").text,\n",
    "                games=int(stat.find(attrs={\"data-stat\": \"games\"}).text),\n",
    "                minutes=to_float(stat.find(attrs={\"data-stat\": \"minutes\"}).text),\n",
    "                minutes_per_game=to_float(stat.find(attrs={\"data-stat\": \"minutes_per_game\"}).text),\n",
    "                minutes_pct=to_float(stat.find(attrs={\"data-stat\": \"minutes_pct\"}).text),\n",
    "                minutes_90s=to_float(stat.find(attrs={\"data-stat\": \"minutes_90s\"}).text),\n",
    "                games_starts=int(stat.find(attrs={\"data-stat\": \"games_starts\"}).text),\n",
    "                minutes_per_start=to_float(stat.find(attrs={\"data-stat\": \"minutes_per_start\"}).text),\n",
    "                games_subs=int(stat.find(attrs={\"data-stat\": \"games_subs\"}).text),\n",
    "                minutes_per_sub=to_float(stat.find(attrs={\"data-stat\": \"minutes_per_sub\"}).text),\n",
    "                unused_subs=int(stat.find(attrs={\"data-stat\": \"unused_subs\"}).text),\n",
    "                points_per_match=to_float(stat.find(attrs={\"data-stat\": \"points_per_match\"}).text),\n",
    "                on_goals_for=to_float(stat.find(attrs={\"data-stat\": \"on_goals_for\"}).text),\n",
    "                on_goals_against=to_float(stat.find(attrs={\"data-stat\": \"on_goals_against\"}).text),\n",
    "                plus_minus=stat.find(attrs={\"data-stat\": \"plus_minus\"}).text,\n",
    "                plus_minus_per90=stat.find(attrs={\"data-stat\": \"plus_minus_per90\"}).text,\n",
    "                plus_minus_wowy=stat.find(attrs={\"data-stat\": \"plus_minus_wowy\"}).text,\n",
    "                on_xg_for=to_float(stat.find(attrs={\"data-stat\": \"on_xg_for\"}).text),\n",
    "                on_xg_against=to_float(stat.find(attrs={\"data-stat\": \"on_xg_against\"}).text),\n",
    "                xg_plus_minus=stat.find(attrs={\"data-stat\": \"xg_plus_minus\"}).text,\n",
    "                xg_plus_minus_per90=stat.find(attrs={\"data-stat\": \"xg_plus_minus_per90\"}).text,\n",
    "                xg_plus_minus_wowy=stat.find(attrs={\"data-stat\": \"xg_plus_minus_wowy\"}).text,\n",
    "            )\n",
    "        )\n",
    "    return playing_time_stats"
   ]
  },
  {
   "cell_type": "code",
   "execution_count": 55,
   "metadata": {
    "scrolled": true
   },
   "outputs": [
    {
     "data": {
      "text/plain": [
       "PlayingTimeStats(name='Joe Willock', games=0, minutes=0.0, minutes_per_game=0.0, minutes_pct=0.0, minutes_90s=0.0, games_starts=0, minutes_per_start=0.0, games_subs=0, minutes_per_sub=0.0, unused_subs=4, points_per_match=0.0, on_goals_for=0.0, on_goals_against=0.0, plus_minus='', plus_minus_per90='', plus_minus_wowy='', on_xg_for=0.0, on_xg_against=0.0, xg_plus_minus='', xg_plus_minus_per90='', xg_plus_minus_wowy='')"
      ]
     },
     "execution_count": 55,
     "metadata": {},
     "output_type": "execute_result"
    }
   ],
   "source": [
    "extract_playing_time_stats(playing_time=playing_time)[-1]"
   ]
  },
  {
   "cell_type": "markdown",
   "metadata": {},
   "source": [
    "### Misc Stats"
   ]
  },
  {
   "cell_type": "code",
   "execution_count": 56,
   "metadata": {},
   "outputs": [],
   "source": [
    "misc = BeautifulSoup(liv_content.content).find(attrs={\"id\": \"all_stats_misc_10728\"})"
   ]
  },
  {
   "cell_type": "code",
   "execution_count": 57,
   "metadata": {},
   "outputs": [
    {
     "data": {
      "text/plain": [
       "20"
      ]
     },
     "execution_count": 57,
     "metadata": {},
     "output_type": "execute_result"
    }
   ],
   "source": [
    "len(BeautifulSoup(misc.contents[5]).find_all(\"tr\")[2:-1])"
   ]
  },
  {
   "cell_type": "code",
   "execution_count": 58,
   "metadata": {},
   "outputs": [],
   "source": [
    "misc = BeautifulSoup(misc.contents[5]).find_all(\"tr\")[2:-2]"
   ]
  },
  {
   "cell_type": "code",
   "execution_count": 59,
   "metadata": {},
   "outputs": [],
   "source": [
    "MiscStats = collections.namedtuple(\n",
    "    'MiscStats',\n",
    "    'name cards_yellow cards_red cards_yellow_red fouls fouled offsides crosses interceptions\\\n",
    "    tackles_won pens_won pens_conceded own_goals ball_recoveries aerials_won aerials_lost aerials_won_pct'\n",
    ")"
   ]
  },
  {
   "cell_type": "code",
   "execution_count": 60,
   "metadata": {},
   "outputs": [],
   "source": [
    "@typed\n",
    "def extract_misc_stats(misc: list) -> list:\n",
    "    misc_stats = []\n",
    "    for stat in misc:\n",
    "        misc_stats.append(\n",
    "            MiscStats(\n",
    "                name=stat.find(\"th\").text,\n",
    "                cards_yellow=int(stat.find(attrs={\"data-stat\": \"cards_yellow\"}).text),\n",
    "                cards_red=int(stat.find(attrs={\"data-stat\": \"cards_red\"}).text),\n",
    "                cards_yellow_red=int(stat.find(attrs={\"data-stat\": \"cards_yellow_red\"}).text),\n",
    "                fouls=int(stat.find(attrs={\"data-stat\": \"fouls\"}).text),\n",
    "                fouled=int(stat.find(attrs={\"data-stat\": \"fouled\"}).text),\n",
    "                offsides=int(stat.find(attrs={\"data-stat\": \"offsides\"}).text),\n",
    "                crosses=int(stat.find(attrs={\"data-stat\": \"crosses\"}).text),\n",
    "                interceptions=int(stat.find(attrs={\"data-stat\": \"interceptions\"}).text),\n",
    "                tackles_won=int(stat.find(attrs={\"data-stat\": \"tackles_won\"}).text),\n",
    "                pens_won=int(stat.find(attrs={\"data-stat\": \"pens_won\"}).text),\n",
    "                pens_conceded=int(stat.find(attrs={\"data-stat\": \"pens_conceded\"}).text),\n",
    "                own_goals=int(stat.find(attrs={\"data-stat\": \"own_goals\"}).text),\n",
    "                ball_recoveries=int(stat.find(attrs={\"data-stat\": \"ball_recoveries\"}).text),\n",
    "                aerials_won=int(stat.find(attrs={\"data-stat\": \"aerials_won\"}).text),\n",
    "                aerials_lost=int(stat.find(attrs={\"data-stat\": \"aerials_lost\"}).text),\n",
    "                aerials_won_pct=to_float(stat.find(attrs={\"data-stat\": \"aerials_won_pct\"}).text),\n",
    "            )\n",
    "        )\n",
    "    return misc_stats"
   ]
  },
  {
   "cell_type": "code",
   "execution_count": 61,
   "metadata": {
    "scrolled": true
   },
   "outputs": [
    {
     "data": {
      "text/plain": [
       "MiscStats(name='Shkodran Mustafi', cards_yellow=0, cards_red=0, cards_yellow_red=0, fouls=1, fouled=0, offsides=0, crosses=0, interceptions=0, tackles_won=1, pens_won=0, pens_conceded=0, own_goals=0, ball_recoveries=5, aerials_won=2, aerials_lost=0, aerials_won_pct=100.0)"
      ]
     },
     "execution_count": 61,
     "metadata": {},
     "output_type": "execute_result"
    }
   ],
   "source": [
    "extract_misc_stats(misc=misc)[-1]"
   ]
  },
  {
   "cell_type": "markdown",
   "metadata": {},
   "source": [
    "### Goalkeeping stats"
   ]
  },
  {
   "cell_type": "code",
   "execution_count": null,
   "metadata": {},
   "outputs": [],
   "source": []
  },
  {
   "cell_type": "code",
   "execution_count": null,
   "metadata": {},
   "outputs": [],
   "source": []
  },
  {
   "cell_type": "markdown",
   "metadata": {},
   "source": [
    "## FPL Data"
   ]
  },
  {
   "cell_type": "code",
   "execution_count": 62,
   "metadata": {},
   "outputs": [],
   "source": [
    "fpl_request = requests.get(\"https://fantasy.premierleague.com/api/bootstrap-static/\")"
   ]
  },
  {
   "cell_type": "code",
   "execution_count": 63,
   "metadata": {},
   "outputs": [],
   "source": [
    "all_fpl_data = fpl_request.content"
   ]
  },
  {
   "cell_type": "code",
   "execution_count": 64,
   "metadata": {},
   "outputs": [],
   "source": [
    "all_fpl_data = json.loads(all_fpl_data)"
   ]
  },
  {
   "cell_type": "code",
   "execution_count": 65,
   "metadata": {},
   "outputs": [
    {
     "data": {
      "text/plain": [
       "dict_keys(['events', 'game_settings', 'phases', 'teams', 'total_players', 'elements', 'element_stats', 'element_types'])"
      ]
     },
     "execution_count": 65,
     "metadata": {},
     "output_type": "execute_result"
    }
   ],
   "source": [
    "all_fpl_data.keys()"
   ]
  },
  {
   "cell_type": "code",
   "execution_count": 66,
   "metadata": {},
   "outputs": [
    {
     "data": {
      "text/plain": [
       "7470050"
      ]
     },
     "execution_count": 66,
     "metadata": {},
     "output_type": "execute_result"
    }
   ],
   "source": [
    "all_fpl_data[\"total_players\"]"
   ]
  },
  {
   "cell_type": "code",
   "execution_count": 67,
   "metadata": {},
   "outputs": [],
   "source": [
    "fpl_players = L(all_fpl_data[\"elements\"])"
   ]
  },
  {
   "cell_type": "code",
   "execution_count": 68,
   "metadata": {},
   "outputs": [],
   "source": [
    "fpl_teams = L(all_fpl_data[\"teams\"])"
   ]
  },
  {
   "cell_type": "code",
   "execution_count": 69,
   "metadata": {},
   "outputs": [
    {
     "data": {
      "text/plain": [
       "{'code': 3,\n",
       " 'draw': 0,\n",
       " 'form': None,\n",
       " 'id': 1,\n",
       " 'loss': 0,\n",
       " 'name': 'Arsenal',\n",
       " 'played': 0,\n",
       " 'points': 0,\n",
       " 'position': 0,\n",
       " 'short_name': 'ARS',\n",
       " 'strength': 4,\n",
       " 'team_division': None,\n",
       " 'unavailable': False,\n",
       " 'win': 0,\n",
       " 'strength_overall_home': 1190,\n",
       " 'strength_overall_away': 1210,\n",
       " 'strength_attack_home': 1160,\n",
       " 'strength_attack_away': 1210,\n",
       " 'strength_defence_home': 1190,\n",
       " 'strength_defence_away': 1230,\n",
       " 'pulse_id': 1}"
      ]
     },
     "execution_count": 69,
     "metadata": {},
     "output_type": "execute_result"
    }
   ],
   "source": [
    "fpl_teams[0]"
   ]
  },
  {
   "cell_type": "code",
   "execution_count": 70,
   "metadata": {},
   "outputs": [],
   "source": [
    "@typed\n",
    "def extract_team_details(team: dict) -> dict:\n",
    "    return {str(team[\"code\"]): {\"name\": team[\"name\"].lower().replace(\" \", \"_\"), \"slug\": team[\"short_name\"]}}"
   ]
  },
  {
   "cell_type": "code",
   "execution_count": 71,
   "metadata": {},
   "outputs": [
    {
     "data": {
      "text/plain": [
       "[None,\n",
       " None,\n",
       " None,\n",
       " None,\n",
       " None,\n",
       " None,\n",
       " None,\n",
       " None,\n",
       " None,\n",
       " None,\n",
       " None,\n",
       " None,\n",
       " None,\n",
       " None,\n",
       " None,\n",
       " None,\n",
       " None,\n",
       " None,\n",
       " None,\n",
       " None]"
      ]
     },
     "execution_count": 71,
     "metadata": {},
     "output_type": "execute_result"
    }
   ],
   "source": [
    "fpl_team_mapper = {}\n",
    "[fpl_team_mapper.update(extract_team_details(team)) for team in fpl_teams]"
   ]
  },
  {
   "cell_type": "code",
   "execution_count": 72,
   "metadata": {},
   "outputs": [
    {
     "data": {
      "text/plain": [
       "{'3': {'name': 'arsenal', 'slug': 'ARS'},\n",
       " '7': {'name': 'aston_villa', 'slug': 'AVL'},\n",
       " '36': {'name': 'brighton', 'slug': 'BHA'},\n",
       " '90': {'name': 'burnley', 'slug': 'BUR'},\n",
       " '8': {'name': 'chelsea', 'slug': 'CHE'},\n",
       " '31': {'name': 'crystal_palace', 'slug': 'CRY'},\n",
       " '11': {'name': 'everton', 'slug': 'EVE'},\n",
       " '54': {'name': 'fulham', 'slug': 'FUL'},\n",
       " '13': {'name': 'leicester', 'slug': 'LEI'},\n",
       " '2': {'name': 'leeds', 'slug': 'LEE'},\n",
       " '14': {'name': 'liverpool', 'slug': 'LIV'},\n",
       " '43': {'name': 'man_city', 'slug': 'MCI'},\n",
       " '1': {'name': 'man_utd', 'slug': 'MUN'},\n",
       " '4': {'name': 'newcastle', 'slug': 'NEW'},\n",
       " '49': {'name': 'sheffield_utd', 'slug': 'SHU'},\n",
       " '20': {'name': 'southampton', 'slug': 'SOU'},\n",
       " '6': {'name': 'spurs', 'slug': 'TOT'},\n",
       " '35': {'name': 'west_brom', 'slug': 'WBA'},\n",
       " '21': {'name': 'west_ham', 'slug': 'WHU'},\n",
       " '39': {'name': 'wolves', 'slug': 'WOL'}}"
      ]
     },
     "execution_count": 72,
     "metadata": {},
     "output_type": "execute_result"
    }
   ],
   "source": [
    "fpl_team_mapper"
   ]
  },
  {
   "cell_type": "code",
   "execution_count": 73,
   "metadata": {},
   "outputs": [
    {
     "data": {
      "text/plain": [
       "{'id': 1,\n",
       " 'name': 'Gameweek 1',\n",
       " 'deadline_time': '2020-09-12T10:00:00Z',\n",
       " 'average_entry_score': 50,\n",
       " 'finished': True,\n",
       " 'data_checked': True,\n",
       " 'highest_scoring_entry': 4761681,\n",
       " 'deadline_time_epoch': 1599904800,\n",
       " 'deadline_time_game_offset': 0,\n",
       " 'highest_score': 142,\n",
       " 'is_previous': False,\n",
       " 'is_current': False,\n",
       " 'is_next': False,\n",
       " 'chip_plays': [{'chip_name': 'bboost', 'num_played': 112843},\n",
       "  {'chip_name': '3xc', 'num_played': 225426}],\n",
       " 'most_selected': 259,\n",
       " 'most_transferred_in': 12,\n",
       " 'top_element': 254,\n",
       " 'top_element_info': {'id': 254, 'points': 20},\n",
       " 'transfers_made': 0,\n",
       " 'most_captained': 4,\n",
       " 'most_vice_captained': 4}"
      ]
     },
     "execution_count": 73,
     "metadata": {},
     "output_type": "execute_result"
    }
   ],
   "source": [
    "all_fpl_data[\"events\"][0]"
   ]
  },
  {
   "cell_type": "code",
   "execution_count": 74,
   "metadata": {},
   "outputs": [
    {
     "data": {
      "text/plain": [
       "{'id': 4, 'name': 'November', 'start_event': 8, 'stop_event': 10}"
      ]
     },
     "execution_count": 74,
     "metadata": {},
     "output_type": "execute_result"
    }
   ],
   "source": [
    "all_fpl_data[\"phases\"][3]"
   ]
  },
  {
   "cell_type": "code",
   "execution_count": 75,
   "metadata": {},
   "outputs": [
    {
     "data": {
      "text/plain": [
       "[None, None, None, None]"
      ]
     },
     "execution_count": 75,
     "metadata": {},
     "output_type": "execute_result"
    }
   ],
   "source": [
    "category_types = {}\n",
    "[category_types.update({str(player_cat[\"id\"]): player_cat[\"singular_name_short\"]}) for player_cat in all_fpl_data[\"element_types\"]]"
   ]
  },
  {
   "cell_type": "code",
   "execution_count": 76,
   "metadata": {},
   "outputs": [
    {
     "data": {
      "text/plain": [
       "{'1': 'GKP', '2': 'DEF', '3': 'MID', '4': 'FWD'}"
      ]
     },
     "execution_count": 76,
     "metadata": {},
     "output_type": "execute_result"
    }
   ],
   "source": [
    "category_types"
   ]
  },
  {
   "cell_type": "code",
   "execution_count": 77,
   "metadata": {},
   "outputs": [
    {
     "data": {
      "text/plain": [
       "[{'label': 'Minutes played', 'name': 'minutes'},\n",
       " {'label': 'Goals scored', 'name': 'goals_scored'},\n",
       " {'label': 'Assists', 'name': 'assists'},\n",
       " {'label': 'Clean sheets', 'name': 'clean_sheets'},\n",
       " {'label': 'Goals conceded', 'name': 'goals_conceded'},\n",
       " {'label': 'Own goals', 'name': 'own_goals'},\n",
       " {'label': 'Penalties saved', 'name': 'penalties_saved'},\n",
       " {'label': 'Penalties missed', 'name': 'penalties_missed'},\n",
       " {'label': 'Yellow cards', 'name': 'yellow_cards'},\n",
       " {'label': 'Red cards', 'name': 'red_cards'},\n",
       " {'label': 'Saves', 'name': 'saves'},\n",
       " {'label': 'Bonus', 'name': 'bonus'},\n",
       " {'label': 'Bonus Points System', 'name': 'bps'},\n",
       " {'label': 'Influence', 'name': 'influence'},\n",
       " {'label': 'Creativity', 'name': 'creativity'},\n",
       " {'label': 'Threat', 'name': 'threat'},\n",
       " {'label': 'ICT Index', 'name': 'ict_index'}]"
      ]
     },
     "execution_count": 77,
     "metadata": {},
     "output_type": "execute_result"
    }
   ],
   "source": [
    "all_fpl_data[\"element_stats\"]"
   ]
  },
  {
   "cell_type": "code",
   "execution_count": 78,
   "metadata": {},
   "outputs": [],
   "source": [
    "@typed\n",
    "def extract_player_fpl_stats(player: dict) -> dict:\n",
    "    return {\n",
    "        \"player_id\": player[\"id\"],\n",
    "        \"name\": f\"{player['first_name']} {player['second_name']}\",\n",
    "        \"display_slug\": player[\"web_name\"],\n",
    "        \"team_id\": player[\"team\"],\n",
    "        \"team\": fpl_team_mapper.get(str(player[\"team_code\"])).get(\"name\"),\n",
    "        \"team_slug\": fpl_team_mapper.get(str(player[\"team_code\"])).get(\"slug\"),\n",
    "        \"position\": category_types.get(str(player[\"element_type\"])),\n",
    "        \"points_per_game\": to_float(player[\"points_per_game\"]),\n",
    "        \"form\": to_float(player[\"form\"]),\n",
    "        \"news\": player[\"news\"],\n",
    "        \"news_added_at\": player[\"news_added\"],\n",
    "        \"status\": player[\"status\"],\n",
    "        \"total_points\": player[\"total_points\"],\n",
    "        \"value_form\": to_float(player[\"value_form\"]),\n",
    "        \"value_season\": to_float(player[\"value_season\"]),\n",
    "        \"selected_by_percent\": to_float(player[\"selected_by_percent\"]),\n",
    "        \"points_per_game\": to_float(player[\"points_per_game\"]),\n",
    "        \"influence_rank_overall\": player[\"influence_rank\"],\n",
    "        \"creativity_rank_overall\": player[\"creativity_rank\"],\n",
    "        \"threat_rank_overall\": player[\"threat_rank\"],\n",
    "        \"influence_rank_by_position\": player[\"influence_rank_type\"],\n",
    "        \"creativity_rank_by_position\": player[\"creativity_rank_type\"],\n",
    "        \"threat_rank_by_position:\": player[\"threat_rank_type\"],\n",
    "        \"ict_index\": player[\"ict_index_rank\"],\n",
    "        \"ict_index_by_position\": player[\"ict_index_rank_type\"],\n",
    "        \"dreamteam_count\": player[\"dreamteam_count\"],\n",
    "        \"transfers_in\": player[\"transfers_in\"],\n",
    "        \"transfers_out\": player[\"transfers_out\"],\n",
    "        \"chance_of_playing_next_round\": player[\"chance_of_playing_next_round\"],\n",
    "        \"chance_of_playing_this_round\": player[\"chance_of_playing_this_round\"],\n",
    "        \"cost_change_event\": player[\"cost_change_event\"],\n",
    "        \"cost_change_event_fall\": player[\"cost_change_event_fall\"],\n",
    "        \"cost_change_start\": player[\"cost_change_start\"],\n",
    "        \"cost_change_start_fall\": player[\"cost_change_start_fall\"],\n",
    "        \"ep_next\": player[\"ep_next\"],\n",
    "        \"ep_this\": player[\"ep_this\"],\n",
    "        \"now_cost\": player[\"now_cost\"],\n",
    "        \"transfers_in\": player[\"transfers_in\"],\n",
    "        \"transfers_out\": player[\"transfers_out\"],\n",
    "        \"transfers_in_event\": player[\"transfers_in_event\"],\n",
    "        \"transfers_out_event\": player[\"transfers_out_event\"],\n",
    "        \"goals_scored\": player[\"goals_scored\"],\n",
    "        \"assists\": player[\"assists\"],\n",
    "        \"clean_sheets\": player[\"clean_sheets\"],\n",
    "        \"goals_conceded\": player[\"goals_conceded\"],\n",
    "        \"penalties_saved\": player[\"penalties_saved\"],\n",
    "        \"penalties_missed\": player[\"penalties_missed\"],\n",
    "        \"saves\": player[\"saves\"],\n",
    "        \"bonus\": player[\"bonus\"],\n",
    "        \"bps\": player[\"bps\"],\n",
    "        \"corners_and_indirect_freekicks_order\": player[\"corners_and_indirect_freekicks_order\"],\n",
    "        \"corners_and_indirect_freekicks_text\": player[\"corners_and_indirect_freekicks_text\"],\n",
    "        \"direct_freekicks_order\": player[\"direct_freekicks_order\"],\n",
    "        \"direct_freekicks_text\": player[\"direct_freekicks_text\"],\n",
    "        \"penalties_order\": player[\"penalties_order\"],\n",
    "        \"penalties_text\": player[\"penalties_text\"],\n",
    "    }"
   ]
  },
  {
   "cell_type": "code",
   "execution_count": 79,
   "metadata": {
    "scrolled": true
   },
   "outputs": [
    {
     "name": "stdout",
     "output_type": "stream",
     "text": [
      "CPU times: user 26.8 ms, sys: 0 ns, total: 26.8 ms\n",
      "Wall time: 26.4 ms\n"
     ]
    }
   ],
   "source": [
    "%time fpl_player_stats = L([extract_player_fpl_stats(player) for player in fpl_players])"
   ]
  },
  {
   "cell_type": "code",
   "execution_count": 80,
   "metadata": {},
   "outputs": [],
   "source": [
    "fpl_player_stats_df = pd.DataFrame.from_dict(fpl_player_stats)"
   ]
  },
  {
   "cell_type": "code",
   "execution_count": 81,
   "metadata": {},
   "outputs": [],
   "source": [
    "FPL_DATA = Path(\"../../data/fpl-data\")"
   ]
  },
  {
   "cell_type": "code",
   "execution_count": 82,
   "metadata": {},
   "outputs": [
    {
     "data": {
      "text/plain": [
       "datetime.date(2020, 11, 16)"
      ]
     },
     "execution_count": 82,
     "metadata": {},
     "output_type": "execute_result"
    }
   ],
   "source": [
    "date.today()"
   ]
  },
  {
   "cell_type": "code",
   "execution_count": 83,
   "metadata": {},
   "outputs": [],
   "source": [
    "t_now = re.sub(r'\\D', '', str(date.today()))"
   ]
  },
  {
   "cell_type": "markdown",
   "metadata": {},
   "source": [
    "#### Check gameweek aggregated stats"
   ]
  },
  {
   "cell_type": "code",
   "execution_count": 85,
   "metadata": {},
   "outputs": [
    {
     "data": {
      "text/plain": [
       "{'id': 2,\n",
       " 'name': 'Gameweek 2',\n",
       " 'deadline_time': '2020-09-19T10:00:00Z',\n",
       " 'average_entry_score': 59,\n",
       " 'finished': True,\n",
       " 'data_checked': True,\n",
       " 'highest_scoring_entry': 6234344,\n",
       " 'deadline_time_epoch': 1600509600,\n",
       " 'deadline_time_game_offset': 0,\n",
       " 'highest_score': 165,\n",
       " 'is_previous': False,\n",
       " 'is_current': False,\n",
       " 'is_next': False,\n",
       " 'chip_plays': [{'chip_name': 'bboost', 'num_played': 94615},\n",
       "  {'chip_name': 'freehit', 'num_played': 111968},\n",
       "  {'chip_name': 'wildcard', 'num_played': 494000},\n",
       "  {'chip_name': '3xc', 'num_played': 221133}],\n",
       " 'most_selected': 259,\n",
       " 'most_transferred_in': 302,\n",
       " 'top_element': 390,\n",
       " 'top_element_info': {'id': 390, 'points': 24},\n",
       " 'transfers_made': 14637421,\n",
       " 'most_captained': 4,\n",
       " 'most_vice_captained': 254}"
      ]
     },
     "execution_count": 85,
     "metadata": {},
     "output_type": "execute_result"
    }
   ],
   "source": [
    "all_fpl_data[\"events\"][1]"
   ]
  },
  {
   "cell_type": "code",
   "execution_count": null,
   "metadata": {},
   "outputs": [],
   "source": []
  },
  {
   "cell_type": "code",
   "execution_count": null,
   "metadata": {},
   "outputs": [],
   "source": []
  },
  {
   "cell_type": "code",
   "execution_count": null,
   "metadata": {},
   "outputs": [],
   "source": []
  },
  {
   "cell_type": "code",
   "execution_count": null,
   "metadata": {},
   "outputs": [],
   "source": []
  },
  {
   "cell_type": "code",
   "execution_count": 207,
   "metadata": {},
   "outputs": [],
   "source": [
    "FPL_DATA.mkdir(parents=True, exist_ok=True)\n",
    "fpl_player_stats_df.to_csv(FPL_DATA / f\"{t_now}_GW{live_gameweek}_player_stats.csv\")"
   ]
  },
  {
   "cell_type": "markdown",
   "metadata": {},
   "source": [
    "### Basic EDA"
   ]
  },
  {
   "cell_type": "code",
   "execution_count": 212,
   "metadata": {},
   "outputs": [
    {
     "data": {
      "text/html": [
       "<div>\n",
       "<style scoped>\n",
       "    .dataframe tbody tr th:only-of-type {\n",
       "        vertical-align: middle;\n",
       "    }\n",
       "\n",
       "    .dataframe tbody tr th {\n",
       "        vertical-align: top;\n",
       "    }\n",
       "\n",
       "    .dataframe thead th {\n",
       "        text-align: right;\n",
       "    }\n",
       "</style>\n",
       "<table border=\"1\" class=\"dataframe\">\n",
       "  <thead>\n",
       "    <tr style=\"text-align: right;\">\n",
       "      <th></th>\n",
       "      <th>player_id</th>\n",
       "      <th>name</th>\n",
       "      <th>display_slug</th>\n",
       "      <th>team_id</th>\n",
       "      <th>team</th>\n",
       "      <th>team_slug</th>\n",
       "      <th>position</th>\n",
       "      <th>points_per_game</th>\n",
       "      <th>form</th>\n",
       "      <th>news</th>\n",
       "      <th>...</th>\n",
       "      <th>penalties_missed</th>\n",
       "      <th>saves</th>\n",
       "      <th>bonus</th>\n",
       "      <th>bps</th>\n",
       "      <th>corners_and_indirect_freekicks_order</th>\n",
       "      <th>corners_and_indirect_freekicks_text</th>\n",
       "      <th>direct_freekicks_order</th>\n",
       "      <th>direct_freekicks_text</th>\n",
       "      <th>penalties_order</th>\n",
       "      <th>penalties_text</th>\n",
       "    </tr>\n",
       "  </thead>\n",
       "  <tbody>\n",
       "    <tr>\n",
       "      <th>0</th>\n",
       "      <td>1</td>\n",
       "      <td>Mesut Özil</td>\n",
       "      <td>Özil</td>\n",
       "      <td>1</td>\n",
       "      <td>arsenal</td>\n",
       "      <td>ARS</td>\n",
       "      <td>MID</td>\n",
       "      <td>0.0</td>\n",
       "      <td>0.0</td>\n",
       "      <td>Not included in Arsenal's 25-man Premier Leagu...</td>\n",
       "      <td>...</td>\n",
       "      <td>0</td>\n",
       "      <td>0</td>\n",
       "      <td>0</td>\n",
       "      <td>0</td>\n",
       "      <td>NaN</td>\n",
       "      <td></td>\n",
       "      <td>NaN</td>\n",
       "      <td></td>\n",
       "      <td>NaN</td>\n",
       "      <td></td>\n",
       "    </tr>\n",
       "    <tr>\n",
       "      <th>1</th>\n",
       "      <td>2</td>\n",
       "      <td>Sokratis Papastathopoulos</td>\n",
       "      <td>Sokratis</td>\n",
       "      <td>1</td>\n",
       "      <td>arsenal</td>\n",
       "      <td>ARS</td>\n",
       "      <td>DEF</td>\n",
       "      <td>0.0</td>\n",
       "      <td>0.0</td>\n",
       "      <td>Not included in Arsenal's 25-man Premier Leagu...</td>\n",
       "      <td>...</td>\n",
       "      <td>0</td>\n",
       "      <td>0</td>\n",
       "      <td>0</td>\n",
       "      <td>0</td>\n",
       "      <td>NaN</td>\n",
       "      <td></td>\n",
       "      <td>NaN</td>\n",
       "      <td></td>\n",
       "      <td>NaN</td>\n",
       "      <td></td>\n",
       "    </tr>\n",
       "    <tr>\n",
       "      <th>2</th>\n",
       "      <td>3</td>\n",
       "      <td>David Luiz Moreira Marinho</td>\n",
       "      <td>David Luiz</td>\n",
       "      <td>1</td>\n",
       "      <td>arsenal</td>\n",
       "      <td>ARS</td>\n",
       "      <td>DEF</td>\n",
       "      <td>1.4</td>\n",
       "      <td>1.2</td>\n",
       "      <td>Thigh injury - 50% chance of playing</td>\n",
       "      <td>...</td>\n",
       "      <td>0</td>\n",
       "      <td>0</td>\n",
       "      <td>0</td>\n",
       "      <td>51</td>\n",
       "      <td>NaN</td>\n",
       "      <td></td>\n",
       "      <td>4.0</td>\n",
       "      <td></td>\n",
       "      <td>NaN</td>\n",
       "      <td></td>\n",
       "    </tr>\n",
       "    <tr>\n",
       "      <th>3</th>\n",
       "      <td>4</td>\n",
       "      <td>Pierre-Emerick Aubameyang</td>\n",
       "      <td>Aubameyang</td>\n",
       "      <td>1</td>\n",
       "      <td>arsenal</td>\n",
       "      <td>ARS</td>\n",
       "      <td>MID</td>\n",
       "      <td>3.3</td>\n",
       "      <td>1.5</td>\n",
       "      <td></td>\n",
       "      <td>...</td>\n",
       "      <td>0</td>\n",
       "      <td>0</td>\n",
       "      <td>0</td>\n",
       "      <td>73</td>\n",
       "      <td>NaN</td>\n",
       "      <td></td>\n",
       "      <td>6.0</td>\n",
       "      <td></td>\n",
       "      <td>1.0</td>\n",
       "      <td></td>\n",
       "    </tr>\n",
       "    <tr>\n",
       "      <th>4</th>\n",
       "      <td>5</td>\n",
       "      <td>Cédric Soares</td>\n",
       "      <td>Cédric</td>\n",
       "      <td>1</td>\n",
       "      <td>arsenal</td>\n",
       "      <td>ARS</td>\n",
       "      <td>DEF</td>\n",
       "      <td>0.0</td>\n",
       "      <td>0.0</td>\n",
       "      <td></td>\n",
       "      <td>...</td>\n",
       "      <td>0</td>\n",
       "      <td>0</td>\n",
       "      <td>0</td>\n",
       "      <td>0</td>\n",
       "      <td>NaN</td>\n",
       "      <td></td>\n",
       "      <td>NaN</td>\n",
       "      <td></td>\n",
       "      <td>NaN</td>\n",
       "      <td></td>\n",
       "    </tr>\n",
       "  </tbody>\n",
       "</table>\n",
       "<p>5 rows × 53 columns</p>\n",
       "</div>"
      ],
      "text/plain": [
       "   player_id                        name display_slug  team_id     team  \\\n",
       "0          1                  Mesut Özil         Özil        1  arsenal   \n",
       "1          2   Sokratis Papastathopoulos     Sokratis        1  arsenal   \n",
       "2          3  David Luiz Moreira Marinho   David Luiz        1  arsenal   \n",
       "3          4   Pierre-Emerick Aubameyang   Aubameyang        1  arsenal   \n",
       "4          5               Cédric Soares       Cédric        1  arsenal   \n",
       "\n",
       "  team_slug position  points_per_game  form  \\\n",
       "0       ARS      MID              0.0   0.0   \n",
       "1       ARS      DEF              0.0   0.0   \n",
       "2       ARS      DEF              1.4   1.2   \n",
       "3       ARS      MID              3.3   1.5   \n",
       "4       ARS      DEF              0.0   0.0   \n",
       "\n",
       "                                                news  ... penalties_missed  \\\n",
       "0  Not included in Arsenal's 25-man Premier Leagu...  ...                0   \n",
       "1  Not included in Arsenal's 25-man Premier Leagu...  ...                0   \n",
       "2               Thigh injury - 50% chance of playing  ...                0   \n",
       "3                                                     ...                0   \n",
       "4                                                     ...                0   \n",
       "\n",
       "  saves  bonus  bps  corners_and_indirect_freekicks_order  \\\n",
       "0     0      0    0                                   NaN   \n",
       "1     0      0    0                                   NaN   \n",
       "2     0      0   51                                   NaN   \n",
       "3     0      0   73                                   NaN   \n",
       "4     0      0    0                                   NaN   \n",
       "\n",
       "   corners_and_indirect_freekicks_text  direct_freekicks_order  \\\n",
       "0                                                          NaN   \n",
       "1                                                          NaN   \n",
       "2                                                          4.0   \n",
       "3                                                          6.0   \n",
       "4                                                          NaN   \n",
       "\n",
       "   direct_freekicks_text  penalties_order  penalties_text  \n",
       "0                                     NaN                  \n",
       "1                                     NaN                  \n",
       "2                                     NaN                  \n",
       "3                                     1.0                  \n",
       "4                                     NaN                  \n",
       "\n",
       "[5 rows x 53 columns]"
      ]
     },
     "execution_count": 212,
     "metadata": {},
     "output_type": "execute_result"
    }
   ],
   "source": [
    "fpl_player_stats_df.head()"
   ]
  },
  {
   "cell_type": "code",
   "execution_count": 219,
   "metadata": {},
   "outputs": [
    {
     "data": {
      "text/html": [
       "<div>\n",
       "<style scoped>\n",
       "    .dataframe tbody tr th:only-of-type {\n",
       "        vertical-align: middle;\n",
       "    }\n",
       "\n",
       "    .dataframe tbody tr th {\n",
       "        vertical-align: top;\n",
       "    }\n",
       "\n",
       "    .dataframe thead th {\n",
       "        text-align: right;\n",
       "    }\n",
       "</style>\n",
       "<table border=\"1\" class=\"dataframe\">\n",
       "  <thead>\n",
       "    <tr style=\"text-align: right;\">\n",
       "      <th></th>\n",
       "      <th>team_slug</th>\n",
       "      <th>position</th>\n",
       "      <th>count</th>\n",
       "    </tr>\n",
       "  </thead>\n",
       "  <tbody>\n",
       "    <tr>\n",
       "      <th>0</th>\n",
       "      <td>ARS</td>\n",
       "      <td>DEF</td>\n",
       "      <td>13</td>\n",
       "    </tr>\n",
       "    <tr>\n",
       "      <th>1</th>\n",
       "      <td>ARS</td>\n",
       "      <td>FWD</td>\n",
       "      <td>2</td>\n",
       "    </tr>\n",
       "    <tr>\n",
       "      <th>2</th>\n",
       "      <td>ARS</td>\n",
       "      <td>GKP</td>\n",
       "      <td>3</td>\n",
       "    </tr>\n",
       "    <tr>\n",
       "      <th>3</th>\n",
       "      <td>ARS</td>\n",
       "      <td>MID</td>\n",
       "      <td>15</td>\n",
       "    </tr>\n",
       "    <tr>\n",
       "      <th>4</th>\n",
       "      <td>AVL</td>\n",
       "      <td>DEF</td>\n",
       "      <td>10</td>\n",
       "    </tr>\n",
       "    <tr>\n",
       "      <th>...</th>\n",
       "      <td>...</td>\n",
       "      <td>...</td>\n",
       "      <td>...</td>\n",
       "    </tr>\n",
       "    <tr>\n",
       "      <th>75</th>\n",
       "      <td>WHU</td>\n",
       "      <td>MID</td>\n",
       "      <td>11</td>\n",
       "    </tr>\n",
       "    <tr>\n",
       "      <th>76</th>\n",
       "      <td>WOL</td>\n",
       "      <td>DEF</td>\n",
       "      <td>12</td>\n",
       "    </tr>\n",
       "    <tr>\n",
       "      <th>77</th>\n",
       "      <td>WOL</td>\n",
       "      <td>FWD</td>\n",
       "      <td>4</td>\n",
       "    </tr>\n",
       "    <tr>\n",
       "      <th>78</th>\n",
       "      <td>WOL</td>\n",
       "      <td>GKP</td>\n",
       "      <td>3</td>\n",
       "    </tr>\n",
       "    <tr>\n",
       "      <th>79</th>\n",
       "      <td>WOL</td>\n",
       "      <td>MID</td>\n",
       "      <td>11</td>\n",
       "    </tr>\n",
       "  </tbody>\n",
       "</table>\n",
       "<p>80 rows × 3 columns</p>\n",
       "</div>"
      ],
      "text/plain": [
       "   team_slug position  count\n",
       "0        ARS      DEF     13\n",
       "1        ARS      FWD      2\n",
       "2        ARS      GKP      3\n",
       "3        ARS      MID     15\n",
       "4        AVL      DEF     10\n",
       "..       ...      ...    ...\n",
       "75       WHU      MID     11\n",
       "76       WOL      DEF     12\n",
       "77       WOL      FWD      4\n",
       "78       WOL      GKP      3\n",
       "79       WOL      MID     11\n",
       "\n",
       "[80 rows x 3 columns]"
      ]
     },
     "execution_count": 219,
     "metadata": {},
     "output_type": "execute_result"
    }
   ],
   "source": [
    "fpl_player_stats_df.groupby([\"team_slug\", \"position\"])[\"player_id\"].count().reset_index().rename(\n",
    "    columns={'player_id': 'count'})"
   ]
  },
  {
   "cell_type": "code",
   "execution_count": null,
   "metadata": {},
   "outputs": [],
   "source": []
  },
  {
   "cell_type": "markdown",
   "metadata": {},
   "source": [
    "### Reading on statistics\n",
    "\n",
    "- [ICT Index](https://www.premierleague.com/news/65567)"
   ]
  },
  {
   "cell_type": "code",
   "execution_count": null,
   "metadata": {},
   "outputs": [],
   "source": []
  },
  {
   "cell_type": "code",
   "execution_count": null,
   "metadata": {},
   "outputs": [],
   "source": []
  },
  {
   "cell_type": "code",
   "execution_count": null,
   "metadata": {},
   "outputs": [],
   "source": []
  },
  {
   "cell_type": "code",
   "execution_count": null,
   "metadata": {},
   "outputs": [],
   "source": []
  },
  {
   "cell_type": "code",
   "execution_count": null,
   "metadata": {},
   "outputs": [],
   "source": []
  },
  {
   "cell_type": "code",
   "execution_count": null,
   "metadata": {},
   "outputs": [],
   "source": []
  },
  {
   "cell_type": "code",
   "execution_count": null,
   "metadata": {},
   "outputs": [],
   "source": []
  }
 ],
 "metadata": {
  "celltoolbar": "Raw Cell Format",
  "kernelspec": {
   "display_name": "Python 3",
   "language": "python",
   "name": "python3"
  },
  "language_info": {
   "codemirror_mode": {
    "name": "ipython",
    "version": 3
   },
   "file_extension": ".py",
   "mimetype": "text/x-python",
   "name": "python",
   "nbconvert_exporter": "python",
   "pygments_lexer": "ipython3",
   "version": "3.6.9"
  }
 },
 "nbformat": 4,
 "nbformat_minor": 4
}
