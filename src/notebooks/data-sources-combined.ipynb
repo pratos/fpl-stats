{
 "cells": [
  {
   "cell_type": "code",
   "execution_count": 1,
   "metadata": {},
   "outputs": [],
   "source": [
    "%reload_ext autoreload\n",
    "import pandas as pd\n",
    "from bs4 import BeautifulSoup\n",
    "import requests\n",
    "import json\n",
    "from pipetools import pipe, utils, where\n",
    "from fastcore.basics import typed\n",
    "import requests\n",
    "from fastcore.foundation import L\n",
    "import pandas as pd\n",
    "from typing import List\n",
    "from pathlib import Path\n",
    "import re\n",
    "from datetime import datetime, date"
   ]
  },
  {
   "cell_type": "code",
   "execution_count": 21,
   "metadata": {},
   "outputs": [],
   "source": [
    "import sys\n",
    "sys.path.append(\"../../\")"
   ]
  },
  {
   "cell_type": "code",
   "execution_count": 22,
   "metadata": {},
   "outputs": [],
   "source": [
    "from src.run import run_fbref\n",
    "from src.fbref.utilities import format_age, get_proxy_format, to_float"
   ]
  },
  {
   "cell_type": "code",
   "execution_count": 33,
   "metadata": {
    "scrolled": false
   },
   "outputs": [
    {
     "name": "stderr",
     "output_type": "stream",
     "text": [
      "2021-01-09 15:48:32.705 | INFO     | src.run:fetch_proxies:86 - Fetching proxies...\n",
      "2021-01-09 15:48:35.234 | DEBUG    | src.run:fetch_proxies:102 - [FETCH] Proxies are:\n",
      "['http://45.145.56.68:7634:cocrxyts-dest:5f5p1h28ekyr', 'http://45.72.55.228:7265:cocrxyts-dest:5f5p1h28ekyr', 'http://45.86.15.48:8595:cocrxyts-dest:5f5p1h28ekyr', 'http://185.95.157.172:6193:cocrxyts-dest:5f5p1h28ekyr', 'http://45.130.255.211:7233:cocrxyts-dest:5f5p1h28ekyr']\n",
      "2021-01-09 15:48:35.236 | INFO     | src.run:run_fbref:29 - [TEAM:LIVERPOOL] Fetching data from Fbref\n",
      "2021-01-09 15:48:38.711 | INFO     | src.run:run_fbref:35 - [TEAM:LIVERPOOL] Example Shooting stats: ShootingStats(name='Andrew Robertson', profile_url='https://fbref.com/en/players/2e4f5f03/Andrew-Robertson', nationality=['sco', 'SCO'], position='DF', age='26 years and 304 days', minutes_90s=17.0, goals=1, shots_total=7, shots_on_target=2, shots_on_target_pct=28.6, shots_total_per90=0.41, goals_per_shot=0.14, goals_per_shot_on_target=0.5, shots_free_kicks=0.0, pens_made=0, pens_att=0, xg=0.8, npxg=0.8, npxg_per_shot=0.12, xg_net='+0.2', npxg_net='+0.2')\n",
      "2021-01-09 15:48:38.981 | INFO     | src.run:run_fbref:40 - [TEAM:LIVERPOOL] Example Passing stats: PassingStats(name='Andrew Robertson', passes_completed=1218, passes=1537, passes_pct=79.2, passes_total_distance=23012.0, passes_progressive_distance=7439.0, passes_completed_short=495, passes_short=565, passes_pct_short=87.6, passes_completed_medium=575, passes_medium=670, passes_pct_medium=85.8, passes_completed_long=136, passes_long=256, passes_pct_long=53.1, assists=5, xa=3.2, xa_net='+1.8', assisted_shots=32, passes_into_final_third=86, passes_into_penalty_area=34, crosses_into_penalty_area=14, progressive_passes=129)\n",
      "2021-01-09 15:48:39.247 | INFO     | src.run:run_fbref:45 - [TEAM:LIVERPOOL] Example Extra Passing stats: ExtraPassingStats(name='Andrew Robertson', passes_live=1293, passes_dead=244, passes_free_kicks=36, through_balls=3, passes_pressure=101, passes_switches=50, crosses=87, corner_kicks=60, corner_kicks_in=13, corner_kicks_out=29, corner_kicks_straight=11, passes_ground=993, passes_low=261, passes_high=283, passes_left_foot=1249, passes_right_foot=70, passes_head=55, throw_ins=148, passes_other_body=1, passes_completed=1218, passes_offsides=4, passes_oob=20, passes_intercepted=22, passes_blocked=49)\n",
      "2021-01-09 15:48:39.574 | INFO     | src.run:run_fbref:50 - [TEAM:LIVERPOOL] Example GCA stats: GCAStats(name='Andrew Robertson', sca=47, sca_per90=2.76, sca_passes_live=34, sca_passes_dead=11, sca_dribbles=2, sca_shots=0, sca_fouled=0, gca=10, gca_per90=0.59, gca_passes_live=6, gca_passes_dead=2, gca_dribbles=2, gca_shots=0, gca_fouled=0, gca_og_for=0)\n",
      "2021-01-09 15:48:39.832 | INFO     | src.run:run_fbref:53 - [TEAM:LIVERPOOL] Example Def Action stats: DefensiveActions(name='Andrew Robertson', tackles=16, tackles_won=10, tackles_def_3rd=11, tackles_mid_3rd=4, tackles_att_3rd=1, dribble_tackles=9, dribbles_vs=22, dribble_tackles_pct=40.9, dribbled_past=13, pressures=134, pressure_regains=51, pressure_regain_pct=38.1, pressures_def_3rd=50, pressures_mid_3rd=40, pressures_att_3rd=44, blocks=31, blocked_shots=7, blocked_shots_saves=0, blocked_passes=24, interceptions=9, tackles_interceptions=25, clearances=32, errors=1)\n",
      "2021-01-09 15:48:40.076 | INFO     | src.run:run_fbref:58 - [TEAM:LIVERPOOL] Example Possession stats: PossessionStats(name='Andrew Robertson', touches=1675, touches_def_pen_area=43, touches_def_3rd=350, touches_mid_3rd=790, touches_att_3rd=642, touches_att_pen_area=54, touches_live_ball=1434, dribbles_completed=16, dribbles=28, dribbles_completed_pct=57.1, players_dribbled_past=19, nutmegs=1, carries=1041, carry_distance=4846, carry_progressive_distance=2958, pass_targets=1235, passes_received=1137, passes_received_pct=92.1, miscontrols=18, dispossessed=10)\n",
      "2021-01-09 15:48:40.447 | INFO     | src.run:run_fbref:63 - [TEAM:LIVERPOOL] Example Playing time stats: PlayingTimeStats(name='Andrew Robertson', games=17, minutes=1530.0, minutes_per_game=90.0, minutes_pct=100.0, minutes_90s=17.0, games_starts=17, minutes_per_start=90.0, games_subs=0, minutes_per_sub=0.0, unused_subs=0, points_per_match=1.94, on_goals_for=37.0, on_goals_against=21.0, plus_minus='+16', plus_minus_per90='+0.94', plus_minus_wowy='', on_xg_for=33.1, on_xg_against=20.0, xg_plus_minus='+13.1', xg_plus_minus_per90='+0.77', xg_plus_minus_wowy='')\n",
      "2021-01-09 15:48:40.668 | INFO     | src.run:run_fbref:68 - [TEAM:LIVERPOOL] Example Misc stats: MiscStats(name='Andrew Robertson', cards_yellow=1, cards_red=0, cards_yellow_red=0, fouls=12, fouled=4, offsides=4, crosses=87, interceptions=9, tackles_won=10, pens_won=0, pens_conceded=1, own_goals=0, ball_recoveries=196, aerials_won=17, aerials_lost=15, aerials_won_pct=53.1)\n"
     ]
    }
   ],
   "source": [
    "stats = run_fbref(debug=True)"
   ]
  },
  {
   "cell_type": "code",
   "execution_count": 41,
   "metadata": {},
   "outputs": [],
   "source": [
    "stats_available = [\"shooting_stats\", \"passing_stats\", \"extra_passing_stats\", \"gca_stats\",\n",
    "                   \"defensive_action_stats\", \"possession_stats\", \"playing_time_stats\", \"misc_stats\"]"
   ]
  },
  {
   "cell_type": "code",
   "execution_count": 42,
   "metadata": {},
   "outputs": [
    {
     "data": {
      "text/plain": [
       "('liverpool', 'https://fbref.com/en/squads/822bd0ba/Liverpool-Stats')"
      ]
     },
     "execution_count": 42,
     "metadata": {},
     "output_type": "execute_result"
    }
   ],
   "source": [
    "stats[\"team\"]"
   ]
  },
  {
   "cell_type": "code",
   "execution_count": 47,
   "metadata": {
    "scrolled": false
   },
   "outputs": [],
   "source": [
    "# for statsa in stats_available:\n",
    "#     print([stat._asdict() for stat in stats[statsa]])"
   ]
  },
  {
   "cell_type": "code",
   "execution_count": null,
   "metadata": {},
   "outputs": [],
   "source": []
  },
  {
   "cell_type": "markdown",
   "metadata": {},
   "source": [
    "## FPL Data"
   ]
  },
  {
   "cell_type": "code",
   "execution_count": 2,
   "metadata": {},
   "outputs": [],
   "source": [
    "fpl_request = requests.get(\"https://fantasy.premierleague.com/api/bootstrap-static/\")"
   ]
  },
  {
   "cell_type": "code",
   "execution_count": 3,
   "metadata": {},
   "outputs": [],
   "source": [
    "all_fpl_data = fpl_request.content"
   ]
  },
  {
   "cell_type": "code",
   "execution_count": 4,
   "metadata": {},
   "outputs": [],
   "source": [
    "all_fpl_data = json.loads(all_fpl_data)"
   ]
  },
  {
   "cell_type": "code",
   "execution_count": 5,
   "metadata": {},
   "outputs": [
    {
     "data": {
      "text/plain": [
       "dict_keys(['events', 'game_settings', 'phases', 'teams', 'total_players', 'elements', 'element_stats', 'element_types'])"
      ]
     },
     "execution_count": 5,
     "metadata": {},
     "output_type": "execute_result"
    }
   ],
   "source": [
    "all_fpl_data.keys()"
   ]
  },
  {
   "cell_type": "code",
   "execution_count": 6,
   "metadata": {},
   "outputs": [
    {
     "data": {
      "text/plain": [
       "7818404"
      ]
     },
     "execution_count": 6,
     "metadata": {},
     "output_type": "execute_result"
    }
   ],
   "source": [
    "all_fpl_data[\"total_players\"]"
   ]
  },
  {
   "cell_type": "code",
   "execution_count": 7,
   "metadata": {},
   "outputs": [],
   "source": [
    "fpl_players = L(all_fpl_data[\"elements\"])"
   ]
  },
  {
   "cell_type": "code",
   "execution_count": 8,
   "metadata": {},
   "outputs": [],
   "source": [
    "fpl_teams = L(all_fpl_data[\"teams\"])"
   ]
  },
  {
   "cell_type": "code",
   "execution_count": 9,
   "metadata": {},
   "outputs": [
    {
     "data": {
      "text/plain": [
       "{'code': 3,\n",
       " 'draw': 0,\n",
       " 'form': None,\n",
       " 'id': 1,\n",
       " 'loss': 0,\n",
       " 'name': 'Arsenal',\n",
       " 'played': 0,\n",
       " 'points': 0,\n",
       " 'position': 0,\n",
       " 'short_name': 'ARS',\n",
       " 'strength': 4,\n",
       " 'team_division': None,\n",
       " 'unavailable': False,\n",
       " 'win': 0,\n",
       " 'strength_overall_home': 1190,\n",
       " 'strength_overall_away': 1210,\n",
       " 'strength_attack_home': 1170,\n",
       " 'strength_attack_away': 1210,\n",
       " 'strength_defence_home': 1190,\n",
       " 'strength_defence_away': 1200,\n",
       " 'pulse_id': 1}"
      ]
     },
     "execution_count": 9,
     "metadata": {},
     "output_type": "execute_result"
    }
   ],
   "source": [
    "fpl_teams[0]"
   ]
  },
  {
   "cell_type": "code",
   "execution_count": 10,
   "metadata": {},
   "outputs": [],
   "source": [
    "@typed\n",
    "def extract_team_details(team: dict) -> dict:\n",
    "    return {str(team[\"code\"]): {\"name\": team[\"name\"].lower().replace(\" \", \"_\"), \"slug\": team[\"short_name\"]}}"
   ]
  },
  {
   "cell_type": "code",
   "execution_count": 11,
   "metadata": {},
   "outputs": [
    {
     "data": {
      "text/plain": [
       "[None,\n",
       " None,\n",
       " None,\n",
       " None,\n",
       " None,\n",
       " None,\n",
       " None,\n",
       " None,\n",
       " None,\n",
       " None,\n",
       " None,\n",
       " None,\n",
       " None,\n",
       " None,\n",
       " None,\n",
       " None,\n",
       " None,\n",
       " None,\n",
       " None,\n",
       " None]"
      ]
     },
     "execution_count": 11,
     "metadata": {},
     "output_type": "execute_result"
    }
   ],
   "source": [
    "fpl_team_mapper = {}\n",
    "[fpl_team_mapper.update(extract_team_details(team)) for team in fpl_teams]"
   ]
  },
  {
   "cell_type": "code",
   "execution_count": 12,
   "metadata": {},
   "outputs": [
    {
     "data": {
      "text/plain": [
       "{'3': {'name': 'arsenal', 'slug': 'ARS'},\n",
       " '7': {'name': 'aston_villa', 'slug': 'AVL'},\n",
       " '36': {'name': 'brighton', 'slug': 'BHA'},\n",
       " '90': {'name': 'burnley', 'slug': 'BUR'},\n",
       " '8': {'name': 'chelsea', 'slug': 'CHE'},\n",
       " '31': {'name': 'crystal_palace', 'slug': 'CRY'},\n",
       " '11': {'name': 'everton', 'slug': 'EVE'},\n",
       " '54': {'name': 'fulham', 'slug': 'FUL'},\n",
       " '13': {'name': 'leicester', 'slug': 'LEI'},\n",
       " '2': {'name': 'leeds', 'slug': 'LEE'},\n",
       " '14': {'name': 'liverpool', 'slug': 'LIV'},\n",
       " '43': {'name': 'man_city', 'slug': 'MCI'},\n",
       " '1': {'name': 'man_utd', 'slug': 'MUN'},\n",
       " '4': {'name': 'newcastle', 'slug': 'NEW'},\n",
       " '49': {'name': 'sheffield_utd', 'slug': 'SHU'},\n",
       " '20': {'name': 'southampton', 'slug': 'SOU'},\n",
       " '6': {'name': 'spurs', 'slug': 'TOT'},\n",
       " '35': {'name': 'west_brom', 'slug': 'WBA'},\n",
       " '21': {'name': 'west_ham', 'slug': 'WHU'},\n",
       " '39': {'name': 'wolves', 'slug': 'WOL'}}"
      ]
     },
     "execution_count": 12,
     "metadata": {},
     "output_type": "execute_result"
    }
   ],
   "source": [
    "fpl_team_mapper"
   ]
  },
  {
   "cell_type": "code",
   "execution_count": 13,
   "metadata": {},
   "outputs": [
    {
     "data": {
      "text/plain": [
       "{'id': 1,\n",
       " 'name': 'Gameweek 1',\n",
       " 'deadline_time': '2020-09-12T10:00:00Z',\n",
       " 'average_entry_score': 50,\n",
       " 'finished': True,\n",
       " 'data_checked': True,\n",
       " 'highest_scoring_entry': 4761681,\n",
       " 'deadline_time_epoch': 1599904800,\n",
       " 'deadline_time_game_offset': 0,\n",
       " 'highest_score': 142,\n",
       " 'is_previous': False,\n",
       " 'is_current': False,\n",
       " 'is_next': False,\n",
       " 'chip_plays': [{'chip_name': 'bboost', 'num_played': 112843},\n",
       "  {'chip_name': '3xc', 'num_played': 225426}],\n",
       " 'most_selected': 259,\n",
       " 'most_transferred_in': 12,\n",
       " 'top_element': 254,\n",
       " 'top_element_info': {'id': 254, 'points': 20},\n",
       " 'transfers_made': 0,\n",
       " 'most_captained': 4,\n",
       " 'most_vice_captained': 4}"
      ]
     },
     "execution_count": 13,
     "metadata": {},
     "output_type": "execute_result"
    }
   ],
   "source": [
    "all_fpl_data[\"events\"][0]"
   ]
  },
  {
   "cell_type": "code",
   "execution_count": 14,
   "metadata": {},
   "outputs": [
    {
     "data": {
      "text/plain": [
       "{'id': 4, 'name': 'November', 'start_event': 8, 'stop_event': 10}"
      ]
     },
     "execution_count": 14,
     "metadata": {},
     "output_type": "execute_result"
    }
   ],
   "source": [
    "all_fpl_data[\"phases\"][3]"
   ]
  },
  {
   "cell_type": "code",
   "execution_count": 15,
   "metadata": {},
   "outputs": [
    {
     "data": {
      "text/plain": [
       "[None, None, None, None]"
      ]
     },
     "execution_count": 15,
     "metadata": {},
     "output_type": "execute_result"
    }
   ],
   "source": [
    "category_types = {}\n",
    "[category_types.update({str(player_cat[\"id\"]): player_cat[\"singular_name_short\"]}) for player_cat in all_fpl_data[\"element_types\"]]"
   ]
  },
  {
   "cell_type": "code",
   "execution_count": 16,
   "metadata": {},
   "outputs": [
    {
     "data": {
      "text/plain": [
       "{'1': 'GKP', '2': 'DEF', '3': 'MID', '4': 'FWD'}"
      ]
     },
     "execution_count": 16,
     "metadata": {},
     "output_type": "execute_result"
    }
   ],
   "source": [
    "category_types"
   ]
  },
  {
   "cell_type": "code",
   "execution_count": 17,
   "metadata": {},
   "outputs": [
    {
     "data": {
      "text/plain": [
       "[{'label': 'Minutes played', 'name': 'minutes'},\n",
       " {'label': 'Goals scored', 'name': 'goals_scored'},\n",
       " {'label': 'Assists', 'name': 'assists'},\n",
       " {'label': 'Clean sheets', 'name': 'clean_sheets'},\n",
       " {'label': 'Goals conceded', 'name': 'goals_conceded'},\n",
       " {'label': 'Own goals', 'name': 'own_goals'},\n",
       " {'label': 'Penalties saved', 'name': 'penalties_saved'},\n",
       " {'label': 'Penalties missed', 'name': 'penalties_missed'},\n",
       " {'label': 'Yellow cards', 'name': 'yellow_cards'},\n",
       " {'label': 'Red cards', 'name': 'red_cards'},\n",
       " {'label': 'Saves', 'name': 'saves'},\n",
       " {'label': 'Bonus', 'name': 'bonus'},\n",
       " {'label': 'Bonus Points System', 'name': 'bps'},\n",
       " {'label': 'Influence', 'name': 'influence'},\n",
       " {'label': 'Creativity', 'name': 'creativity'},\n",
       " {'label': 'Threat', 'name': 'threat'},\n",
       " {'label': 'ICT Index', 'name': 'ict_index'}]"
      ]
     },
     "execution_count": 17,
     "metadata": {},
     "output_type": "execute_result"
    }
   ],
   "source": [
    "all_fpl_data[\"element_stats\"]"
   ]
  },
  {
   "cell_type": "code",
   "execution_count": 18,
   "metadata": {},
   "outputs": [],
   "source": [
    "@typed\n",
    "def extract_player_fpl_stats(player: dict) -> dict:\n",
    "    return {\n",
    "        \"player_id\": player[\"id\"],\n",
    "        \"name\": f\"{player['first_name']} {player['second_name']}\",\n",
    "        \"display_slug\": player[\"web_name\"],\n",
    "        \"team_id\": player[\"team\"],\n",
    "        \"team\": fpl_team_mapper.get(str(player[\"team_code\"])).get(\"name\"),\n",
    "        \"team_slug\": fpl_team_mapper.get(str(player[\"team_code\"])).get(\"slug\"),\n",
    "        \"position\": category_types.get(str(player[\"element_type\"])),\n",
    "        \"points_per_game\": to_float(player[\"points_per_game\"]),\n",
    "        \"form\": to_float(player[\"form\"]),\n",
    "        \"news\": player[\"news\"],\n",
    "        \"news_added_at\": player[\"news_added\"],\n",
    "        \"status\": player[\"status\"],\n",
    "        \"total_points\": player[\"total_points\"],\n",
    "        \"value_form\": to_float(player[\"value_form\"]),\n",
    "        \"value_season\": to_float(player[\"value_season\"]),\n",
    "        \"selected_by_percent\": to_float(player[\"selected_by_percent\"]),\n",
    "        \"points_per_game\": to_float(player[\"points_per_game\"]),\n",
    "        \"influence_rank_overall\": player[\"influence_rank\"],\n",
    "        \"creativity_rank_overall\": player[\"creativity_rank\"],\n",
    "        \"threat_rank_overall\": player[\"threat_rank\"],\n",
    "        \"influence_rank_by_position\": player[\"influence_rank_type\"],\n",
    "        \"creativity_rank_by_position\": player[\"creativity_rank_type\"],\n",
    "        \"threat_rank_by_position:\": player[\"threat_rank_type\"],\n",
    "        \"ict_index\": player[\"ict_index_rank\"],\n",
    "        \"ict_index_by_position\": player[\"ict_index_rank_type\"],\n",
    "        \"dreamteam_count\": player[\"dreamteam_count\"],\n",
    "        \"transfers_in\": player[\"transfers_in\"],\n",
    "        \"transfers_out\": player[\"transfers_out\"],\n",
    "        \"chance_of_playing_next_round\": player[\"chance_of_playing_next_round\"],\n",
    "        \"chance_of_playing_this_round\": player[\"chance_of_playing_this_round\"],\n",
    "        \"cost_change_event\": player[\"cost_change_event\"],\n",
    "        \"cost_change_event_fall\": player[\"cost_change_event_fall\"],\n",
    "        \"cost_change_start\": player[\"cost_change_start\"],\n",
    "        \"cost_change_start_fall\": player[\"cost_change_start_fall\"],\n",
    "        \"ep_next\": player[\"ep_next\"],\n",
    "        \"ep_this\": player[\"ep_this\"],\n",
    "        \"now_cost\": player[\"now_cost\"],\n",
    "        \"transfers_in\": player[\"transfers_in\"],\n",
    "        \"transfers_out\": player[\"transfers_out\"],\n",
    "        \"transfers_in_event\": player[\"transfers_in_event\"],\n",
    "        \"transfers_out_event\": player[\"transfers_out_event\"],\n",
    "        \"goals_scored\": player[\"goals_scored\"],\n",
    "        \"assists\": player[\"assists\"],\n",
    "        \"clean_sheets\": player[\"clean_sheets\"],\n",
    "        \"goals_conceded\": player[\"goals_conceded\"],\n",
    "        \"penalties_saved\": player[\"penalties_saved\"],\n",
    "        \"penalties_missed\": player[\"penalties_missed\"],\n",
    "        \"saves\": player[\"saves\"],\n",
    "        \"bonus\": player[\"bonus\"],\n",
    "        \"bps\": player[\"bps\"],\n",
    "        \"corners_and_indirect_freekicks_order\": player[\"corners_and_indirect_freekicks_order\"],\n",
    "        \"corners_and_indirect_freekicks_text\": player[\"corners_and_indirect_freekicks_text\"],\n",
    "        \"direct_freekicks_order\": player[\"direct_freekicks_order\"],\n",
    "        \"direct_freekicks_text\": player[\"direct_freekicks_text\"],\n",
    "        \"penalties_order\": player[\"penalties_order\"],\n",
    "        \"penalties_text\": player[\"penalties_text\"],\n",
    "    }"
   ]
  },
  {
   "cell_type": "code",
   "execution_count": 23,
   "metadata": {
    "scrolled": true
   },
   "outputs": [
    {
     "name": "stdout",
     "output_type": "stream",
     "text": [
      "CPU times: user 31.2 ms, sys: 0 ns, total: 31.2 ms\n",
      "Wall time: 30.3 ms\n"
     ]
    }
   ],
   "source": [
    "%time fpl_player_stats = L([extract_player_fpl_stats(player) for player in fpl_players])"
   ]
  },
  {
   "cell_type": "code",
   "execution_count": 24,
   "metadata": {},
   "outputs": [],
   "source": [
    "fpl_player_stats_df = pd.DataFrame.from_dict(fpl_player_stats)"
   ]
  },
  {
   "cell_type": "code",
   "execution_count": 25,
   "metadata": {},
   "outputs": [],
   "source": [
    "FPL_DATA = Path(\"../../data/fpl-data\")"
   ]
  },
  {
   "cell_type": "code",
   "execution_count": 26,
   "metadata": {},
   "outputs": [
    {
     "data": {
      "text/plain": [
       "datetime.date(2021, 1, 9)"
      ]
     },
     "execution_count": 26,
     "metadata": {},
     "output_type": "execute_result"
    }
   ],
   "source": [
    "date.today()"
   ]
  },
  {
   "cell_type": "code",
   "execution_count": 27,
   "metadata": {},
   "outputs": [],
   "source": [
    "t_now = re.sub(r'\\D', '', str(date.today()))"
   ]
  },
  {
   "cell_type": "markdown",
   "metadata": {},
   "source": [
    "#### Check gameweek aggregated stats"
   ]
  },
  {
   "cell_type": "code",
   "execution_count": 28,
   "metadata": {},
   "outputs": [
    {
     "data": {
      "text/plain": [
       "{'id': 2,\n",
       " 'name': 'Gameweek 2',\n",
       " 'deadline_time': '2020-09-19T10:00:00Z',\n",
       " 'average_entry_score': 59,\n",
       " 'finished': True,\n",
       " 'data_checked': True,\n",
       " 'highest_scoring_entry': 6234344,\n",
       " 'deadline_time_epoch': 1600509600,\n",
       " 'deadline_time_game_offset': 0,\n",
       " 'highest_score': 165,\n",
       " 'is_previous': False,\n",
       " 'is_current': False,\n",
       " 'is_next': False,\n",
       " 'chip_plays': [{'chip_name': 'bboost', 'num_played': 94615},\n",
       "  {'chip_name': 'freehit', 'num_played': 111968},\n",
       "  {'chip_name': 'wildcard', 'num_played': 494000},\n",
       "  {'chip_name': '3xc', 'num_played': 221133}],\n",
       " 'most_selected': 259,\n",
       " 'most_transferred_in': 302,\n",
       " 'top_element': 390,\n",
       " 'top_element_info': {'id': 390, 'points': 24},\n",
       " 'transfers_made': 14637421,\n",
       " 'most_captained': 4,\n",
       " 'most_vice_captained': 254}"
      ]
     },
     "execution_count": 28,
     "metadata": {},
     "output_type": "execute_result"
    }
   ],
   "source": [
    "all_fpl_data[\"events\"][1]"
   ]
  },
  {
   "cell_type": "code",
   "execution_count": 29,
   "metadata": {},
   "outputs": [],
   "source": [
    "live_gameweek = 18"
   ]
  },
  {
   "cell_type": "code",
   "execution_count": 30,
   "metadata": {},
   "outputs": [],
   "source": [
    "FPL_DATA.mkdir(parents=True, exist_ok=True)\n",
    "fpl_player_stats_df.to_csv(FPL_DATA / f\"{t_now}_GW{live_gameweek}_player_stats.csv\")"
   ]
  },
  {
   "cell_type": "markdown",
   "metadata": {},
   "source": [
    "### Basic EDA"
   ]
  },
  {
   "cell_type": "code",
   "execution_count": 31,
   "metadata": {},
   "outputs": [
    {
     "data": {
      "text/html": [
       "<div>\n",
       "<style scoped>\n",
       "    .dataframe tbody tr th:only-of-type {\n",
       "        vertical-align: middle;\n",
       "    }\n",
       "\n",
       "    .dataframe tbody tr th {\n",
       "        vertical-align: top;\n",
       "    }\n",
       "\n",
       "    .dataframe thead th {\n",
       "        text-align: right;\n",
       "    }\n",
       "</style>\n",
       "<table border=\"1\" class=\"dataframe\">\n",
       "  <thead>\n",
       "    <tr style=\"text-align: right;\">\n",
       "      <th></th>\n",
       "      <th>player_id</th>\n",
       "      <th>name</th>\n",
       "      <th>display_slug</th>\n",
       "      <th>team_id</th>\n",
       "      <th>team</th>\n",
       "      <th>team_slug</th>\n",
       "      <th>position</th>\n",
       "      <th>points_per_game</th>\n",
       "      <th>form</th>\n",
       "      <th>news</th>\n",
       "      <th>...</th>\n",
       "      <th>penalties_missed</th>\n",
       "      <th>saves</th>\n",
       "      <th>bonus</th>\n",
       "      <th>bps</th>\n",
       "      <th>corners_and_indirect_freekicks_order</th>\n",
       "      <th>corners_and_indirect_freekicks_text</th>\n",
       "      <th>direct_freekicks_order</th>\n",
       "      <th>direct_freekicks_text</th>\n",
       "      <th>penalties_order</th>\n",
       "      <th>penalties_text</th>\n",
       "    </tr>\n",
       "  </thead>\n",
       "  <tbody>\n",
       "    <tr>\n",
       "      <th>0</th>\n",
       "      <td>1</td>\n",
       "      <td>Mesut Özil</td>\n",
       "      <td>Özil</td>\n",
       "      <td>1</td>\n",
       "      <td>arsenal</td>\n",
       "      <td>ARS</td>\n",
       "      <td>MID</td>\n",
       "      <td>0.0</td>\n",
       "      <td>0.0</td>\n",
       "      <td>Not included in Arsenal's 25-man Premier Leagu...</td>\n",
       "      <td>...</td>\n",
       "      <td>0</td>\n",
       "      <td>0</td>\n",
       "      <td>0</td>\n",
       "      <td>0</td>\n",
       "      <td>NaN</td>\n",
       "      <td></td>\n",
       "      <td>NaN</td>\n",
       "      <td></td>\n",
       "      <td>NaN</td>\n",
       "      <td></td>\n",
       "    </tr>\n",
       "    <tr>\n",
       "      <th>1</th>\n",
       "      <td>2</td>\n",
       "      <td>Sokratis Papastathopoulos</td>\n",
       "      <td>Sokratis</td>\n",
       "      <td>1</td>\n",
       "      <td>arsenal</td>\n",
       "      <td>ARS</td>\n",
       "      <td>DEF</td>\n",
       "      <td>0.0</td>\n",
       "      <td>0.0</td>\n",
       "      <td>Not included in Arsenal's 25-man Premier Leagu...</td>\n",
       "      <td>...</td>\n",
       "      <td>0</td>\n",
       "      <td>0</td>\n",
       "      <td>0</td>\n",
       "      <td>0</td>\n",
       "      <td>NaN</td>\n",
       "      <td></td>\n",
       "      <td>NaN</td>\n",
       "      <td></td>\n",
       "      <td>NaN</td>\n",
       "      <td></td>\n",
       "    </tr>\n",
       "    <tr>\n",
       "      <th>2</th>\n",
       "      <td>3</td>\n",
       "      <td>David Luiz Moreira Marinho</td>\n",
       "      <td>David Luiz</td>\n",
       "      <td>1</td>\n",
       "      <td>arsenal</td>\n",
       "      <td>ARS</td>\n",
       "      <td>DEF</td>\n",
       "      <td>1.1</td>\n",
       "      <td>0.3</td>\n",
       "      <td></td>\n",
       "      <td>...</td>\n",
       "      <td>0</td>\n",
       "      <td>0</td>\n",
       "      <td>0</td>\n",
       "      <td>70</td>\n",
       "      <td>NaN</td>\n",
       "      <td></td>\n",
       "      <td>4.0</td>\n",
       "      <td></td>\n",
       "      <td>NaN</td>\n",
       "      <td></td>\n",
       "    </tr>\n",
       "    <tr>\n",
       "      <th>3</th>\n",
       "      <td>4</td>\n",
       "      <td>Pierre-Emerick Aubameyang</td>\n",
       "      <td>Aubameyang</td>\n",
       "      <td>1</td>\n",
       "      <td>arsenal</td>\n",
       "      <td>ARS</td>\n",
       "      <td>MID</td>\n",
       "      <td>3.5</td>\n",
       "      <td>2.7</td>\n",
       "      <td></td>\n",
       "      <td>...</td>\n",
       "      <td>0</td>\n",
       "      <td>0</td>\n",
       "      <td>4</td>\n",
       "      <td>154</td>\n",
       "      <td>NaN</td>\n",
       "      <td></td>\n",
       "      <td>NaN</td>\n",
       "      <td></td>\n",
       "      <td>1.0</td>\n",
       "      <td></td>\n",
       "    </tr>\n",
       "    <tr>\n",
       "      <th>4</th>\n",
       "      <td>5</td>\n",
       "      <td>Cédric Soares</td>\n",
       "      <td>Cédric</td>\n",
       "      <td>1</td>\n",
       "      <td>arsenal</td>\n",
       "      <td>ARS</td>\n",
       "      <td>DEF</td>\n",
       "      <td>1.0</td>\n",
       "      <td>0.2</td>\n",
       "      <td></td>\n",
       "      <td>...</td>\n",
       "      <td>0</td>\n",
       "      <td>0</td>\n",
       "      <td>0</td>\n",
       "      <td>3</td>\n",
       "      <td>NaN</td>\n",
       "      <td></td>\n",
       "      <td>NaN</td>\n",
       "      <td></td>\n",
       "      <td>NaN</td>\n",
       "      <td></td>\n",
       "    </tr>\n",
       "  </tbody>\n",
       "</table>\n",
       "<p>5 rows × 53 columns</p>\n",
       "</div>"
      ],
      "text/plain": [
       "   player_id                        name display_slug  team_id     team  \\\n",
       "0          1                  Mesut Özil         Özil        1  arsenal   \n",
       "1          2   Sokratis Papastathopoulos     Sokratis        1  arsenal   \n",
       "2          3  David Luiz Moreira Marinho   David Luiz        1  arsenal   \n",
       "3          4   Pierre-Emerick Aubameyang   Aubameyang        1  arsenal   \n",
       "4          5               Cédric Soares       Cédric        1  arsenal   \n",
       "\n",
       "  team_slug position  points_per_game  form  \\\n",
       "0       ARS      MID              0.0   0.0   \n",
       "1       ARS      DEF              0.0   0.0   \n",
       "2       ARS      DEF              1.1   0.3   \n",
       "3       ARS      MID              3.5   2.7   \n",
       "4       ARS      DEF              1.0   0.2   \n",
       "\n",
       "                                                news  ... penalties_missed  \\\n",
       "0  Not included in Arsenal's 25-man Premier Leagu...  ...                0   \n",
       "1  Not included in Arsenal's 25-man Premier Leagu...  ...                0   \n",
       "2                                                     ...                0   \n",
       "3                                                     ...                0   \n",
       "4                                                     ...                0   \n",
       "\n",
       "  saves  bonus  bps  corners_and_indirect_freekicks_order  \\\n",
       "0     0      0    0                                   NaN   \n",
       "1     0      0    0                                   NaN   \n",
       "2     0      0   70                                   NaN   \n",
       "3     0      4  154                                   NaN   \n",
       "4     0      0    3                                   NaN   \n",
       "\n",
       "   corners_and_indirect_freekicks_text  direct_freekicks_order  \\\n",
       "0                                                          NaN   \n",
       "1                                                          NaN   \n",
       "2                                                          4.0   \n",
       "3                                                          NaN   \n",
       "4                                                          NaN   \n",
       "\n",
       "   direct_freekicks_text  penalties_order  penalties_text  \n",
       "0                                     NaN                  \n",
       "1                                     NaN                  \n",
       "2                                     NaN                  \n",
       "3                                     1.0                  \n",
       "4                                     NaN                  \n",
       "\n",
       "[5 rows x 53 columns]"
      ]
     },
     "execution_count": 31,
     "metadata": {},
     "output_type": "execute_result"
    }
   ],
   "source": [
    "fpl_player_stats_df.head()"
   ]
  },
  {
   "cell_type": "code",
   "execution_count": 32,
   "metadata": {},
   "outputs": [
    {
     "data": {
      "text/html": [
       "<div>\n",
       "<style scoped>\n",
       "    .dataframe tbody tr th:only-of-type {\n",
       "        vertical-align: middle;\n",
       "    }\n",
       "\n",
       "    .dataframe tbody tr th {\n",
       "        vertical-align: top;\n",
       "    }\n",
       "\n",
       "    .dataframe thead th {\n",
       "        text-align: right;\n",
       "    }\n",
       "</style>\n",
       "<table border=\"1\" class=\"dataframe\">\n",
       "  <thead>\n",
       "    <tr style=\"text-align: right;\">\n",
       "      <th></th>\n",
       "      <th>team_slug</th>\n",
       "      <th>position</th>\n",
       "      <th>count</th>\n",
       "    </tr>\n",
       "  </thead>\n",
       "  <tbody>\n",
       "    <tr>\n",
       "      <th>0</th>\n",
       "      <td>ARS</td>\n",
       "      <td>DEF</td>\n",
       "      <td>13</td>\n",
       "    </tr>\n",
       "    <tr>\n",
       "      <th>1</th>\n",
       "      <td>ARS</td>\n",
       "      <td>FWD</td>\n",
       "      <td>2</td>\n",
       "    </tr>\n",
       "    <tr>\n",
       "      <th>2</th>\n",
       "      <td>ARS</td>\n",
       "      <td>GKP</td>\n",
       "      <td>3</td>\n",
       "    </tr>\n",
       "    <tr>\n",
       "      <th>3</th>\n",
       "      <td>ARS</td>\n",
       "      <td>MID</td>\n",
       "      <td>15</td>\n",
       "    </tr>\n",
       "    <tr>\n",
       "      <th>4</th>\n",
       "      <td>AVL</td>\n",
       "      <td>DEF</td>\n",
       "      <td>10</td>\n",
       "    </tr>\n",
       "    <tr>\n",
       "      <th>...</th>\n",
       "      <td>...</td>\n",
       "      <td>...</td>\n",
       "      <td>...</td>\n",
       "    </tr>\n",
       "    <tr>\n",
       "      <th>75</th>\n",
       "      <td>WHU</td>\n",
       "      <td>MID</td>\n",
       "      <td>11</td>\n",
       "    </tr>\n",
       "    <tr>\n",
       "      <th>76</th>\n",
       "      <td>WOL</td>\n",
       "      <td>DEF</td>\n",
       "      <td>14</td>\n",
       "    </tr>\n",
       "    <tr>\n",
       "      <th>77</th>\n",
       "      <td>WOL</td>\n",
       "      <td>FWD</td>\n",
       "      <td>4</td>\n",
       "    </tr>\n",
       "    <tr>\n",
       "      <th>78</th>\n",
       "      <td>WOL</td>\n",
       "      <td>GKP</td>\n",
       "      <td>4</td>\n",
       "    </tr>\n",
       "    <tr>\n",
       "      <th>79</th>\n",
       "      <td>WOL</td>\n",
       "      <td>MID</td>\n",
       "      <td>14</td>\n",
       "    </tr>\n",
       "  </tbody>\n",
       "</table>\n",
       "<p>80 rows × 3 columns</p>\n",
       "</div>"
      ],
      "text/plain": [
       "   team_slug position  count\n",
       "0        ARS      DEF     13\n",
       "1        ARS      FWD      2\n",
       "2        ARS      GKP      3\n",
       "3        ARS      MID     15\n",
       "4        AVL      DEF     10\n",
       "..       ...      ...    ...\n",
       "75       WHU      MID     11\n",
       "76       WOL      DEF     14\n",
       "77       WOL      FWD      4\n",
       "78       WOL      GKP      4\n",
       "79       WOL      MID     14\n",
       "\n",
       "[80 rows x 3 columns]"
      ]
     },
     "execution_count": 32,
     "metadata": {},
     "output_type": "execute_result"
    }
   ],
   "source": [
    "fpl_player_stats_df.groupby([\"team_slug\", \"position\"])[\"player_id\"].count().reset_index().rename(\n",
    "    columns={'player_id': 'count'})"
   ]
  },
  {
   "cell_type": "markdown",
   "metadata": {},
   "source": [
    "### Reading on statistics\n",
    "\n",
    "- [ICT Index](https://www.premierleague.com/news/65567)"
   ]
  },
  {
   "cell_type": "code",
   "execution_count": null,
   "metadata": {},
   "outputs": [],
   "source": []
  },
  {
   "cell_type": "code",
   "execution_count": null,
   "metadata": {},
   "outputs": [],
   "source": []
  },
  {
   "cell_type": "code",
   "execution_count": null,
   "metadata": {},
   "outputs": [],
   "source": []
  },
  {
   "cell_type": "code",
   "execution_count": null,
   "metadata": {},
   "outputs": [],
   "source": []
  }
 ],
 "metadata": {
  "celltoolbar": "Raw Cell Format",
  "kernelspec": {
   "display_name": "Python 3",
   "language": "python",
   "name": "python3"
  },
  "language_info": {
   "codemirror_mode": {
    "name": "ipython",
    "version": 3
   },
   "file_extension": ".py",
   "mimetype": "text/x-python",
   "name": "python",
   "nbconvert_exporter": "python",
   "pygments_lexer": "ipython3",
   "version": "3.8.6"
  }
 },
 "nbformat": 4,
 "nbformat_minor": 4
}
