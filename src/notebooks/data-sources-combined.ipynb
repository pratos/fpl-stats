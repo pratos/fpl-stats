{
 "cells": [
  {
   "cell_type": "code",
   "execution_count": 14,
   "metadata": {},
   "outputs": [],
   "source": [
    "%reload_ext autoreload\n",
    "import pandas as pd\n",
    "from bs4 import BeautifulSoup\n",
    "import requests\n",
    "import json\n",
    "from pipetools import pipe, utils, where\n",
    "from fastcore.basics import typed\n",
    "import requests\n",
    "from fastcore.foundation import L\n",
    "import pandas as pd\n",
    "from typing import List\n",
    "from pathlib import Path\n",
    "import re\n",
    "from datetime import datetime, date\n",
    "from loguru import logger\n",
    "import os\n",
    "from p_tqdm import p_map\n",
    "from tqdm import tqdm_notebook"
   ]
  },
  {
   "cell_type": "markdown",
   "metadata": {},
   "source": [
    "### Merge fbref and fpl data"
   ]
  },
  {
   "cell_type": "code",
   "execution_count": 31,
   "metadata": {},
   "outputs": [],
   "source": [
    "fpl_player_stats_df = pd.read_csv(\"../../data/fpl-data/20210125_GW19_player_stats.csv\")"
   ]
  },
  {
   "cell_type": "code",
   "execution_count": 32,
   "metadata": {},
   "outputs": [],
   "source": [
    "fbref_all = pd.read_csv(\"../../data/fbref-data/20210125_GW20_fbref.csv\")"
   ]
  },
  {
   "cell_type": "code",
   "execution_count": 33,
   "metadata": {},
   "outputs": [],
   "source": [
    "def get_id(val):\n",
    "    return val.split(\"/\")[5]"
   ]
  },
  {
   "cell_type": "code",
   "execution_count": 34,
   "metadata": {},
   "outputs": [],
   "source": [
    "fbref_all[\"fbref_id\"] = fbref_all.profile_url.apply(lambda val: val.split(\"/\")[5])"
   ]
  },
  {
   "cell_type": "code",
   "execution_count": 35,
   "metadata": {},
   "outputs": [
    {
     "data": {
      "text/html": [
       "<div>\n",
       "<style scoped>\n",
       "    .dataframe tbody tr th:only-of-type {\n",
       "        vertical-align: middle;\n",
       "    }\n",
       "\n",
       "    .dataframe tbody tr th {\n",
       "        vertical-align: top;\n",
       "    }\n",
       "\n",
       "    .dataframe thead th {\n",
       "        text-align: right;\n",
       "    }\n",
       "</style>\n",
       "<table border=\"1\" class=\"dataframe\">\n",
       "  <thead>\n",
       "    <tr style=\"text-align: right;\">\n",
       "      <th></th>\n",
       "      <th>name</th>\n",
       "      <th>profile_url</th>\n",
       "      <th>nationality</th>\n",
       "      <th>position</th>\n",
       "      <th>age</th>\n",
       "      <th>minutes_90s_x</th>\n",
       "      <th>goals</th>\n",
       "      <th>shots_total</th>\n",
       "      <th>shots_on_target</th>\n",
       "      <th>shots_on_target_pct</th>\n",
       "      <th>...</th>\n",
       "      <th>interceptions_y</th>\n",
       "      <th>tackles_won_y</th>\n",
       "      <th>pens_won</th>\n",
       "      <th>pens_conceded</th>\n",
       "      <th>own_goals</th>\n",
       "      <th>ball_recoveries</th>\n",
       "      <th>aerials_won</th>\n",
       "      <th>aerials_lost</th>\n",
       "      <th>aerials_won_pct</th>\n",
       "      <th>fbref_id</th>\n",
       "    </tr>\n",
       "  </thead>\n",
       "  <tbody>\n",
       "    <tr>\n",
       "      <th>468</th>\n",
       "      <td>Martinelli</td>\n",
       "      <td>https://fbref.com/en/players/48a5a5d6/Martinelli</td>\n",
       "      <td>['br', 'BRA']</td>\n",
       "      <td>FW</td>\n",
       "      <td>19 years and 221 days</td>\n",
       "      <td>1.8</td>\n",
       "      <td>0</td>\n",
       "      <td>7</td>\n",
       "      <td>2</td>\n",
       "      <td>28.6</td>\n",
       "      <td>...</td>\n",
       "      <td>4</td>\n",
       "      <td>1</td>\n",
       "      <td>0</td>\n",
       "      <td>0</td>\n",
       "      <td>0</td>\n",
       "      <td>10</td>\n",
       "      <td>1</td>\n",
       "      <td>2</td>\n",
       "      <td>33.3</td>\n",
       "      <td>48a5a5d6</td>\n",
       "    </tr>\n",
       "    <tr>\n",
       "      <th>469</th>\n",
       "      <td>Cédric Soares</td>\n",
       "      <td>https://fbref.com/en/players/839c14e1/Cedric-S...</td>\n",
       "      <td>['pt', 'POR']</td>\n",
       "      <td>DF</td>\n",
       "      <td>29 years and 147 days</td>\n",
       "      <td>1.1</td>\n",
       "      <td>0</td>\n",
       "      <td>0</td>\n",
       "      <td>0</td>\n",
       "      <td>0.0</td>\n",
       "      <td>...</td>\n",
       "      <td>0</td>\n",
       "      <td>1</td>\n",
       "      <td>0</td>\n",
       "      <td>0</td>\n",
       "      <td>0</td>\n",
       "      <td>9</td>\n",
       "      <td>3</td>\n",
       "      <td>3</td>\n",
       "      <td>50.0</td>\n",
       "      <td>839c14e1</td>\n",
       "    </tr>\n",
       "    <tr>\n",
       "      <th>470</th>\n",
       "      <td>Sead Kolašinac</td>\n",
       "      <td>https://fbref.com/en/players/3935e52e/Sead-Kol...</td>\n",
       "      <td>['ba', 'BIH']</td>\n",
       "      <td>DF</td>\n",
       "      <td>27 years and 219 days</td>\n",
       "      <td>1.0</td>\n",
       "      <td>0</td>\n",
       "      <td>0</td>\n",
       "      <td>0</td>\n",
       "      <td>0.0</td>\n",
       "      <td>...</td>\n",
       "      <td>0</td>\n",
       "      <td>0</td>\n",
       "      <td>0</td>\n",
       "      <td>0</td>\n",
       "      <td>0</td>\n",
       "      <td>12</td>\n",
       "      <td>1</td>\n",
       "      <td>1</td>\n",
       "      <td>50.0</td>\n",
       "      <td>3935e52e</td>\n",
       "    </tr>\n",
       "    <tr>\n",
       "      <th>471</th>\n",
       "      <td>Reiss Nelson</td>\n",
       "      <td>https://fbref.com/en/players/c5bdb6e3/Reiss-Ne...</td>\n",
       "      <td>['eng', 'ENG']</td>\n",
       "      <td>FW</td>\n",
       "      <td>21 years and 046 days</td>\n",
       "      <td>0.8</td>\n",
       "      <td>0</td>\n",
       "      <td>1</td>\n",
       "      <td>0</td>\n",
       "      <td>0.0</td>\n",
       "      <td>...</td>\n",
       "      <td>1</td>\n",
       "      <td>0</td>\n",
       "      <td>0</td>\n",
       "      <td>0</td>\n",
       "      <td>0</td>\n",
       "      <td>4</td>\n",
       "      <td>0</td>\n",
       "      <td>0</td>\n",
       "      <td>0.0</td>\n",
       "      <td>c5bdb6e3</td>\n",
       "    </tr>\n",
       "    <tr>\n",
       "      <th>472</th>\n",
       "      <td>Shkodran Mustafi</td>\n",
       "      <td>https://fbref.com/en/players/3f2d59fe/Shkodran...</td>\n",
       "      <td>['de', 'GER']</td>\n",
       "      <td>DF</td>\n",
       "      <td>28 years and 283 days</td>\n",
       "      <td>0.5</td>\n",
       "      <td>0</td>\n",
       "      <td>0</td>\n",
       "      <td>0</td>\n",
       "      <td>0.0</td>\n",
       "      <td>...</td>\n",
       "      <td>0</td>\n",
       "      <td>1</td>\n",
       "      <td>0</td>\n",
       "      <td>0</td>\n",
       "      <td>0</td>\n",
       "      <td>5</td>\n",
       "      <td>2</td>\n",
       "      <td>0</td>\n",
       "      <td>100.0</td>\n",
       "      <td>3f2d59fe</td>\n",
       "    </tr>\n",
       "  </tbody>\n",
       "</table>\n",
       "<p>5 rows × 163 columns</p>\n",
       "</div>"
      ],
      "text/plain": [
       "                 name                                        profile_url  \\\n",
       "468        Martinelli   https://fbref.com/en/players/48a5a5d6/Martinelli   \n",
       "469     Cédric Soares  https://fbref.com/en/players/839c14e1/Cedric-S...   \n",
       "470    Sead Kolašinac  https://fbref.com/en/players/3935e52e/Sead-Kol...   \n",
       "471      Reiss Nelson  https://fbref.com/en/players/c5bdb6e3/Reiss-Ne...   \n",
       "472  Shkodran Mustafi  https://fbref.com/en/players/3f2d59fe/Shkodran...   \n",
       "\n",
       "        nationality position                    age  minutes_90s_x  goals  \\\n",
       "468   ['br', 'BRA']       FW  19 years and 221 days            1.8      0   \n",
       "469   ['pt', 'POR']       DF  29 years and 147 days            1.1      0   \n",
       "470   ['ba', 'BIH']       DF  27 years and 219 days            1.0      0   \n",
       "471  ['eng', 'ENG']       FW  21 years and 046 days            0.8      0   \n",
       "472   ['de', 'GER']       DF  28 years and 283 days            0.5      0   \n",
       "\n",
       "     shots_total  shots_on_target  shots_on_target_pct  ...  interceptions_y  \\\n",
       "468            7                2                 28.6  ...                4   \n",
       "469            0                0                  0.0  ...                0   \n",
       "470            0                0                  0.0  ...                0   \n",
       "471            1                0                  0.0  ...                1   \n",
       "472            0                0                  0.0  ...                0   \n",
       "\n",
       "     tackles_won_y  pens_won  pens_conceded  own_goals  ball_recoveries  \\\n",
       "468              1         0              0          0               10   \n",
       "469              1         0              0          0                9   \n",
       "470              0         0              0          0               12   \n",
       "471              0         0              0          0                4   \n",
       "472              1         0              0          0                5   \n",
       "\n",
       "     aerials_won  aerials_lost  aerials_won_pct  fbref_id  \n",
       "468            1             2             33.3  48a5a5d6  \n",
       "469            3             3             50.0  839c14e1  \n",
       "470            1             1             50.0  3935e52e  \n",
       "471            0             0              0.0  c5bdb6e3  \n",
       "472            2             0            100.0  3f2d59fe  \n",
       "\n",
       "[5 rows x 163 columns]"
      ]
     },
     "execution_count": 35,
     "metadata": {},
     "output_type": "execute_result"
    }
   ],
   "source": [
    "fbref_all.tail()"
   ]
  },
  {
   "cell_type": "code",
   "execution_count": 36,
   "metadata": {},
   "outputs": [
    {
     "data": {
      "text/html": [
       "<div>\n",
       "<style scoped>\n",
       "    .dataframe tbody tr th:only-of-type {\n",
       "        vertical-align: middle;\n",
       "    }\n",
       "\n",
       "    .dataframe tbody tr th {\n",
       "        vertical-align: top;\n",
       "    }\n",
       "\n",
       "    .dataframe thead th {\n",
       "        text-align: right;\n",
       "    }\n",
       "</style>\n",
       "<table border=\"1\" class=\"dataframe\">\n",
       "  <thead>\n",
       "    <tr style=\"text-align: right;\">\n",
       "      <th></th>\n",
       "      <th>player_id</th>\n",
       "      <th>name</th>\n",
       "      <th>display_slug</th>\n",
       "      <th>team_id</th>\n",
       "      <th>team</th>\n",
       "      <th>team_slug</th>\n",
       "      <th>position</th>\n",
       "      <th>points_per_game</th>\n",
       "      <th>form</th>\n",
       "      <th>news</th>\n",
       "      <th>...</th>\n",
       "      <th>penalties_missed</th>\n",
       "      <th>saves</th>\n",
       "      <th>bonus</th>\n",
       "      <th>bps</th>\n",
       "      <th>corners_and_indirect_freekicks_order</th>\n",
       "      <th>corners_and_indirect_freekicks_text</th>\n",
       "      <th>direct_freekicks_order</th>\n",
       "      <th>direct_freekicks_text</th>\n",
       "      <th>penalties_order</th>\n",
       "      <th>penalties_text</th>\n",
       "    </tr>\n",
       "  </thead>\n",
       "  <tbody>\n",
       "    <tr>\n",
       "      <th>0</th>\n",
       "      <td>1</td>\n",
       "      <td>Mesut Özil</td>\n",
       "      <td>Özil</td>\n",
       "      <td>1</td>\n",
       "      <td>arsenal</td>\n",
       "      <td>ARS</td>\n",
       "      <td>MID</td>\n",
       "      <td>0.0</td>\n",
       "      <td>0.0</td>\n",
       "      <td>Not included in Arsenal's 25-man Premier Leagu...</td>\n",
       "      <td>...</td>\n",
       "      <td>0</td>\n",
       "      <td>0</td>\n",
       "      <td>0</td>\n",
       "      <td>0</td>\n",
       "      <td>NaN</td>\n",
       "      <td>NaN</td>\n",
       "      <td>NaN</td>\n",
       "      <td>NaN</td>\n",
       "      <td>NaN</td>\n",
       "      <td>NaN</td>\n",
       "    </tr>\n",
       "    <tr>\n",
       "      <th>1</th>\n",
       "      <td>2</td>\n",
       "      <td>Sokratis Papastathopoulos</td>\n",
       "      <td>Sokratis</td>\n",
       "      <td>1</td>\n",
       "      <td>arsenal</td>\n",
       "      <td>ARS</td>\n",
       "      <td>DEF</td>\n",
       "      <td>0.0</td>\n",
       "      <td>0.0</td>\n",
       "      <td>Left the club by mutual consent on 20/1</td>\n",
       "      <td>...</td>\n",
       "      <td>0</td>\n",
       "      <td>0</td>\n",
       "      <td>0</td>\n",
       "      <td>0</td>\n",
       "      <td>NaN</td>\n",
       "      <td>NaN</td>\n",
       "      <td>NaN</td>\n",
       "      <td>NaN</td>\n",
       "      <td>NaN</td>\n",
       "      <td>NaN</td>\n",
       "    </tr>\n",
       "    <tr>\n",
       "      <th>2</th>\n",
       "      <td>3</td>\n",
       "      <td>David Luiz Moreira Marinho</td>\n",
       "      <td>David Luiz</td>\n",
       "      <td>1</td>\n",
       "      <td>arsenal</td>\n",
       "      <td>ARS</td>\n",
       "      <td>DEF</td>\n",
       "      <td>2.0</td>\n",
       "      <td>2.2</td>\n",
       "      <td>NaN</td>\n",
       "      <td>...</td>\n",
       "      <td>0</td>\n",
       "      <td>0</td>\n",
       "      <td>0</td>\n",
       "      <td>108</td>\n",
       "      <td>NaN</td>\n",
       "      <td>NaN</td>\n",
       "      <td>4.0</td>\n",
       "      <td>NaN</td>\n",
       "      <td>NaN</td>\n",
       "      <td>NaN</td>\n",
       "    </tr>\n",
       "    <tr>\n",
       "      <th>3</th>\n",
       "      <td>4</td>\n",
       "      <td>Pierre-Emerick Aubameyang</td>\n",
       "      <td>Aubameyang</td>\n",
       "      <td>1</td>\n",
       "      <td>arsenal</td>\n",
       "      <td>ARS</td>\n",
       "      <td>MID</td>\n",
       "      <td>4.2</td>\n",
       "      <td>4.8</td>\n",
       "      <td>Personal Reasons - 75% chance of playing</td>\n",
       "      <td>...</td>\n",
       "      <td>0</td>\n",
       "      <td>0</td>\n",
       "      <td>6</td>\n",
       "      <td>202</td>\n",
       "      <td>NaN</td>\n",
       "      <td>NaN</td>\n",
       "      <td>NaN</td>\n",
       "      <td>NaN</td>\n",
       "      <td>1.0</td>\n",
       "      <td>NaN</td>\n",
       "    </tr>\n",
       "    <tr>\n",
       "      <th>4</th>\n",
       "      <td>5</td>\n",
       "      <td>Cédric Soares</td>\n",
       "      <td>Cédric</td>\n",
       "      <td>1</td>\n",
       "      <td>arsenal</td>\n",
       "      <td>ARS</td>\n",
       "      <td>DEF</td>\n",
       "      <td>6.5</td>\n",
       "      <td>2.4</td>\n",
       "      <td>NaN</td>\n",
       "      <td>...</td>\n",
       "      <td>0</td>\n",
       "      <td>0</td>\n",
       "      <td>3</td>\n",
       "      <td>42</td>\n",
       "      <td>NaN</td>\n",
       "      <td>NaN</td>\n",
       "      <td>NaN</td>\n",
       "      <td>NaN</td>\n",
       "      <td>NaN</td>\n",
       "      <td>NaN</td>\n",
       "    </tr>\n",
       "  </tbody>\n",
       "</table>\n",
       "<p>5 rows × 53 columns</p>\n",
       "</div>"
      ],
      "text/plain": [
       "   player_id                        name display_slug  team_id     team  \\\n",
       "0          1                  Mesut Özil         Özil        1  arsenal   \n",
       "1          2   Sokratis Papastathopoulos     Sokratis        1  arsenal   \n",
       "2          3  David Luiz Moreira Marinho   David Luiz        1  arsenal   \n",
       "3          4   Pierre-Emerick Aubameyang   Aubameyang        1  arsenal   \n",
       "4          5               Cédric Soares       Cédric        1  arsenal   \n",
       "\n",
       "  team_slug position  points_per_game  form  \\\n",
       "0       ARS      MID              0.0   0.0   \n",
       "1       ARS      DEF              0.0   0.0   \n",
       "2       ARS      DEF              2.0   2.2   \n",
       "3       ARS      MID              4.2   4.8   \n",
       "4       ARS      DEF              6.5   2.4   \n",
       "\n",
       "                                                news  ... penalties_missed  \\\n",
       "0  Not included in Arsenal's 25-man Premier Leagu...  ...                0   \n",
       "1            Left the club by mutual consent on 20/1  ...                0   \n",
       "2                                                NaN  ...                0   \n",
       "3           Personal Reasons - 75% chance of playing  ...                0   \n",
       "4                                                NaN  ...                0   \n",
       "\n",
       "  saves  bonus  bps  corners_and_indirect_freekicks_order  \\\n",
       "0     0      0    0                                   NaN   \n",
       "1     0      0    0                                   NaN   \n",
       "2     0      0  108                                   NaN   \n",
       "3     0      6  202                                   NaN   \n",
       "4     0      3   42                                   NaN   \n",
       "\n",
       "   corners_and_indirect_freekicks_text  direct_freekicks_order  \\\n",
       "0                                  NaN                     NaN   \n",
       "1                                  NaN                     NaN   \n",
       "2                                  NaN                     4.0   \n",
       "3                                  NaN                     NaN   \n",
       "4                                  NaN                     NaN   \n",
       "\n",
       "   direct_freekicks_text  penalties_order  penalties_text  \n",
       "0                    NaN              NaN             NaN  \n",
       "1                    NaN              NaN             NaN  \n",
       "2                    NaN              NaN             NaN  \n",
       "3                    NaN              1.0             NaN  \n",
       "4                    NaN              NaN             NaN  \n",
       "\n",
       "[5 rows x 53 columns]"
      ]
     },
     "execution_count": 36,
     "metadata": {},
     "output_type": "execute_result"
    }
   ],
   "source": [
    "fpl_player_stats_df.head()"
   ]
  },
  {
   "cell_type": "code",
   "execution_count": 37,
   "metadata": {},
   "outputs": [
    {
     "data": {
      "text/html": [
       "<div>\n",
       "<style scoped>\n",
       "    .dataframe tbody tr th:only-of-type {\n",
       "        vertical-align: middle;\n",
       "    }\n",
       "\n",
       "    .dataframe tbody tr th {\n",
       "        vertical-align: top;\n",
       "    }\n",
       "\n",
       "    .dataframe thead th {\n",
       "        text-align: right;\n",
       "    }\n",
       "</style>\n",
       "<table border=\"1\" class=\"dataframe\">\n",
       "  <thead>\n",
       "    <tr style=\"text-align: right;\">\n",
       "      <th></th>\n",
       "      <th>player_id</th>\n",
       "      <th>name</th>\n",
       "    </tr>\n",
       "  </thead>\n",
       "  <tbody>\n",
       "    <tr>\n",
       "      <th>0</th>\n",
       "      <td>1</td>\n",
       "      <td>Mesut Özil</td>\n",
       "    </tr>\n",
       "    <tr>\n",
       "      <th>1</th>\n",
       "      <td>2</td>\n",
       "      <td>Sokratis Papastathopoulos</td>\n",
       "    </tr>\n",
       "    <tr>\n",
       "      <th>2</th>\n",
       "      <td>3</td>\n",
       "      <td>David Luiz Moreira Marinho</td>\n",
       "    </tr>\n",
       "    <tr>\n",
       "      <th>3</th>\n",
       "      <td>4</td>\n",
       "      <td>Pierre-Emerick Aubameyang</td>\n",
       "    </tr>\n",
       "    <tr>\n",
       "      <th>4</th>\n",
       "      <td>5</td>\n",
       "      <td>Cédric Soares</td>\n",
       "    </tr>\n",
       "    <tr>\n",
       "      <th>...</th>\n",
       "      <td>...</td>\n",
       "      <td>...</td>\n",
       "    </tr>\n",
       "    <tr>\n",
       "      <th>636</th>\n",
       "      <td>615</td>\n",
       "      <td>Lewis Richards</td>\n",
       "    </tr>\n",
       "    <tr>\n",
       "      <th>637</th>\n",
       "      <td>616</td>\n",
       "      <td>Christian Marques</td>\n",
       "    </tr>\n",
       "    <tr>\n",
       "      <th>638</th>\n",
       "      <td>617</td>\n",
       "      <td>Andreas Söndergaard</td>\n",
       "    </tr>\n",
       "    <tr>\n",
       "      <th>639</th>\n",
       "      <td>626</td>\n",
       "      <td>Patrick Cutrone</td>\n",
       "    </tr>\n",
       "    <tr>\n",
       "      <th>640</th>\n",
       "      <td>629</td>\n",
       "      <td>Nigel Lonwijk</td>\n",
       "    </tr>\n",
       "  </tbody>\n",
       "</table>\n",
       "<p>641 rows × 2 columns</p>\n",
       "</div>"
      ],
      "text/plain": [
       "     player_id                        name\n",
       "0            1                  Mesut Özil\n",
       "1            2   Sokratis Papastathopoulos\n",
       "2            3  David Luiz Moreira Marinho\n",
       "3            4   Pierre-Emerick Aubameyang\n",
       "4            5               Cédric Soares\n",
       "..         ...                         ...\n",
       "636        615              Lewis Richards\n",
       "637        616           Christian Marques\n",
       "638        617         Andreas Söndergaard\n",
       "639        626             Patrick Cutrone\n",
       "640        629               Nigel Lonwijk\n",
       "\n",
       "[641 rows x 2 columns]"
      ]
     },
     "execution_count": 37,
     "metadata": {},
     "output_type": "execute_result"
    }
   ],
   "source": [
    "fpl_player_stats_df[['player_id', 'name']]"
   ]
  },
  {
   "cell_type": "code",
   "execution_count": 38,
   "metadata": {},
   "outputs": [],
   "source": [
    "fbref_names = fbref_all.name.tolist()"
   ]
  },
  {
   "cell_type": "code",
   "execution_count": 39,
   "metadata": {},
   "outputs": [],
   "source": [
    "fbref_ids = [url.split(\"/\")[5] for url in fbref_all.profile_url.tolist()]"
   ]
  },
  {
   "cell_type": "code",
   "execution_count": 40,
   "metadata": {},
   "outputs": [],
   "source": [
    "fpl_ids = fpl_player_stats_df.player_id.tolist()"
   ]
  },
  {
   "cell_type": "code",
   "execution_count": 41,
   "metadata": {},
   "outputs": [],
   "source": [
    "fpl_names = fpl_player_stats_df.name.tolist()"
   ]
  },
  {
   "cell_type": "code",
   "execution_count": 42,
   "metadata": {},
   "outputs": [],
   "source": [
    "fbref = dict(zip(fbref_ids, fbref_names))"
   ]
  },
  {
   "cell_type": "code",
   "execution_count": 43,
   "metadata": {},
   "outputs": [],
   "source": [
    "fpl = dict(zip(fpl_ids, fpl_names))"
   ]
  },
  {
   "cell_type": "code",
   "execution_count": 44,
   "metadata": {},
   "outputs": [],
   "source": [
    "from fuzzywuzzy import fuzz"
   ]
  },
  {
   "cell_type": "code",
   "execution_count": 45,
   "metadata": {},
   "outputs": [
    {
     "data": {
      "text/plain": [
       "56"
      ]
     },
     "execution_count": 45,
     "metadata": {},
     "output_type": "execute_result"
    }
   ],
   "source": [
    "fuzz.token_sort_ratio(\"David Luiz Moreira Marinho\", \"David Luiz\")"
   ]
  },
  {
   "cell_type": "code",
   "execution_count": 49,
   "metadata": {},
   "outputs": [
    {
     "name": "stderr",
     "output_type": "stream",
     "text": [
      "<ipython-input-49-c8aafd2afcec>:3: TqdmDeprecationWarning: This function will be removed in tqdm==5.0.0\n",
      "Please use `tqdm.notebook.tqdm` instead of `tqdm.tqdm_notebook`\n",
      "  for id_, name in tqdm_notebook(fbref.items()):\n"
     ]
    },
    {
     "data": {
      "application/vnd.jupyter.widget-view+json": {
       "model_id": "a163b4a9bd05448599516f965b2fb2bf",
       "version_major": 2,
       "version_minor": 0
      },
      "text/plain": [
       "  0%|          | 0/469 [00:00<?, ?it/s]"
      ]
     },
     "metadata": {},
     "output_type": "display_data"
    },
    {
     "name": "stdout",
     "output_type": "stream",
     "text": [
      "Total players processed: 405\n"
     ]
    }
   ],
   "source": [
    "idx = 0\n",
    "combined_mapper = []\n",
    "for id_, name in tqdm_notebook(fbref.items()):\n",
    "    for fid_, fname in fpl.items():\n",
    "        if fuzz.ratio(name, fname) > 85:\n",
    "            idx += 1\n",
    "            combined_mapper.append({\"player_id\": fid_, \"fbref_id\": id_})\n",
    "print(f\"Total players processed: {idx}\")"
   ]
  },
  {
   "cell_type": "code",
   "execution_count": 50,
   "metadata": {},
   "outputs": [],
   "source": [
    "mapped_df = pd.DataFrame(combined_mapper)"
   ]
  },
  {
   "cell_type": "code",
   "execution_count": 54,
   "metadata": {},
   "outputs": [
    {
     "data": {
      "text/plain": [
       "(405, 2)"
      ]
     },
     "execution_count": 54,
     "metadata": {},
     "output_type": "execute_result"
    }
   ],
   "source": [
    "mapped_df.shape"
   ]
  },
  {
   "cell_type": "code",
   "execution_count": null,
   "metadata": {},
   "outputs": [],
   "source": []
  },
  {
   "cell_type": "code",
   "execution_count": 51,
   "metadata": {},
   "outputs": [
    {
     "data": {
      "text/plain": [
       "Index(['player_id', 'fbref_id'], dtype='object')"
      ]
     },
     "execution_count": 51,
     "metadata": {},
     "output_type": "execute_result"
    }
   ],
   "source": [
    "mapped_df.columns"
   ]
  },
  {
   "cell_type": "code",
   "execution_count": 55,
   "metadata": {},
   "outputs": [
    {
     "data": {
      "text/plain": [
       "(473, 163)"
      ]
     },
     "execution_count": 55,
     "metadata": {},
     "output_type": "execute_result"
    }
   ],
   "source": [
    "fbref_all.shape"
   ]
  },
  {
   "cell_type": "code",
   "execution_count": 57,
   "metadata": {},
   "outputs": [
    {
     "data": {
      "text/html": [
       "<div>\n",
       "<style scoped>\n",
       "    .dataframe tbody tr th:only-of-type {\n",
       "        vertical-align: middle;\n",
       "    }\n",
       "\n",
       "    .dataframe tbody tr th {\n",
       "        vertical-align: top;\n",
       "    }\n",
       "\n",
       "    .dataframe thead th {\n",
       "        text-align: right;\n",
       "    }\n",
       "</style>\n",
       "<table border=\"1\" class=\"dataframe\">\n",
       "  <thead>\n",
       "    <tr style=\"text-align: right;\">\n",
       "      <th></th>\n",
       "      <th>name</th>\n",
       "      <th>profile_url</th>\n",
       "      <th>nationality</th>\n",
       "      <th>position</th>\n",
       "      <th>age</th>\n",
       "      <th>minutes_90s_x</th>\n",
       "      <th>goals</th>\n",
       "      <th>shots_total</th>\n",
       "      <th>shots_on_target</th>\n",
       "      <th>shots_on_target_pct</th>\n",
       "      <th>...</th>\n",
       "      <th>interceptions_y</th>\n",
       "      <th>tackles_won_y</th>\n",
       "      <th>pens_won</th>\n",
       "      <th>pens_conceded</th>\n",
       "      <th>own_goals</th>\n",
       "      <th>ball_recoveries</th>\n",
       "      <th>aerials_won</th>\n",
       "      <th>aerials_lost</th>\n",
       "      <th>aerials_won_pct</th>\n",
       "      <th>fbref_id</th>\n",
       "    </tr>\n",
       "  </thead>\n",
       "  <tbody>\n",
       "    <tr>\n",
       "      <th>113</th>\n",
       "      <td>Ross Barkley</td>\n",
       "      <td>https://fbref.com/en/players/3a24769f/Ross-Bar...</td>\n",
       "      <td>['eng', 'ENG']</td>\n",
       "      <td>MF</td>\n",
       "      <td>27 years and 051 days</td>\n",
       "      <td>0.5</td>\n",
       "      <td>0</td>\n",
       "      <td>1</td>\n",
       "      <td>1</td>\n",
       "      <td>100.0</td>\n",
       "      <td>...</td>\n",
       "      <td>0</td>\n",
       "      <td>0</td>\n",
       "      <td>0</td>\n",
       "      <td>0</td>\n",
       "      <td>0</td>\n",
       "      <td>8</td>\n",
       "      <td>3</td>\n",
       "      <td>1</td>\n",
       "      <td>75.0</td>\n",
       "      <td>3a24769f</td>\n",
       "    </tr>\n",
       "    <tr>\n",
       "      <th>264</th>\n",
       "      <td>Theo Walcott</td>\n",
       "      <td>https://fbref.com/en/players/1ecb65be/Theo-Wal...</td>\n",
       "      <td>['eng', 'ENG']</td>\n",
       "      <td>MF,FW</td>\n",
       "      <td>31 years and 315 days</td>\n",
       "      <td>12.2</td>\n",
       "      <td>2</td>\n",
       "      <td>22</td>\n",
       "      <td>8</td>\n",
       "      <td>36.4</td>\n",
       "      <td>...</td>\n",
       "      <td>6</td>\n",
       "      <td>15</td>\n",
       "      <td>0</td>\n",
       "      <td>0</td>\n",
       "      <td>0</td>\n",
       "      <td>87</td>\n",
       "      <td>4</td>\n",
       "      <td>23</td>\n",
       "      <td>14.8</td>\n",
       "      <td>1ecb65be</td>\n",
       "    </tr>\n",
       "    <tr>\n",
       "      <th>374</th>\n",
       "      <td>Robert Snodgrass</td>\n",
       "      <td>https://fbref.com/en/players/9f4647e9/Robert-S...</td>\n",
       "      <td>['sco', 'SCO']</td>\n",
       "      <td>FW</td>\n",
       "      <td>33 years and 140 days</td>\n",
       "      <td>1.0</td>\n",
       "      <td>0</td>\n",
       "      <td>1</td>\n",
       "      <td>0</td>\n",
       "      <td>0.0</td>\n",
       "      <td>...</td>\n",
       "      <td>1</td>\n",
       "      <td>3</td>\n",
       "      <td>0</td>\n",
       "      <td>0</td>\n",
       "      <td>0</td>\n",
       "      <td>8</td>\n",
       "      <td>1</td>\n",
       "      <td>3</td>\n",
       "      <td>25.0</td>\n",
       "      <td>9f4647e9</td>\n",
       "    </tr>\n",
       "    <tr>\n",
       "      <th>434</th>\n",
       "      <td>Ruben Loftus-Cheek</td>\n",
       "      <td>https://fbref.com/en/players/e97fd090/Ruben-Lo...</td>\n",
       "      <td>['eng', 'ENG']</td>\n",
       "      <td>FW,MF</td>\n",
       "      <td>25 years and 002 days</td>\n",
       "      <td>8.7</td>\n",
       "      <td>1</td>\n",
       "      <td>14</td>\n",
       "      <td>5</td>\n",
       "      <td>35.7</td>\n",
       "      <td>...</td>\n",
       "      <td>7</td>\n",
       "      <td>11</td>\n",
       "      <td>1</td>\n",
       "      <td>0</td>\n",
       "      <td>0</td>\n",
       "      <td>51</td>\n",
       "      <td>17</td>\n",
       "      <td>35</td>\n",
       "      <td>32.7</td>\n",
       "      <td>e97fd090</td>\n",
       "    </tr>\n",
       "  </tbody>\n",
       "</table>\n",
       "<p>4 rows × 163 columns</p>\n",
       "</div>"
      ],
      "text/plain": [
       "                   name                                        profile_url  \\\n",
       "113        Ross Barkley  https://fbref.com/en/players/3a24769f/Ross-Bar...   \n",
       "264        Theo Walcott  https://fbref.com/en/players/1ecb65be/Theo-Wal...   \n",
       "374    Robert Snodgrass  https://fbref.com/en/players/9f4647e9/Robert-S...   \n",
       "434  Ruben Loftus-Cheek  https://fbref.com/en/players/e97fd090/Ruben-Lo...   \n",
       "\n",
       "        nationality position                    age  minutes_90s_x  goals  \\\n",
       "113  ['eng', 'ENG']       MF  27 years and 051 days            0.5      0   \n",
       "264  ['eng', 'ENG']    MF,FW  31 years and 315 days           12.2      2   \n",
       "374  ['sco', 'SCO']       FW  33 years and 140 days            1.0      0   \n",
       "434  ['eng', 'ENG']    FW,MF  25 years and 002 days            8.7      1   \n",
       "\n",
       "     shots_total  shots_on_target  shots_on_target_pct  ...  interceptions_y  \\\n",
       "113            1                1                100.0  ...                0   \n",
       "264           22                8                 36.4  ...                6   \n",
       "374            1                0                  0.0  ...                1   \n",
       "434           14                5                 35.7  ...                7   \n",
       "\n",
       "     tackles_won_y  pens_won  pens_conceded  own_goals  ball_recoveries  \\\n",
       "113              0         0              0          0                8   \n",
       "264             15         0              0          0               87   \n",
       "374              3         0              0          0                8   \n",
       "434             11         1              0          0               51   \n",
       "\n",
       "     aerials_won  aerials_lost  aerials_won_pct  fbref_id  \n",
       "113            3             1             75.0  3a24769f  \n",
       "264            4            23             14.8  1ecb65be  \n",
       "374            1             3             25.0  9f4647e9  \n",
       "434           17            35             32.7  e97fd090  \n",
       "\n",
       "[4 rows x 163 columns]"
      ]
     },
     "execution_count": 57,
     "metadata": {},
     "output_type": "execute_result"
    }
   ],
   "source": [
    "fbref_all[fbref_all.duplicated('fbref_id')]"
   ]
  },
  {
   "cell_type": "code",
   "execution_count": 60,
   "metadata": {},
   "outputs": [
    {
     "data": {
      "text/html": [
       "<div>\n",
       "<style scoped>\n",
       "    .dataframe tbody tr th:only-of-type {\n",
       "        vertical-align: middle;\n",
       "    }\n",
       "\n",
       "    .dataframe tbody tr th {\n",
       "        vertical-align: top;\n",
       "    }\n",
       "\n",
       "    .dataframe thead th {\n",
       "        text-align: right;\n",
       "    }\n",
       "</style>\n",
       "<table border=\"1\" class=\"dataframe\">\n",
       "  <thead>\n",
       "    <tr style=\"text-align: right;\">\n",
       "      <th></th>\n",
       "      <th>name</th>\n",
       "      <th>profile_url</th>\n",
       "      <th>nationality</th>\n",
       "      <th>position</th>\n",
       "      <th>age</th>\n",
       "      <th>minutes_90s_x</th>\n",
       "      <th>goals</th>\n",
       "      <th>shots_total</th>\n",
       "      <th>shots_on_target</th>\n",
       "      <th>shots_on_target_pct</th>\n",
       "      <th>...</th>\n",
       "      <th>interceptions_y</th>\n",
       "      <th>tackles_won_y</th>\n",
       "      <th>pens_won</th>\n",
       "      <th>pens_conceded</th>\n",
       "      <th>own_goals</th>\n",
       "      <th>ball_recoveries</th>\n",
       "      <th>aerials_won</th>\n",
       "      <th>aerials_lost</th>\n",
       "      <th>aerials_won_pct</th>\n",
       "      <th>fbref_id</th>\n",
       "    </tr>\n",
       "  </thead>\n",
       "  <tbody>\n",
       "    <tr>\n",
       "      <th>37</th>\n",
       "      <td>Ross Barkley</td>\n",
       "      <td>https://fbref.com/en/players/3a24769f/Ross-Bar...</td>\n",
       "      <td>['eng', 'ENG']</td>\n",
       "      <td>MF</td>\n",
       "      <td>27 years and 051 days</td>\n",
       "      <td>6.7</td>\n",
       "      <td>2</td>\n",
       "      <td>22</td>\n",
       "      <td>6</td>\n",
       "      <td>27.3</td>\n",
       "      <td>...</td>\n",
       "      <td>2</td>\n",
       "      <td>0</td>\n",
       "      <td>0</td>\n",
       "      <td>0</td>\n",
       "      <td>0</td>\n",
       "      <td>61</td>\n",
       "      <td>10</td>\n",
       "      <td>4</td>\n",
       "      <td>71.4</td>\n",
       "      <td>3a24769f</td>\n",
       "    </tr>\n",
       "    <tr>\n",
       "      <th>113</th>\n",
       "      <td>Ross Barkley</td>\n",
       "      <td>https://fbref.com/en/players/3a24769f/Ross-Bar...</td>\n",
       "      <td>['eng', 'ENG']</td>\n",
       "      <td>MF</td>\n",
       "      <td>27 years and 051 days</td>\n",
       "      <td>0.5</td>\n",
       "      <td>0</td>\n",
       "      <td>1</td>\n",
       "      <td>1</td>\n",
       "      <td>100.0</td>\n",
       "      <td>...</td>\n",
       "      <td>0</td>\n",
       "      <td>0</td>\n",
       "      <td>0</td>\n",
       "      <td>0</td>\n",
       "      <td>0</td>\n",
       "      <td>8</td>\n",
       "      <td>3</td>\n",
       "      <td>1</td>\n",
       "      <td>75.0</td>\n",
       "      <td>3a24769f</td>\n",
       "    </tr>\n",
       "  </tbody>\n",
       "</table>\n",
       "<p>2 rows × 163 columns</p>\n",
       "</div>"
      ],
      "text/plain": [
       "             name                                        profile_url  \\\n",
       "37   Ross Barkley  https://fbref.com/en/players/3a24769f/Ross-Bar...   \n",
       "113  Ross Barkley  https://fbref.com/en/players/3a24769f/Ross-Bar...   \n",
       "\n",
       "        nationality position                    age  minutes_90s_x  goals  \\\n",
       "37   ['eng', 'ENG']       MF  27 years and 051 days            6.7      2   \n",
       "113  ['eng', 'ENG']       MF  27 years and 051 days            0.5      0   \n",
       "\n",
       "     shots_total  shots_on_target  shots_on_target_pct  ...  interceptions_y  \\\n",
       "37            22                6                 27.3  ...                2   \n",
       "113            1                1                100.0  ...                0   \n",
       "\n",
       "     tackles_won_y  pens_won  pens_conceded  own_goals  ball_recoveries  \\\n",
       "37               0         0              0          0               61   \n",
       "113              0         0              0          0                8   \n",
       "\n",
       "     aerials_won  aerials_lost  aerials_won_pct  fbref_id  \n",
       "37            10             4             71.4  3a24769f  \n",
       "113            3             1             75.0  3a24769f  \n",
       "\n",
       "[2 rows x 163 columns]"
      ]
     },
     "execution_count": 60,
     "metadata": {},
     "output_type": "execute_result"
    }
   ],
   "source": [
    "fbref_all.query('fbref_id == \"3a24769f\"')"
   ]
  },
  {
   "cell_type": "code",
   "execution_count": 61,
   "metadata": {},
   "outputs": [],
   "source": [
    "combined_one_df = pd.merge(fbref_all, mapped_df, on='fbref_id')"
   ]
  },
  {
   "cell_type": "code",
   "execution_count": 63,
   "metadata": {},
   "outputs": [
    {
     "data": {
      "text/plain": [
       "(409, 164)"
      ]
     },
     "execution_count": 63,
     "metadata": {},
     "output_type": "execute_result"
    }
   ],
   "source": [
    "combined_one_df.shape"
   ]
  },
  {
   "cell_type": "code",
   "execution_count": 64,
   "metadata": {},
   "outputs": [],
   "source": [
    "pre_final_df = pd.merge(combined_one_df, fpl_player_stats_df, on='player_id')"
   ]
  },
  {
   "cell_type": "code",
   "execution_count": 81,
   "metadata": {},
   "outputs": [
    {
     "data": {
      "text/html": [
       "<div>\n",
       "<style scoped>\n",
       "    .dataframe tbody tr th:only-of-type {\n",
       "        vertical-align: middle;\n",
       "    }\n",
       "\n",
       "    .dataframe tbody tr th {\n",
       "        vertical-align: top;\n",
       "    }\n",
       "\n",
       "    .dataframe thead th {\n",
       "        text-align: right;\n",
       "    }\n",
       "</style>\n",
       "<table border=\"1\" class=\"dataframe\">\n",
       "  <thead>\n",
       "    <tr style=\"text-align: right;\">\n",
       "      <th></th>\n",
       "      <th>name_x</th>\n",
       "      <th>name_y</th>\n",
       "    </tr>\n",
       "  </thead>\n",
       "  <tbody>\n",
       "    <tr>\n",
       "      <th>0</th>\n",
       "      <td>Andrew Robertson</td>\n",
       "      <td>Andrew Robertson</td>\n",
       "    </tr>\n",
       "    <tr>\n",
       "      <th>1</th>\n",
       "      <td>Roberto Firmino</td>\n",
       "      <td>Roberto Firmino</td>\n",
       "    </tr>\n",
       "    <tr>\n",
       "      <th>2</th>\n",
       "      <td>Georginio Wijnaldum</td>\n",
       "      <td>Georginio Wijnaldum</td>\n",
       "    </tr>\n",
       "    <tr>\n",
       "      <th>3</th>\n",
       "      <td>Sadio Mané</td>\n",
       "      <td>Sadio Mané</td>\n",
       "    </tr>\n",
       "    <tr>\n",
       "      <th>4</th>\n",
       "      <td>Mohamed Salah</td>\n",
       "      <td>Mohamed Salah</td>\n",
       "    </tr>\n",
       "    <tr>\n",
       "      <th>...</th>\n",
       "      <td>...</td>\n",
       "      <td>...</td>\n",
       "    </tr>\n",
       "    <tr>\n",
       "      <th>404</th>\n",
       "      <td>Joe Willock</td>\n",
       "      <td>Joseph Willock</td>\n",
       "    </tr>\n",
       "    <tr>\n",
       "      <th>405</th>\n",
       "      <td>Cédric Soares</td>\n",
       "      <td>Cédric Soares</td>\n",
       "    </tr>\n",
       "    <tr>\n",
       "      <th>406</th>\n",
       "      <td>Sead Kolašinac</td>\n",
       "      <td>Sead Kolasinac</td>\n",
       "    </tr>\n",
       "    <tr>\n",
       "      <th>407</th>\n",
       "      <td>Reiss Nelson</td>\n",
       "      <td>Reiss Nelson</td>\n",
       "    </tr>\n",
       "    <tr>\n",
       "      <th>408</th>\n",
       "      <td>Shkodran Mustafi</td>\n",
       "      <td>Shkodran Mustafi</td>\n",
       "    </tr>\n",
       "  </tbody>\n",
       "</table>\n",
       "<p>409 rows × 2 columns</p>\n",
       "</div>"
      ],
      "text/plain": [
       "                  name_x               name_y\n",
       "0       Andrew Robertson     Andrew Robertson\n",
       "1        Roberto Firmino      Roberto Firmino\n",
       "2    Georginio Wijnaldum  Georginio Wijnaldum\n",
       "3             Sadio Mané           Sadio Mané\n",
       "4          Mohamed Salah        Mohamed Salah\n",
       "..                   ...                  ...\n",
       "404          Joe Willock       Joseph Willock\n",
       "405        Cédric Soares        Cédric Soares\n",
       "406       Sead Kolašinac       Sead Kolasinac\n",
       "407         Reiss Nelson         Reiss Nelson\n",
       "408     Shkodran Mustafi     Shkodran Mustafi\n",
       "\n",
       "[409 rows x 2 columns]"
      ]
     },
     "execution_count": 81,
     "metadata": {},
     "output_type": "execute_result"
    }
   ],
   "source": [
    "pre_final_df[['name_x', 'name_y']]"
   ]
  },
  {
   "cell_type": "code",
   "execution_count": 69,
   "metadata": {},
   "outputs": [
    {
     "data": {
      "text/plain": [
       "236"
      ]
     },
     "execution_count": 69,
     "metadata": {},
     "output_type": "execute_result"
    }
   ],
   "source": [
    "len(set(fpl_player_stats_df.player_id.tolist()).difference(set(pre_final_df.player_id.tolist())))"
   ]
  },
  {
   "cell_type": "code",
   "execution_count": 70,
   "metadata": {},
   "outputs": [
    {
     "data": {
      "text/plain": [
       "641"
      ]
     },
     "execution_count": 70,
     "metadata": {},
     "output_type": "execute_result"
    }
   ],
   "source": [
    "len(fpl_player_stats_df.player_id.tolist())"
   ]
  },
  {
   "cell_type": "code",
   "execution_count": 71,
   "metadata": {},
   "outputs": [
    {
     "data": {
      "text/plain": [
       "409"
      ]
     },
     "execution_count": 71,
     "metadata": {},
     "output_type": "execute_result"
    }
   ],
   "source": [
    "len(pre_final_df.player_id.tolist())"
   ]
  },
  {
   "cell_type": "code",
   "execution_count": 73,
   "metadata": {},
   "outputs": [],
   "source": [
    "unmapped_fpl_ids = set(fpl_player_stats_df.player_id.tolist()).difference(set(pre_final_df.player_id.tolist()))"
   ]
  },
  {
   "cell_type": "code",
   "execution_count": 93,
   "metadata": {},
   "outputs": [],
   "source": [
    "unique_team = L(fpl_player_stats_df.team.tolist()).unique()"
   ]
  },
  {
   "cell_type": "code",
   "execution_count": 96,
   "metadata": {},
   "outputs": [
    {
     "data": {
      "text/plain": [
       "['arsenal',\n",
       " 'aston_villa',\n",
       " 'brighton',\n",
       " 'burnley',\n",
       " 'chelsea',\n",
       " 'crystal_palace',\n",
       " 'everton',\n",
       " 'fulham',\n",
       " 'leicester',\n",
       " 'leeds',\n",
       " 'liverpool',\n",
       " 'man_city',\n",
       " 'man_utd',\n",
       " 'newcastle',\n",
       " 'sheffield_utd',\n",
       " 'southampton',\n",
       " 'spurs',\n",
       " 'west_brom',\n",
       " 'west_ham',\n",
       " 'wolves']"
      ]
     },
     "execution_count": 96,
     "metadata": {},
     "output_type": "execute_result"
    }
   ],
   "source": [
    "unique_team.items"
   ]
  },
  {
   "cell_type": "code",
   "execution_count": 120,
   "metadata": {},
   "outputs": [],
   "source": [
    "def find_fuzzy_matches(val, fname):\n",
    "    if fuzz.ratio(val, fname) > 50:\n",
    "        print(val)\n",
    "        return val"
   ]
  },
  {
   "cell_type": "code",
   "execution_count": 180,
   "metadata": {},
   "outputs": [
    {
     "data": {
      "text/plain": [
       "[{'player_id': 289, 'fbref_id': ''},\n",
       " {'player_id': 292, 'fbref_id': ''},\n",
       " {'player_id': 294, 'fbref_id': ''},\n",
       " {'player_id': 297, 'fbref_id': ''},\n",
       " {'player_id': 299, 'fbref_id': ''},\n",
       " {'player_id': 301, 'fbref_id': ''},\n",
       " {'player_id': 302, 'fbref_id': ''},\n",
       " {'player_id': 304, 'fbref_id': ''},\n",
       " {'player_id': 314, 'fbref_id': ''},\n",
       " {'player_id': 316, 'fbref_id': ''},\n",
       " {'player_id': 317, 'fbref_id': ''},\n",
       " {'player_id': 319, 'fbref_id': ''},\n",
       " {'player_id': 568, 'fbref_id': ''},\n",
       " {'player_id': 575, 'fbref_id': ''},\n",
       " {'player_id': 604, 'fbref_id': ''},\n",
       " {'player_id': 640, 'fbref_id': ''}]"
      ]
     },
     "execution_count": 180,
     "metadata": {},
     "output_type": "execute_result"
    }
   ],
   "source": [
    "[{\"player_id\": pl, \"fbref_id\": \"\"} for pl in fpl_player_stats_df.query(f\"player_id == {list(unmapped_fpl_ids)}\")[['player_id', 'name', 'team']]\\\n",
    ".query(\"team == 'man_utd'\").player_id.tolist()]"
   ]
  },
  {
   "cell_type": "code",
   "execution_count": 121,
   "metadata": {},
   "outputs": [
    {
     "data": {
      "text/plain": [
       "pandas.core.series.Series"
      ]
     },
     "execution_count": 121,
     "metadata": {},
     "output_type": "execute_result"
    }
   ],
   "source": [
    "type(fbref_all.name)"
   ]
  },
  {
   "cell_type": "code",
   "execution_count": 182,
   "metadata": {},
   "outputs": [],
   "source": [
    "unmapped_players = [\n",
    "    {\"player_id\": 478, \"fbref_id\": \"8b9ebd03\"},\n",
    "    {\"player_id\": 3, \"fbref_id\": \"c0e27d1a\"},\n",
    "    {\"player_id\": 1, \"fbref_id\": \"16380240\"},\n",
    "    {\"player_id\": 2, \"fbref_id\": \"b682dcf6\"},\n",
    "    {\"player_id\": 13, \"fbref_id\": \"dc6f5bdd\"},\n",
    "    {\"player_id\": 19, \"fbref_id\": \"52611641\"},\n",
    "    {\"player_id\": 22, \"fbref_id\": \"a53649b7\"},\n",
    "    {\"player_id\": 25, \"fbref_id\": \"5ea8ef20\"},\n",
    "    {\"player_id\": 26, \"fbref_id\": \"48a5a5d6\"},\n",
    "    {\"player_id\": 27, \"fbref_id\": \"972aeb2a\"},\n",
    "    {\"player_id\": 494, \"fbref_id\": \"67ac5bb8\"},\n",
    "    {\"player_id\": 501, \"fbref_id\": \"c0617e2b\"},\n",
    "    {\"player_id\": 526, \"fbref_id\": \"47a34c4f\"},\n",
    "    {\"player_id\": 527, \"fbref_id\": \"136e7649\"},\n",
    "    {\"player_id\": 547, \"fbref_id\": \"8fa8f8d2\"},\n",
    "    \n",
    "    {'player_id': 28, 'fbref_id': 'a6de6361'},\n",
    "     {'player_id': 30, 'fbref_id': 'fe8e6fa1'},\n",
    "     {'player_id': 32, 'fbref_id': 'a8a3d139'},\n",
    "     {'player_id': 34, 'fbref_id': ''},\n",
    "     {'player_id': 35, 'fbref_id': 'bdedffac'},\n",
    "     {'player_id': 36, 'fbref_id': '4fdf1fd9'},\n",
    "     {'player_id': 40, 'fbref_id': ''},\n",
    "     {'player_id': 43, 'fbref_id': 'c07b7c5c'},\n",
    "     {'player_id': 46, 'fbref_id': '0313a347'},\n",
    "     {'player_id': 47, 'fbref_id': '5d8d7454'},\n",
    "     {'player_id': 48, 'fbref_id': 'bfae110f'},\n",
    "     {'player_id': 49, 'fbref_id': 'dae8623e'},\n",
    "     {'player_id': 51, 'fbref_id': '04e195ee'},\n",
    "     {'player_id': 52, 'fbref_id': '6f7d826d'},\n",
    "     {'player_id': 496, 'fbref_id': '2389cdc2'},\n",
    "    \n",
    "    {'player_id': 53, 'fbref_id': 'f2f29dda'},\n",
    "     {'player_id': 58, 'fbref_id': '7314bba4'},\n",
    "     {'player_id': 60, 'fbref_id': '47b7e3af'},\n",
    "     {'player_id': 63, 'fbref_id': '5cec2487'},\n",
    "     {'player_id': 64, 'fbref_id': 'dc008610'},\n",
    "     {'player_id': 65, 'fbref_id': 'bb5fbd2b'},\n",
    "     {'player_id': 72, 'fbref_id': 'ca2bc3df'},\n",
    "     {'player_id': 73, 'fbref_id': '8ea2227a'},\n",
    "     {'player_id': 75, 'fbref_id': '17370b95'},\n",
    "     {'player_id': 503, 'fbref_id': 'c666574f'},\n",
    "     {'player_id': 528, 'fbref_id': '28300a16'},\n",
    "     {'player_id': 628, 'fbref_id': 'f230bc30'},\n",
    "     {'player_id': 631, 'fbref_id': 'a96ba40b'},\n",
    "     {'player_id': 632, 'fbref_id': '4871d0e8'},\n",
    "     {'player_id': 633, 'fbref_id': '2ae8e967'},\n",
    "     \n",
    "    {'player_id': 84, 'fbref_id': '74e12f1e'},\n",
    "     {'player_id': 94, 'fbref_id': 'bcfb0142'},\n",
    "     {'player_id': 520, 'fbref_id': '6a471ee8'},\n",
    "     {'player_id': 536, 'fbref_id': '6a39bd42'},\n",
    "     {'player_id': 551, 'fbref_id': '6abefdff'},\n",
    "     {'player_id': 583, 'fbref_id': 'c73ada83'},\n",
    "     {'player_id': 591, 'fbref_id': 'fa38722f'},\n",
    "     {'player_id': 592, 'fbref_id': '4fa62ae4'},\n",
    "     {'player_id': 612, 'fbref_id': 'bda82fc2'},\n",
    "     {'player_id': 613, 'fbref_id': 'f8e588df'},\n",
    "    \n",
    "    {'player_id': 105, 'fbref_id': '45db685d'},\n",
    "     {'player_id': 107, 'fbref_id': '79c0821a'},\n",
    "     {'player_id': 111, 'fbref_id': 'e0bc6fdc'},\n",
    "     {'player_id': 232, 'fbref_id': 'd2424d1b'},\n",
    "     {'player_id': 490, 'fbref_id': '86e7deaf'},\n",
    "     {'player_id': 593, 'fbref_id': '53b781b9'},\n",
    "     {'player_id': 605, 'fbref_id': 'b105919e'},\n",
    "    \n",
    "    {'player_id': 126, 'fbref_id': '76eca7e2'},\n",
    "     {'player_id': 135, 'fbref_id': 'd7492450'},\n",
    "     {'player_id': 136, 'fbref_id': '41cc19c2'},\n",
    "     {'player_id': 143, 'fbref_id': 'eba42d2b'},\n",
    "     {'player_id': 145, 'fbref_id': '2f8d27bc'},\n",
    "     {'player_id': 147, 'fbref_id': '9a526299'},\n",
    "     {'player_id': 522, 'fbref_id': 'a62da625'},\n",
    "     {'player_id': 534, 'fbref_id': '600ae8cb'},\n",
    "     {'player_id': 578, 'fbref_id': 'f234c188'},\n",
    "     {'player_id': 586, 'fbref_id': 'cc70a1d5'},\n",
    "     {'player_id': 641, 'fbref_id': '50e6dc35'},\n",
    "    \n",
    "    {'player_id': 151, 'fbref_id': '939bc634'},\n",
    "     {'player_id': 154, 'fbref_id': 'ab4b3e35'},\n",
    "     {'player_id': 158, 'fbref_id': '1961b2aa'},\n",
    "     {'player_id': 161, 'fbref_id': '6bd603db'},\n",
    "     {'player_id': 166, 'fbref_id': 'fa031b34'},\n",
    "     {'player_id': 167, 'fbref_id': '728e9b2e'},\n",
    "     {'player_id': 170, 'fbref_id': 'c1949191'},\n",
    "     {'player_id': 502, 'fbref_id': 'cc700722'},\n",
    "     {'player_id': 596, 'fbref_id': '26d3b5be'},\n",
    "    \n",
    "    {'player_id': 171, 'fbref_id': 'af245161'},\n",
    "     {'player_id': 172, 'fbref_id': '71a08f97'},\n",
    "     {'player_id': 174, 'fbref_id': 'a48da055'},\n",
    "     {'player_id': 177, 'fbref_id': '6c679c6d'},\n",
    "     {'player_id': 179, 'fbref_id': '7eb67dad'},\n",
    "     {'player_id': 181, 'fbref_id': '0f7533cd'},\n",
    "     {'player_id': 183, 'fbref_id': '0d85a4e8'},\n",
    "     {'player_id': 185, 'fbref_id': 'd368feb8'},\n",
    "     {'player_id': 187, 'fbref_id': '979b811d'},\n",
    "     {'player_id': 189, 'fbref_id': '10efd0e1'},\n",
    "     {'player_id': 192, 'fbref_id': '4e229bf9'},\n",
    "     {'player_id': 585, 'fbref_id': '1f9a3a04'},\n",
    "    \n",
    "     {'player_id': 220, 'fbref_id': 'd6f88a1d'},\n",
    "     {'player_id': 222, 'fbref_id': 'ebd0a048'},\n",
    "     {'player_id': 223, 'fbref_id': 'd3ce0e89'},\n",
    "     {'player_id': 226, 'fbref_id': '75a72a99'},\n",
    "     {'player_id': 237, 'fbref_id': '305a3820'},\n",
    "    \n",
    "     {'player_id': 193, 'fbref_id': 'c0398aca'},\n",
    "     {'player_id': 194, 'fbref_id': '58bc7d18'},\n",
    "     {'player_id': 196, 'fbref_id': 'c859705e'},\n",
    "     {'player_id': 199, 'fbref_id': '9f1938ab'},\n",
    "     {'player_id': 205, 'fbref_id': 'f13d02a6'},\n",
    "     {'player_id': 207, 'fbref_id': '9a8241af'},\n",
    "     {'player_id': 208, 'fbref_id': ''},\n",
    "     {'player_id': 209, 'fbref_id': '55b4f1d6'},\n",
    "     {'player_id': 212, 'fbref_id': '7d3dc53e'},\n",
    "     {'player_id': 215, 'fbref_id': '2d82641c'},\n",
    "     {'player_id': 492, 'fbref_id': '1fb1c435'},\n",
    "     {'player_id': 532, 'fbref_id': '97d7afbd'},\n",
    "     {'player_id': 533, 'fbref_id': 'a2c1d8c2'},\n",
    "     {'player_id': 599, 'fbref_id': '3d46127c'},\n",
    "     {'player_id': 619, 'fbref_id': '6d646ff7'},\n",
    "     {'player_id': 620, 'fbref_id': '4654e5f5'},\n",
    "    \n",
    "     {'player_id': 242, 'fbref_id': 'f315ca93'},\n",
    "     {'player_id': 245, 'fbref_id': 'f76e6b4e'},\n",
    "     {'player_id': 252, 'fbref_id': '7a2e46a8'},\n",
    "     {'player_id': 253, 'fbref_id': '7f3b388c'},\n",
    "     {'player_id': 257, 'fbref_id': 'c6dc9ecd'},\n",
    "     {'player_id': 265, 'fbref_id': ''},\n",
    "     {'player_id': 531, 'fbref_id': '77e84962'},\n",
    "     {'player_id': 601, 'fbref_id': 'd5dafedb'},\n",
    "     {'player_id': 607, 'fbref_id': 'a33ce8e2'},\n",
    "    \n",
    "     {'player_id': 266, 'fbref_id': '101da2b5'},\n",
    "     {'player_id': 267, 'fbref_id': '10072610'},\n",
    "     {'player_id': 269, 'fbref_id': '0d267745'},\n",
    "     {'player_id': 277, 'fbref_id': 'bd6351cd'},\n",
    "     {'player_id': 278, 'fbref_id': '3bb7b8b4'},\n",
    "     {'player_id': 281, 'fbref_id': '3eb22ec9'},\n",
    "     {'player_id': 282, 'fbref_id': 'b66315ae'},\n",
    "     {'player_id': 285, 'fbref_id': ''},\n",
    "     {'player_id': 286, 'fbref_id': '6434f10d'},\n",
    "     {'player_id': 537, 'fbref_id': '548672b4'},\n",
    "     {'player_id': 552, 'fbref_id': 'dc7f8a28'},\n",
    "     {'player_id': 556, 'fbref_id': '31c69ef1'},\n",
    "     {'player_id': 595, 'fbref_id': '259fea27'},\n",
    "     {'player_id': 608, 'fbref_id': '3e1550ee'},\n",
    "     {'player_id': 609, 'fbref_id': '091c86e2'},\n",
    "     {'player_id': 622, 'fbref_id': '387e1d35'},\n",
    "     {'player_id': 623, 'fbref_id': '47327321'},\n",
    "    \n",
    "     {'player_id': 326, 'fbref_id': '3a949a25'},\n",
    "     {'player_id': 327, 'fbref_id': '6eaed4eb'},\n",
    "     {'player_id': 330, 'fbref_id': '8816329f'},\n",
    "     {'player_id': 337, 'fbref_id': 'c5942695'},\n",
    "     {'player_id': 340, 'fbref_id': 'c17bfb65'},\n",
    "     {'player_id': 341, 'fbref_id': '5343eb4e'},\n",
    "     {'player_id': 342, 'fbref_id': '603e4f0b'},\n",
    "     {'player_id': 488, 'fbref_id': 'e32958b7'},\n",
    "     {'player_id': 606, 'fbref_id': '096d1e60'},\n",
    "    \n",
    "     {'player_id': 348, 'fbref_id': 'e7434f04'},\n",
    "     {'player_id': 350, 'fbref_id': '96cf7b61'},\n",
    "     {'player_id': 477, 'fbref_id': '636b64cd'},\n",
    "     {'player_id': 580, 'fbref_id': '424595d5'},\n",
    "    \n",
    "    {'player_id': 364, 'fbref_id': '4b511457'},\n",
    "     {'player_id': 371, 'fbref_id': 'e082af5b'},\n",
    "     {'player_id': 372, 'fbref_id': 'b0c71810'},\n",
    "     {'player_id': 374, 'fbref_id': '6d6f09dc'},\n",
    "     {'player_id': 380, 'fbref_id': 'd484c261'},\n",
    "     {'player_id': 479, 'fbref_id': '0b33f6ad'},\n",
    "     {'player_id': 590, 'fbref_id': ''},\n",
    "     {'player_id': 598, 'fbref_id': ''},\n",
    "     {'player_id': 624, 'fbref_id': ''},\n",
    "     {'player_id': 625, 'fbref_id': 'c35e99d8'},\n",
    "     {'player_id': 634, 'fbref_id': 'f4765c97'},\n",
    "     {'player_id': 635, 'fbref_id': 'ab7d7882'},\n",
    "     {'player_id': 636, 'fbref_id': 'c7170b46'},\n",
    "    \n",
    "     {'player_id': 384, 'fbref_id': '89d10e53'},\n",
    "     {'player_id': 390, 'fbref_id': '92e7e919'},\n",
    "     {'player_id': 392, 'fbref_id': '2b622f01'},\n",
    "     {'player_id': 393, 'fbref_id': '63d17038'},\n",
    "     {'player_id': 394, 'fbref_id': 'cea4ee8f'},\n",
    "     {'player_id': 396, 'fbref_id': '8b04d6c1'},\n",
    "     {'player_id': 399, 'fbref_id': '6aa3e78b'},\n",
    "     {'player_id': 401, 'fbref_id': ''},\n",
    "     {'player_id': 402, 'fbref_id': 'e9971f2d'},\n",
    "     {'player_id': 404, 'fbref_id': '6250083a'},\n",
    "     {'player_id': 406, 'fbref_id': '6c7762c3'},\n",
    "     {'player_id': 482, 'fbref_id': 'cb4f24c6'},\n",
    "     {'player_id': 521, 'fbref_id': '88ced02c'},\n",
    "     {'player_id': 564, 'fbref_id': '8b529245'},\n",
    "    \n",
    "     {'player_id': 414, 'fbref_id': '5540c9dc'},\n",
    "     {'player_id': 416, 'fbref_id': '5e508d0d'},\n",
    "     {'player_id': 419, 'fbref_id': 'd6192210'},\n",
    "     {'player_id': 420, 'fbref_id': '76b5cbbd'},\n",
    "     {'player_id': 499, 'fbref_id': '9f30e7ed'},\n",
    "     {'player_id': 621, 'fbref_id': '45787ffa'},\n",
    "     {'player_id': 639, 'fbref_id': '165cf989'},\n",
    "    \n",
    "     {'player_id': 429, 'fbref_id': '07666c20'},\n",
    "     {'player_id': 433, 'fbref_id': 'ba3ca78f'},\n",
    "     {'player_id': 434, 'fbref_id': '9c318325'},\n",
    "     {'player_id': 440, 'fbref_id': '9f1893b9'},\n",
    "     {'player_id': 444, 'fbref_id': 'a36d4785'},\n",
    "     {'player_id': 447, 'fbref_id': '2b1c4abd'},\n",
    "     {'player_id': 449, 'fbref_id': '6613c819'},\n",
    "     {'player_id': 637, 'fbref_id': '95827107'},\n",
    "     {'player_id': 638, 'fbref_id': 'dcba03f6'},\n",
    "    \n",
    "     {'player_id': 453, 'fbref_id': 'da8b19e2'},\n",
    "     {'player_id': 454, 'fbref_id': 'f5a00fa4'},\n",
    "     {'player_id': 455, 'fbref_id': '79b0d6a0'},\n",
    "     {'player_id': 456, 'fbref_id': '0bad4516'},\n",
    "     {'player_id': 462, 'fbref_id': 'e28868f3'},\n",
    "     {'player_id': 463, 'fbref_id': 'da23d58d'},\n",
    "     {'player_id': 466, 'fbref_id': '44bfb6c5'},\n",
    "     {'player_id': 469, 'fbref_id': '7fcc71d8'},\n",
    "     {'player_id': 471, 'fbref_id': 'b937e490'},\n",
    "     {'player_id': 472, 'fbref_id': 'a89e7b29'},\n",
    "     {'player_id': 474, 'fbref_id': '7ba2eaa9'},\n",
    "     {'player_id': 475, 'fbref_id': '41ff002d'},\n",
    "     {'player_id': 476, 'fbref_id': 'bf9c0749'},\n",
    "     {'player_id': 515, 'fbref_id': '3b029691'},\n",
    "     {'player_id': 546, 'fbref_id': 'd04b94db'},\n",
    "     {'player_id': 553, 'fbref_id': '012c38ec'},\n",
    "     {'player_id': 610, 'fbref_id': '25b82f9a'},\n",
    "     {'player_id': 611, 'fbref_id': '01ba3996'},\n",
    "     {'player_id': 614, 'fbref_id': 'cc3b8e78'},\n",
    "     {'player_id': 615, 'fbref_id': 'ae0e6ba7'},\n",
    "     {'player_id': 616, 'fbref_id': 'a7cf1541'},\n",
    "     {'player_id': 617, 'fbref_id': '43f9b4ba'},\n",
    "     {'player_id': 629, 'fbref_id': '17be8dc3'},\n",
    "    \n",
    "     {'player_id': 289, 'fbref_id': '1e26e376'},\n",
    "     {'player_id': 292, 'fbref_id': 'b6964eb6'},\n",
    "     {'player_id': 294, 'fbref_id': 'e0991c04'},\n",
    "     {'player_id': 297, 'fbref_id': 'def899bd'},\n",
    "     {'player_id': 299, 'fbref_id': 'b853e0ad'},\n",
    "     {'player_id': 301, 'fbref_id': '810e3c74'},\n",
    "     {'player_id': 302, 'fbref_id': '507c7bdf'},\n",
    "     {'player_id': 304, 'fbref_id': '6639e500'},\n",
    "     {'player_id': 314, 'fbref_id': 'd9565625'},\n",
    "     {'player_id': 316, 'fbref_id': '2696b6a9'},\n",
    "     {'player_id': 317, 'fbref_id': '4e015693'},\n",
    "     {'player_id': 319, 'fbref_id': '91748070'},\n",
    "     {'player_id': 568, 'fbref_id': 'e73c9bb2'},\n",
    "     {'player_id': 575, 'fbref_id': 'ac7e7b1c'},\n",
    "     {'player_id': 604, 'fbref_id': '9dab6e3b'},\n",
    "     {'player_id': 640, 'fbref_id': ''},\n",
    "]"
   ]
  },
  {
   "cell_type": "code",
   "execution_count": 183,
   "metadata": {
    "scrolled": false
   },
   "outputs": [
    {
     "data": {
      "text/html": [
       "<div>\n",
       "<style scoped>\n",
       "    .dataframe tbody tr th:only-of-type {\n",
       "        vertical-align: middle;\n",
       "    }\n",
       "\n",
       "    .dataframe tbody tr th {\n",
       "        vertical-align: top;\n",
       "    }\n",
       "\n",
       "    .dataframe thead th {\n",
       "        text-align: right;\n",
       "    }\n",
       "</style>\n",
       "<table border=\"1\" class=\"dataframe\">\n",
       "  <thead>\n",
       "    <tr style=\"text-align: right;\">\n",
       "      <th></th>\n",
       "      <th>player_id</th>\n",
       "      <th>name</th>\n",
       "      <th>team</th>\n",
       "    </tr>\n",
       "  </thead>\n",
       "  <tbody>\n",
       "    <tr>\n",
       "      <th>380</th>\n",
       "      <td>289</td>\n",
       "      <td>Sergio Romero</td>\n",
       "      <td>man_utd</td>\n",
       "    </tr>\n",
       "    <tr>\n",
       "      <th>383</th>\n",
       "      <td>292</td>\n",
       "      <td>Chris Smalling</td>\n",
       "      <td>man_utd</td>\n",
       "    </tr>\n",
       "    <tr>\n",
       "      <th>385</th>\n",
       "      <td>294</td>\n",
       "      <td>Marcos Rojo</td>\n",
       "      <td>man_utd</td>\n",
       "    </tr>\n",
       "    <tr>\n",
       "      <th>388</th>\n",
       "      <td>297</td>\n",
       "      <td>Phil Jones</td>\n",
       "      <td>man_utd</td>\n",
       "    </tr>\n",
       "    <tr>\n",
       "      <th>390</th>\n",
       "      <td>299</td>\n",
       "      <td>Frederico Rodrigues de Paula Santos</td>\n",
       "      <td>man_utd</td>\n",
       "    </tr>\n",
       "    <tr>\n",
       "      <th>392</th>\n",
       "      <td>301</td>\n",
       "      <td>Jesse Lingard</td>\n",
       "      <td>man_utd</td>\n",
       "    </tr>\n",
       "    <tr>\n",
       "      <th>393</th>\n",
       "      <td>302</td>\n",
       "      <td>Bruno Miguel Borges Fernandes</td>\n",
       "      <td>man_utd</td>\n",
       "    </tr>\n",
       "    <tr>\n",
       "      <th>395</th>\n",
       "      <td>304</td>\n",
       "      <td>Andreas Pereira</td>\n",
       "      <td>man_utd</td>\n",
       "    </tr>\n",
       "    <tr>\n",
       "      <th>405</th>\n",
       "      <td>314</td>\n",
       "      <td>José Diogo Dalot Teixeira</td>\n",
       "      <td>man_utd</td>\n",
       "    </tr>\n",
       "    <tr>\n",
       "      <th>407</th>\n",
       "      <td>316</td>\n",
       "      <td>Tahith Chong</td>\n",
       "      <td>man_utd</td>\n",
       "    </tr>\n",
       "    <tr>\n",
       "      <th>408</th>\n",
       "      <td>317</td>\n",
       "      <td>James Garner</td>\n",
       "      <td>man_utd</td>\n",
       "    </tr>\n",
       "    <tr>\n",
       "      <th>410</th>\n",
       "      <td>319</td>\n",
       "      <td>Teden Mengi</td>\n",
       "      <td>man_utd</td>\n",
       "    </tr>\n",
       "    <tr>\n",
       "      <th>412</th>\n",
       "      <td>568</td>\n",
       "      <td>Alex Nicolao Telles</td>\n",
       "      <td>man_utd</td>\n",
       "    </tr>\n",
       "    <tr>\n",
       "      <th>414</th>\n",
       "      <td>575</td>\n",
       "      <td>Facundo Pellistri</td>\n",
       "      <td>man_utd</td>\n",
       "    </tr>\n",
       "    <tr>\n",
       "      <th>415</th>\n",
       "      <td>604</td>\n",
       "      <td>Lee Grant</td>\n",
       "      <td>man_utd</td>\n",
       "    </tr>\n",
       "    <tr>\n",
       "      <th>416</th>\n",
       "      <td>640</td>\n",
       "      <td>Amad Diallo</td>\n",
       "      <td>man_utd</td>\n",
       "    </tr>\n",
       "  </tbody>\n",
       "</table>\n",
       "</div>"
      ],
      "text/plain": [
       "     player_id                                 name     team\n",
       "380        289                        Sergio Romero  man_utd\n",
       "383        292                       Chris Smalling  man_utd\n",
       "385        294                          Marcos Rojo  man_utd\n",
       "388        297                           Phil Jones  man_utd\n",
       "390        299  Frederico Rodrigues de Paula Santos  man_utd\n",
       "392        301                        Jesse Lingard  man_utd\n",
       "393        302        Bruno Miguel Borges Fernandes  man_utd\n",
       "395        304                      Andreas Pereira  man_utd\n",
       "405        314            José Diogo Dalot Teixeira  man_utd\n",
       "407        316                         Tahith Chong  man_utd\n",
       "408        317                         James Garner  man_utd\n",
       "410        319                          Teden Mengi  man_utd\n",
       "412        568                  Alex Nicolao Telles  man_utd\n",
       "414        575                    Facundo Pellistri  man_utd\n",
       "415        604                            Lee Grant  man_utd\n",
       "416        640                          Amad Diallo  man_utd"
      ]
     },
     "execution_count": 183,
     "metadata": {},
     "output_type": "execute_result"
    }
   ],
   "source": [
    "fpl_player_stats_df.query(f\"player_id == {list(unmapped_fpl_ids)}\")[['player_id', 'name', 'team']]\\\n",
    ".query(\"team == 'man_utd'\")"
   ]
  },
  {
   "cell_type": "code",
   "execution_count": 184,
   "metadata": {},
   "outputs": [
    {
     "data": {
      "text/plain": [
       "236"
      ]
     },
     "execution_count": 184,
     "metadata": {},
     "output_type": "execute_result"
    }
   ],
   "source": [
    "len(unmapped_players)"
   ]
  },
  {
   "cell_type": "code",
   "execution_count": 185,
   "metadata": {},
   "outputs": [
    {
     "data": {
      "text/plain": [
       "set()"
      ]
     },
     "execution_count": 185,
     "metadata": {},
     "output_type": "execute_result"
    }
   ],
   "source": [
    "(unmapped_fpl_ids).difference(set([pl[\"player_id\"] for pl in unmapped_players]))"
   ]
  },
  {
   "cell_type": "code",
   "execution_count": 195,
   "metadata": {},
   "outputs": [],
   "source": [
    "unmapped_players_df = pd.DataFrame(unmapped_players)"
   ]
  },
  {
   "cell_type": "markdown",
   "metadata": {},
   "source": [
    "### Redoing dfs"
   ]
  },
  {
   "cell_type": "code",
   "execution_count": 188,
   "metadata": {},
   "outputs": [
    {
     "data": {
      "text/plain": [
       "(409, 216)"
      ]
     },
     "execution_count": 188,
     "metadata": {},
     "output_type": "execute_result"
    }
   ],
   "source": [
    "pre_final_df.shape"
   ]
  },
  {
   "cell_type": "code",
   "execution_count": 189,
   "metadata": {},
   "outputs": [
    {
     "data": {
      "text/plain": [
       "Index(['player_id', 'fbref_id'], dtype='object')"
      ]
     },
     "execution_count": 189,
     "metadata": {},
     "output_type": "execute_result"
    }
   ],
   "source": [
    "mapped_df.columns"
   ]
  },
  {
   "cell_type": "code",
   "execution_count": 196,
   "metadata": {},
   "outputs": [
    {
     "data": {
      "text/plain": [
       "Index(['player_id', 'fbref_id'], dtype='object')"
      ]
     },
     "execution_count": 196,
     "metadata": {},
     "output_type": "execute_result"
    }
   ],
   "source": [
    "unmapped_players_df.columns"
   ]
  },
  {
   "cell_type": "code",
   "execution_count": 198,
   "metadata": {},
   "outputs": [],
   "source": [
    "full_player_set = pd.concat([mapped_df, unmapped_players_df])"
   ]
  },
  {
   "cell_type": "code",
   "execution_count": 205,
   "metadata": {},
   "outputs": [
    {
     "data": {
      "text/plain": [
       "(641, 2)"
      ]
     },
     "execution_count": 205,
     "metadata": {},
     "output_type": "execute_result"
    }
   ],
   "source": [
    "full_player_set.shape"
   ]
  },
  {
   "cell_type": "code",
   "execution_count": 207,
   "metadata": {},
   "outputs": [],
   "source": [
    "full_player_set.to_csv(\"../../data/off_fpl_fbref_player_mapping.csv\", index=False)"
   ]
  },
  {
   "cell_type": "code",
   "execution_count": 190,
   "metadata": {},
   "outputs": [
    {
     "data": {
      "text/plain": [
       "(473, 163)"
      ]
     },
     "execution_count": 190,
     "metadata": {},
     "output_type": "execute_result"
    }
   ],
   "source": [
    "fbref_all.shape"
   ]
  },
  {
   "cell_type": "code",
   "execution_count": 191,
   "metadata": {},
   "outputs": [
    {
     "data": {
      "text/html": [
       "<div>\n",
       "<style scoped>\n",
       "    .dataframe tbody tr th:only-of-type {\n",
       "        vertical-align: middle;\n",
       "    }\n",
       "\n",
       "    .dataframe tbody tr th {\n",
       "        vertical-align: top;\n",
       "    }\n",
       "\n",
       "    .dataframe thead th {\n",
       "        text-align: right;\n",
       "    }\n",
       "</style>\n",
       "<table border=\"1\" class=\"dataframe\">\n",
       "  <thead>\n",
       "    <tr style=\"text-align: right;\">\n",
       "      <th></th>\n",
       "      <th>name</th>\n",
       "      <th>profile_url</th>\n",
       "      <th>nationality</th>\n",
       "      <th>position</th>\n",
       "      <th>age</th>\n",
       "      <th>minutes_90s_x</th>\n",
       "      <th>goals</th>\n",
       "      <th>shots_total</th>\n",
       "      <th>shots_on_target</th>\n",
       "      <th>shots_on_target_pct</th>\n",
       "      <th>...</th>\n",
       "      <th>interceptions_y</th>\n",
       "      <th>tackles_won_y</th>\n",
       "      <th>pens_won</th>\n",
       "      <th>pens_conceded</th>\n",
       "      <th>own_goals</th>\n",
       "      <th>ball_recoveries</th>\n",
       "      <th>aerials_won</th>\n",
       "      <th>aerials_lost</th>\n",
       "      <th>aerials_won_pct</th>\n",
       "      <th>fbref_id</th>\n",
       "    </tr>\n",
       "  </thead>\n",
       "  <tbody>\n",
       "    <tr>\n",
       "      <th>113</th>\n",
       "      <td>Ross Barkley</td>\n",
       "      <td>https://fbref.com/en/players/3a24769f/Ross-Bar...</td>\n",
       "      <td>['eng', 'ENG']</td>\n",
       "      <td>MF</td>\n",
       "      <td>27 years and 051 days</td>\n",
       "      <td>0.5</td>\n",
       "      <td>0</td>\n",
       "      <td>1</td>\n",
       "      <td>1</td>\n",
       "      <td>100.0</td>\n",
       "      <td>...</td>\n",
       "      <td>0</td>\n",
       "      <td>0</td>\n",
       "      <td>0</td>\n",
       "      <td>0</td>\n",
       "      <td>0</td>\n",
       "      <td>8</td>\n",
       "      <td>3</td>\n",
       "      <td>1</td>\n",
       "      <td>75.0</td>\n",
       "      <td>3a24769f</td>\n",
       "    </tr>\n",
       "    <tr>\n",
       "      <th>264</th>\n",
       "      <td>Theo Walcott</td>\n",
       "      <td>https://fbref.com/en/players/1ecb65be/Theo-Wal...</td>\n",
       "      <td>['eng', 'ENG']</td>\n",
       "      <td>MF,FW</td>\n",
       "      <td>31 years and 315 days</td>\n",
       "      <td>12.2</td>\n",
       "      <td>2</td>\n",
       "      <td>22</td>\n",
       "      <td>8</td>\n",
       "      <td>36.4</td>\n",
       "      <td>...</td>\n",
       "      <td>6</td>\n",
       "      <td>15</td>\n",
       "      <td>0</td>\n",
       "      <td>0</td>\n",
       "      <td>0</td>\n",
       "      <td>87</td>\n",
       "      <td>4</td>\n",
       "      <td>23</td>\n",
       "      <td>14.8</td>\n",
       "      <td>1ecb65be</td>\n",
       "    </tr>\n",
       "    <tr>\n",
       "      <th>374</th>\n",
       "      <td>Robert Snodgrass</td>\n",
       "      <td>https://fbref.com/en/players/9f4647e9/Robert-S...</td>\n",
       "      <td>['sco', 'SCO']</td>\n",
       "      <td>FW</td>\n",
       "      <td>33 years and 140 days</td>\n",
       "      <td>1.0</td>\n",
       "      <td>0</td>\n",
       "      <td>1</td>\n",
       "      <td>0</td>\n",
       "      <td>0.0</td>\n",
       "      <td>...</td>\n",
       "      <td>1</td>\n",
       "      <td>3</td>\n",
       "      <td>0</td>\n",
       "      <td>0</td>\n",
       "      <td>0</td>\n",
       "      <td>8</td>\n",
       "      <td>1</td>\n",
       "      <td>3</td>\n",
       "      <td>25.0</td>\n",
       "      <td>9f4647e9</td>\n",
       "    </tr>\n",
       "    <tr>\n",
       "      <th>434</th>\n",
       "      <td>Ruben Loftus-Cheek</td>\n",
       "      <td>https://fbref.com/en/players/e97fd090/Ruben-Lo...</td>\n",
       "      <td>['eng', 'ENG']</td>\n",
       "      <td>FW,MF</td>\n",
       "      <td>25 years and 002 days</td>\n",
       "      <td>8.7</td>\n",
       "      <td>1</td>\n",
       "      <td>14</td>\n",
       "      <td>5</td>\n",
       "      <td>35.7</td>\n",
       "      <td>...</td>\n",
       "      <td>7</td>\n",
       "      <td>11</td>\n",
       "      <td>1</td>\n",
       "      <td>0</td>\n",
       "      <td>0</td>\n",
       "      <td>51</td>\n",
       "      <td>17</td>\n",
       "      <td>35</td>\n",
       "      <td>32.7</td>\n",
       "      <td>e97fd090</td>\n",
       "    </tr>\n",
       "  </tbody>\n",
       "</table>\n",
       "<p>4 rows × 163 columns</p>\n",
       "</div>"
      ],
      "text/plain": [
       "                   name                                        profile_url  \\\n",
       "113        Ross Barkley  https://fbref.com/en/players/3a24769f/Ross-Bar...   \n",
       "264        Theo Walcott  https://fbref.com/en/players/1ecb65be/Theo-Wal...   \n",
       "374    Robert Snodgrass  https://fbref.com/en/players/9f4647e9/Robert-S...   \n",
       "434  Ruben Loftus-Cheek  https://fbref.com/en/players/e97fd090/Ruben-Lo...   \n",
       "\n",
       "        nationality position                    age  minutes_90s_x  goals  \\\n",
       "113  ['eng', 'ENG']       MF  27 years and 051 days            0.5      0   \n",
       "264  ['eng', 'ENG']    MF,FW  31 years and 315 days           12.2      2   \n",
       "374  ['sco', 'SCO']       FW  33 years and 140 days            1.0      0   \n",
       "434  ['eng', 'ENG']    FW,MF  25 years and 002 days            8.7      1   \n",
       "\n",
       "     shots_total  shots_on_target  shots_on_target_pct  ...  interceptions_y  \\\n",
       "113            1                1                100.0  ...                0   \n",
       "264           22                8                 36.4  ...                6   \n",
       "374            1                0                  0.0  ...                1   \n",
       "434           14                5                 35.7  ...                7   \n",
       "\n",
       "     tackles_won_y  pens_won  pens_conceded  own_goals  ball_recoveries  \\\n",
       "113              0         0              0          0                8   \n",
       "264             15         0              0          0               87   \n",
       "374              3         0              0          0                8   \n",
       "434             11         1              0          0               51   \n",
       "\n",
       "     aerials_won  aerials_lost  aerials_won_pct  fbref_id  \n",
       "113            3             1             75.0  3a24769f  \n",
       "264            4            23             14.8  1ecb65be  \n",
       "374            1             3             25.0  9f4647e9  \n",
       "434           17            35             32.7  e97fd090  \n",
       "\n",
       "[4 rows x 163 columns]"
      ]
     },
     "execution_count": 191,
     "metadata": {},
     "output_type": "execute_result"
    }
   ],
   "source": [
    "fbref_all[fbref_all.duplicated('fbref_id')]"
   ]
  },
  {
   "cell_type": "code",
   "execution_count": 192,
   "metadata": {},
   "outputs": [
    {
     "data": {
      "text/html": [
       "<div>\n",
       "<style scoped>\n",
       "    .dataframe tbody tr th:only-of-type {\n",
       "        vertical-align: middle;\n",
       "    }\n",
       "\n",
       "    .dataframe tbody tr th {\n",
       "        vertical-align: top;\n",
       "    }\n",
       "\n",
       "    .dataframe thead th {\n",
       "        text-align: right;\n",
       "    }\n",
       "</style>\n",
       "<table border=\"1\" class=\"dataframe\">\n",
       "  <thead>\n",
       "    <tr style=\"text-align: right;\">\n",
       "      <th></th>\n",
       "      <th>name</th>\n",
       "      <th>profile_url</th>\n",
       "      <th>nationality</th>\n",
       "      <th>position</th>\n",
       "      <th>age</th>\n",
       "      <th>minutes_90s_x</th>\n",
       "      <th>goals</th>\n",
       "      <th>shots_total</th>\n",
       "      <th>shots_on_target</th>\n",
       "      <th>shots_on_target_pct</th>\n",
       "      <th>...</th>\n",
       "      <th>interceptions_y</th>\n",
       "      <th>tackles_won_y</th>\n",
       "      <th>pens_won</th>\n",
       "      <th>pens_conceded</th>\n",
       "      <th>own_goals</th>\n",
       "      <th>ball_recoveries</th>\n",
       "      <th>aerials_won</th>\n",
       "      <th>aerials_lost</th>\n",
       "      <th>aerials_won_pct</th>\n",
       "      <th>fbref_id</th>\n",
       "    </tr>\n",
       "  </thead>\n",
       "  <tbody>\n",
       "    <tr>\n",
       "      <th>37</th>\n",
       "      <td>Ross Barkley</td>\n",
       "      <td>https://fbref.com/en/players/3a24769f/Ross-Bar...</td>\n",
       "      <td>['eng', 'ENG']</td>\n",
       "      <td>MF</td>\n",
       "      <td>27 years and 051 days</td>\n",
       "      <td>6.7</td>\n",
       "      <td>2</td>\n",
       "      <td>22</td>\n",
       "      <td>6</td>\n",
       "      <td>27.3</td>\n",
       "      <td>...</td>\n",
       "      <td>2</td>\n",
       "      <td>0</td>\n",
       "      <td>0</td>\n",
       "      <td>0</td>\n",
       "      <td>0</td>\n",
       "      <td>61</td>\n",
       "      <td>10</td>\n",
       "      <td>4</td>\n",
       "      <td>71.4</td>\n",
       "      <td>3a24769f</td>\n",
       "    </tr>\n",
       "    <tr>\n",
       "      <th>113</th>\n",
       "      <td>Ross Barkley</td>\n",
       "      <td>https://fbref.com/en/players/3a24769f/Ross-Bar...</td>\n",
       "      <td>['eng', 'ENG']</td>\n",
       "      <td>MF</td>\n",
       "      <td>27 years and 051 days</td>\n",
       "      <td>0.5</td>\n",
       "      <td>0</td>\n",
       "      <td>1</td>\n",
       "      <td>1</td>\n",
       "      <td>100.0</td>\n",
       "      <td>...</td>\n",
       "      <td>0</td>\n",
       "      <td>0</td>\n",
       "      <td>0</td>\n",
       "      <td>0</td>\n",
       "      <td>0</td>\n",
       "      <td>8</td>\n",
       "      <td>3</td>\n",
       "      <td>1</td>\n",
       "      <td>75.0</td>\n",
       "      <td>3a24769f</td>\n",
       "    </tr>\n",
       "  </tbody>\n",
       "</table>\n",
       "<p>2 rows × 163 columns</p>\n",
       "</div>"
      ],
      "text/plain": [
       "             name                                        profile_url  \\\n",
       "37   Ross Barkley  https://fbref.com/en/players/3a24769f/Ross-Bar...   \n",
       "113  Ross Barkley  https://fbref.com/en/players/3a24769f/Ross-Bar...   \n",
       "\n",
       "        nationality position                    age  minutes_90s_x  goals  \\\n",
       "37   ['eng', 'ENG']       MF  27 years and 051 days            6.7      2   \n",
       "113  ['eng', 'ENG']       MF  27 years and 051 days            0.5      0   \n",
       "\n",
       "     shots_total  shots_on_target  shots_on_target_pct  ...  interceptions_y  \\\n",
       "37            22                6                 27.3  ...                2   \n",
       "113            1                1                100.0  ...                0   \n",
       "\n",
       "     tackles_won_y  pens_won  pens_conceded  own_goals  ball_recoveries  \\\n",
       "37               0         0              0          0               61   \n",
       "113              0         0              0          0                8   \n",
       "\n",
       "     aerials_won  aerials_lost  aerials_won_pct  fbref_id  \n",
       "37            10             4             71.4  3a24769f  \n",
       "113            3             1             75.0  3a24769f  \n",
       "\n",
       "[2 rows x 163 columns]"
      ]
     },
     "execution_count": 192,
     "metadata": {},
     "output_type": "execute_result"
    }
   ],
   "source": [
    "fbref_all.query('fbref_id == \"3a24769f\"')"
   ]
  },
  {
   "cell_type": "code",
   "execution_count": 199,
   "metadata": {},
   "outputs": [],
   "source": [
    "combined_one_df = pd.merge(fbref_all, full_player_set, on='fbref_id')"
   ]
  },
  {
   "cell_type": "code",
   "execution_count": 200,
   "metadata": {},
   "outputs": [
    {
     "data": {
      "text/plain": [
       "(471, 164)"
      ]
     },
     "execution_count": 200,
     "metadata": {},
     "output_type": "execute_result"
    }
   ],
   "source": [
    "combined_one_df.shape"
   ]
  },
  {
   "cell_type": "code",
   "execution_count": 201,
   "metadata": {},
   "outputs": [],
   "source": [
    "combined_two_df = pd.merge(fpl_player_stats_df, full_player_set, on='player_id')"
   ]
  },
  {
   "cell_type": "code",
   "execution_count": 202,
   "metadata": {},
   "outputs": [
    {
     "data": {
      "text/plain": [
       "(471, 164)"
      ]
     },
     "execution_count": 202,
     "metadata": {},
     "output_type": "execute_result"
    }
   ],
   "source": [
    "combined_one_df.shape"
   ]
  },
  {
   "cell_type": "code",
   "execution_count": 208,
   "metadata": {},
   "outputs": [
    {
     "data": {
      "text/plain": [
       "0      255\n",
       "1      249\n",
       "2      243\n",
       "3      251\n",
       "4      253\n",
       "      ... \n",
       "466     26\n",
       "467      5\n",
       "468     14\n",
       "469     21\n",
       "470      7\n",
       "Name: player_id, Length: 471, dtype: int64"
      ]
     },
     "execution_count": 208,
     "metadata": {},
     "output_type": "execute_result"
    }
   ],
   "source": [
    "combined_one_df.player_id"
   ]
  },
  {
   "cell_type": "code",
   "execution_count": 203,
   "metadata": {},
   "outputs": [
    {
     "data": {
      "text/plain": [
       "(641, 54)"
      ]
     },
     "execution_count": 203,
     "metadata": {},
     "output_type": "execute_result"
    }
   ],
   "source": [
    "combined_two_df.shape"
   ]
  },
  {
   "cell_type": "code",
   "execution_count": 209,
   "metadata": {},
   "outputs": [
    {
     "data": {
      "text/plain": [
       "0        1\n",
       "1        2\n",
       "2        3\n",
       "3        4\n",
       "4        5\n",
       "      ... \n",
       "636    615\n",
       "637    616\n",
       "638    617\n",
       "639    626\n",
       "640    629\n",
       "Name: player_id, Length: 641, dtype: int64"
      ]
     },
     "execution_count": 209,
     "metadata": {},
     "output_type": "execute_result"
    }
   ],
   "source": [
    "combined_two_df.player_id"
   ]
  },
  {
   "cell_type": "code",
   "execution_count": 212,
   "metadata": {},
   "outputs": [],
   "source": [
    "combined_stats = pd.merge(\n",
    "    combined_two_df, \n",
    "    combined_one_df, \n",
    "    how=\"left\", \n",
    "    on=\"player_id\", \n",
    "    suffixes=(\"_fpl\", \"_fbref\"))"
   ]
  },
  {
   "cell_type": "code",
   "execution_count": 214,
   "metadata": {},
   "outputs": [],
   "source": [
    "combined_stats.to_csv(\"../../data/combined_stats.csv\", index=False)"
   ]
  },
  {
   "cell_type": "code",
   "execution_count": null,
   "metadata": {},
   "outputs": [],
   "source": []
  }
 ],
 "metadata": {
  "celltoolbar": "Raw Cell Format",
  "kernelspec": {
   "display_name": "Python 3",
   "language": "python",
   "name": "python3"
  },
  "language_info": {
   "codemirror_mode": {
    "name": "ipython",
    "version": 3
   },
   "file_extension": ".py",
   "mimetype": "text/x-python",
   "name": "python",
   "nbconvert_exporter": "python",
   "pygments_lexer": "ipython3",
   "version": "3.8.6"
  }
 },
 "nbformat": 4,
 "nbformat_minor": 4
}
