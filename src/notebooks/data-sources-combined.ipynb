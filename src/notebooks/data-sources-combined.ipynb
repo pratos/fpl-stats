{
 "cells": [
  {
   "cell_type": "code",
   "execution_count": 8,
   "metadata": {},
   "outputs": [],
   "source": [
    "%reload_ext autoreload\n",
    "import pandas as pd\n",
    "from bs4 import BeautifulSoup\n",
    "import requests\n",
    "import json\n",
    "from pipetools import pipe, utils, where\n",
    "from fastcore.basics import typed\n",
    "import requests\n",
    "from fastcore.foundation import L\n",
    "import pandas as pd\n",
    "from typing import List\n",
    "from pathlib import Path\n",
    "import re\n",
    "from datetime import datetime, date\n",
    "from loguru import logger\n",
    "import os"
   ]
  },
  {
   "cell_type": "code",
   "execution_count": 9,
   "metadata": {},
   "outputs": [],
   "source": [
    "import sys\n",
    "sys.path.append(\"../../\")"
   ]
  },
  {
   "cell_type": "code",
   "execution_count": 10,
   "metadata": {},
   "outputs": [],
   "source": [
    "from src.run import run_fbref\n",
    "from src.fbref.utilities import format_age, get_proxy_format, to_float"
   ]
  },
  {
   "cell_type": "code",
   "execution_count": 81,
   "metadata": {
    "scrolled": true
   },
   "outputs": [],
   "source": [
    "#stats = run_fbref(debug=True)"
   ]
  },
  {
   "cell_type": "code",
   "execution_count": 12,
   "metadata": {},
   "outputs": [],
   "source": [
    "stats_available = [\"shooting_stats\", \"passing_stats\", \"extra_passing_stats\", \"gca_stats\",\n",
    "                   \"defensive_action_stats\", \"possession_stats\", \"playing_time_stats\", \"misc_stats\"]"
   ]
  },
  {
   "cell_type": "code",
   "execution_count": 22,
   "metadata": {},
   "outputs": [],
   "source": [
    "passing_df = pd.DataFrame([player._asdict() for player in stats[0]['passing_stats']])"
   ]
  },
  {
   "cell_type": "code",
   "execution_count": 23,
   "metadata": {},
   "outputs": [
    {
     "data": {
      "text/html": [
       "<div>\n",
       "<style scoped>\n",
       "    .dataframe tbody tr th:only-of-type {\n",
       "        vertical-align: middle;\n",
       "    }\n",
       "\n",
       "    .dataframe tbody tr th {\n",
       "        vertical-align: top;\n",
       "    }\n",
       "\n",
       "    .dataframe thead th {\n",
       "        text-align: right;\n",
       "    }\n",
       "</style>\n",
       "<table border=\"1\" class=\"dataframe\">\n",
       "  <thead>\n",
       "    <tr style=\"text-align: right;\">\n",
       "      <th></th>\n",
       "      <th>name</th>\n",
       "      <th>passes_completed</th>\n",
       "      <th>passes</th>\n",
       "      <th>passes_pct</th>\n",
       "      <th>passes_total_distance</th>\n",
       "      <th>passes_progressive_distance</th>\n",
       "      <th>passes_completed_short</th>\n",
       "      <th>passes_short</th>\n",
       "      <th>passes_pct_short</th>\n",
       "      <th>passes_completed_medium</th>\n",
       "      <th>...</th>\n",
       "      <th>passes_long</th>\n",
       "      <th>passes_pct_long</th>\n",
       "      <th>assists</th>\n",
       "      <th>xa</th>\n",
       "      <th>xa_net</th>\n",
       "      <th>assisted_shots</th>\n",
       "      <th>passes_into_final_third</th>\n",
       "      <th>passes_into_penalty_area</th>\n",
       "      <th>crosses_into_penalty_area</th>\n",
       "      <th>progressive_passes</th>\n",
       "    </tr>\n",
       "  </thead>\n",
       "  <tbody>\n",
       "    <tr>\n",
       "      <th>0</th>\n",
       "      <td>Andrew Robertson</td>\n",
       "      <td>1370</td>\n",
       "      <td>1732</td>\n",
       "      <td>79.1</td>\n",
       "      <td>25772.0</td>\n",
       "      <td>8468.0</td>\n",
       "      <td>570</td>\n",
       "      <td>649</td>\n",
       "      <td>87.8</td>\n",
       "      <td>634</td>\n",
       "      <td>...</td>\n",
       "      <td>294</td>\n",
       "      <td>51.7</td>\n",
       "      <td>5</td>\n",
       "      <td>4.0</td>\n",
       "      <td>+1.0</td>\n",
       "      <td>37</td>\n",
       "      <td>97</td>\n",
       "      <td>41</td>\n",
       "      <td>16</td>\n",
       "      <td>144</td>\n",
       "    </tr>\n",
       "    <tr>\n",
       "      <th>1</th>\n",
       "      <td>Roberto Firmino</td>\n",
       "      <td>507</td>\n",
       "      <td>639</td>\n",
       "      <td>79.3</td>\n",
       "      <td>7594.0</td>\n",
       "      <td>1693.0</td>\n",
       "      <td>295</td>\n",
       "      <td>351</td>\n",
       "      <td>84.0</td>\n",
       "      <td>161</td>\n",
       "      <td>...</td>\n",
       "      <td>42</td>\n",
       "      <td>73.8</td>\n",
       "      <td>3</td>\n",
       "      <td>2.7</td>\n",
       "      <td>+0.3</td>\n",
       "      <td>20</td>\n",
       "      <td>34</td>\n",
       "      <td>15</td>\n",
       "      <td>0</td>\n",
       "      <td>54</td>\n",
       "    </tr>\n",
       "    <tr>\n",
       "      <th>2</th>\n",
       "      <td>Georginio Wijnaldum</td>\n",
       "      <td>846</td>\n",
       "      <td>910</td>\n",
       "      <td>93.0</td>\n",
       "      <td>14690.0</td>\n",
       "      <td>2866.0</td>\n",
       "      <td>412</td>\n",
       "      <td>436</td>\n",
       "      <td>94.5</td>\n",
       "      <td>334</td>\n",
       "      <td>...</td>\n",
       "      <td>91</td>\n",
       "      <td>90.1</td>\n",
       "      <td>0</td>\n",
       "      <td>1.2</td>\n",
       "      <td>-1.2</td>\n",
       "      <td>14</td>\n",
       "      <td>75</td>\n",
       "      <td>16</td>\n",
       "      <td>1</td>\n",
       "      <td>49</td>\n",
       "    </tr>\n",
       "    <tr>\n",
       "      <th>3</th>\n",
       "      <td>Sadio Mané</td>\n",
       "      <td>431</td>\n",
       "      <td>587</td>\n",
       "      <td>73.4</td>\n",
       "      <td>7040.0</td>\n",
       "      <td>1492.0</td>\n",
       "      <td>226</td>\n",
       "      <td>285</td>\n",
       "      <td>79.3</td>\n",
       "      <td>154</td>\n",
       "      <td>...</td>\n",
       "      <td>60</td>\n",
       "      <td>66.7</td>\n",
       "      <td>2</td>\n",
       "      <td>2.7</td>\n",
       "      <td>-0.7</td>\n",
       "      <td>33</td>\n",
       "      <td>17</td>\n",
       "      <td>35</td>\n",
       "      <td>3</td>\n",
       "      <td>57</td>\n",
       "    </tr>\n",
       "    <tr>\n",
       "      <th>4</th>\n",
       "      <td>Fabinho</td>\n",
       "      <td>1184</td>\n",
       "      <td>1285</td>\n",
       "      <td>92.1</td>\n",
       "      <td>25182.0</td>\n",
       "      <td>6436.0</td>\n",
       "      <td>317</td>\n",
       "      <td>336</td>\n",
       "      <td>94.3</td>\n",
       "      <td>669</td>\n",
       "      <td>...</td>\n",
       "      <td>233</td>\n",
       "      <td>81.1</td>\n",
       "      <td>0</td>\n",
       "      <td>0.4</td>\n",
       "      <td>-0.4</td>\n",
       "      <td>3</td>\n",
       "      <td>56</td>\n",
       "      <td>3</td>\n",
       "      <td>1</td>\n",
       "      <td>52</td>\n",
       "    </tr>\n",
       "  </tbody>\n",
       "</table>\n",
       "<p>5 rows × 23 columns</p>\n",
       "</div>"
      ],
      "text/plain": [
       "                  name  passes_completed  passes  passes_pct  \\\n",
       "0     Andrew Robertson              1370    1732        79.1   \n",
       "1      Roberto Firmino               507     639        79.3   \n",
       "2  Georginio Wijnaldum               846     910        93.0   \n",
       "3           Sadio Mané               431     587        73.4   \n",
       "4              Fabinho              1184    1285        92.1   \n",
       "\n",
       "   passes_total_distance  passes_progressive_distance  passes_completed_short  \\\n",
       "0                25772.0                       8468.0                     570   \n",
       "1                 7594.0                       1693.0                     295   \n",
       "2                14690.0                       2866.0                     412   \n",
       "3                 7040.0                       1492.0                     226   \n",
       "4                25182.0                       6436.0                     317   \n",
       "\n",
       "   passes_short  passes_pct_short  passes_completed_medium  ...  passes_long  \\\n",
       "0           649              87.8                      634  ...          294   \n",
       "1           351              84.0                      161  ...           42   \n",
       "2           436              94.5                      334  ...           91   \n",
       "3           285              79.3                      154  ...           60   \n",
       "4           336              94.3                      669  ...          233   \n",
       "\n",
       "   passes_pct_long  assists   xa  xa_net  assisted_shots  \\\n",
       "0             51.7        5  4.0    +1.0              37   \n",
       "1             73.8        3  2.7    +0.3              20   \n",
       "2             90.1        0  1.2    -1.2              14   \n",
       "3             66.7        2  2.7    -0.7              33   \n",
       "4             81.1        0  0.4    -0.4               3   \n",
       "\n",
       "   passes_into_final_third passes_into_penalty_area  \\\n",
       "0                       97                       41   \n",
       "1                       34                       15   \n",
       "2                       75                       16   \n",
       "3                       17                       35   \n",
       "4                       56                        3   \n",
       "\n",
       "   crosses_into_penalty_area  progressive_passes  \n",
       "0                         16                 144  \n",
       "1                          0                  54  \n",
       "2                          1                  49  \n",
       "3                          3                  57  \n",
       "4                          1                  52  \n",
       "\n",
       "[5 rows x 23 columns]"
      ]
     },
     "execution_count": 23,
     "metadata": {},
     "output_type": "execute_result"
    }
   ],
   "source": [
    "passing_df.head()"
   ]
  },
  {
   "cell_type": "code",
   "execution_count": 25,
   "metadata": {},
   "outputs": [
    {
     "data": {
      "text/plain": [
       "598"
      ]
     },
     "execution_count": 25,
     "metadata": {},
     "output_type": "execute_result"
    }
   ],
   "source": [
    "passing_df.size"
   ]
  },
  {
   "cell_type": "code",
   "execution_count": 26,
   "metadata": {
    "scrolled": false
   },
   "outputs": [
    {
     "name": "stdout",
     "output_type": "stream",
     "text": [
      "Formatting for liverpool\n",
      "Formatting for aston_villa\n",
      "Formatting for leeds_united\n",
      "Formatting for crystal_palace\n",
      "Formatting for chelsea\n",
      "Formatting for leicester_city\n",
      "Formatting for wolves\n",
      "Formatting for tottenham_hotspurs\n",
      "Formatting for westham_united\n",
      "Formatting for manchester_city\n",
      "Formatting for everton\n",
      "Formatting for southampton\n",
      "Formatting for newcastle_united\n",
      "Formatting for manchester_united\n",
      "Formatting for brighton\n",
      "Formatting for westbrom\n",
      "Formatting for burnley\n",
      "Formatting for sheffield_united\n",
      "Formatting for fulham\n",
      "Formatting for arsenal\n"
     ]
    }
   ],
   "source": [
    "fbref_all = pd.DataFrame({})\n",
    "for team_stat in stats:\n",
    "    team_lvl = pd.DataFrame({})\n",
    "    print(f\"Formatting for {team_stat['team'].lower()}\")\n",
    "    for stats in stats_available:\n",
    "        if team_lvl.size == 0:\n",
    "            team_lvl = pd.DataFrame(team_stat[stats])\n",
    "        else:\n",
    "            team_lvl = pd.merge(team_lvl, pd.DataFrame(team_stat[stats]), on=['name'])\n",
    "    fbref_all = pd.concat([fbref_all, team_lvl])"
   ]
  },
  {
   "cell_type": "code",
   "execution_count": 27,
   "metadata": {},
   "outputs": [
    {
     "data": {
      "text/plain": [
       "(473, 162)"
      ]
     },
     "execution_count": 27,
     "metadata": {},
     "output_type": "execute_result"
    }
   ],
   "source": [
    "fbref_all.shape"
   ]
  },
  {
   "cell_type": "code",
   "execution_count": 28,
   "metadata": {},
   "outputs": [
    {
     "data": {
      "text/html": [
       "<div>\n",
       "<style scoped>\n",
       "    .dataframe tbody tr th:only-of-type {\n",
       "        vertical-align: middle;\n",
       "    }\n",
       "\n",
       "    .dataframe tbody tr th {\n",
       "        vertical-align: top;\n",
       "    }\n",
       "\n",
       "    .dataframe thead th {\n",
       "        text-align: right;\n",
       "    }\n",
       "</style>\n",
       "<table border=\"1\" class=\"dataframe\">\n",
       "  <thead>\n",
       "    <tr style=\"text-align: right;\">\n",
       "      <th></th>\n",
       "      <th>name</th>\n",
       "      <th>profile_url</th>\n",
       "      <th>nationality</th>\n",
       "      <th>position</th>\n",
       "      <th>age</th>\n",
       "      <th>minutes_90s_x</th>\n",
       "      <th>goals</th>\n",
       "      <th>shots_total</th>\n",
       "      <th>shots_on_target</th>\n",
       "      <th>shots_on_target_pct</th>\n",
       "      <th>...</th>\n",
       "      <th>crosses_y</th>\n",
       "      <th>interceptions_y</th>\n",
       "      <th>tackles_won_y</th>\n",
       "      <th>pens_won</th>\n",
       "      <th>pens_conceded</th>\n",
       "      <th>own_goals</th>\n",
       "      <th>ball_recoveries</th>\n",
       "      <th>aerials_won</th>\n",
       "      <th>aerials_lost</th>\n",
       "      <th>aerials_won_pct</th>\n",
       "    </tr>\n",
       "  </thead>\n",
       "  <tbody>\n",
       "    <tr>\n",
       "      <th>0</th>\n",
       "      <td>Andrew Robertson</td>\n",
       "      <td>https://fbref.com/en/players/2e4f5f03/Andrew-R...</td>\n",
       "      <td>[sco, SCO]</td>\n",
       "      <td>DF</td>\n",
       "      <td>26 years and 320 days</td>\n",
       "      <td>19.0</td>\n",
       "      <td>1</td>\n",
       "      <td>10</td>\n",
       "      <td>3</td>\n",
       "      <td>30.0</td>\n",
       "      <td>...</td>\n",
       "      <td>95</td>\n",
       "      <td>10</td>\n",
       "      <td>10</td>\n",
       "      <td>0</td>\n",
       "      <td>1</td>\n",
       "      <td>0</td>\n",
       "      <td>218</td>\n",
       "      <td>19</td>\n",
       "      <td>17</td>\n",
       "      <td>52.8</td>\n",
       "    </tr>\n",
       "    <tr>\n",
       "      <th>1</th>\n",
       "      <td>Roberto Firmino</td>\n",
       "      <td>https://fbref.com/en/players/4c370d81/Roberto-...</td>\n",
       "      <td>[br, BRA]</td>\n",
       "      <td>FW</td>\n",
       "      <td>29 years and 115 days</td>\n",
       "      <td>16.8</td>\n",
       "      <td>5</td>\n",
       "      <td>46</td>\n",
       "      <td>16</td>\n",
       "      <td>34.8</td>\n",
       "      <td>...</td>\n",
       "      <td>18</td>\n",
       "      <td>5</td>\n",
       "      <td>12</td>\n",
       "      <td>0</td>\n",
       "      <td>0</td>\n",
       "      <td>0</td>\n",
       "      <td>96</td>\n",
       "      <td>15</td>\n",
       "      <td>53</td>\n",
       "      <td>22.1</td>\n",
       "    </tr>\n",
       "    <tr>\n",
       "      <th>2</th>\n",
       "      <td>Georginio Wijnaldum</td>\n",
       "      <td>https://fbref.com/en/players/eb58eef0/Georgini...</td>\n",
       "      <td>[nl, NED]</td>\n",
       "      <td>MF</td>\n",
       "      <td>30 years and 075 days</td>\n",
       "      <td>17.0</td>\n",
       "      <td>1</td>\n",
       "      <td>16</td>\n",
       "      <td>4</td>\n",
       "      <td>25.0</td>\n",
       "      <td>...</td>\n",
       "      <td>2</td>\n",
       "      <td>8</td>\n",
       "      <td>19</td>\n",
       "      <td>0</td>\n",
       "      <td>0</td>\n",
       "      <td>0</td>\n",
       "      <td>153</td>\n",
       "      <td>20</td>\n",
       "      <td>33</td>\n",
       "      <td>37.7</td>\n",
       "    </tr>\n",
       "    <tr>\n",
       "      <th>3</th>\n",
       "      <td>Sadio Mané</td>\n",
       "      <td>https://fbref.com/en/players/c691bfe2/Sadio-Mane</td>\n",
       "      <td>[sn, SEN]</td>\n",
       "      <td>FW</td>\n",
       "      <td>28 years and 290 days</td>\n",
       "      <td>16.8</td>\n",
       "      <td>6</td>\n",
       "      <td>52</td>\n",
       "      <td>20</td>\n",
       "      <td>38.5</td>\n",
       "      <td>...</td>\n",
       "      <td>34</td>\n",
       "      <td>9</td>\n",
       "      <td>20</td>\n",
       "      <td>1</td>\n",
       "      <td>0</td>\n",
       "      <td>0</td>\n",
       "      <td>83</td>\n",
       "      <td>16</td>\n",
       "      <td>43</td>\n",
       "      <td>27.1</td>\n",
       "    </tr>\n",
       "    <tr>\n",
       "      <th>4</th>\n",
       "      <td>Fabinho</td>\n",
       "      <td>https://fbref.com/en/players/7f3b388c/Fabinho</td>\n",
       "      <td>[br, BRA]</td>\n",
       "      <td>DF,MF</td>\n",
       "      <td>27 years and 094 days</td>\n",
       "      <td>16.4</td>\n",
       "      <td>0</td>\n",
       "      <td>4</td>\n",
       "      <td>0</td>\n",
       "      <td>0.0</td>\n",
       "      <td>...</td>\n",
       "      <td>1</td>\n",
       "      <td>23</td>\n",
       "      <td>28</td>\n",
       "      <td>1</td>\n",
       "      <td>1</td>\n",
       "      <td>0</td>\n",
       "      <td>194</td>\n",
       "      <td>39</td>\n",
       "      <td>31</td>\n",
       "      <td>55.7</td>\n",
       "    </tr>\n",
       "  </tbody>\n",
       "</table>\n",
       "<p>5 rows × 162 columns</p>\n",
       "</div>"
      ],
      "text/plain": [
       "                  name                                        profile_url  \\\n",
       "0     Andrew Robertson  https://fbref.com/en/players/2e4f5f03/Andrew-R...   \n",
       "1      Roberto Firmino  https://fbref.com/en/players/4c370d81/Roberto-...   \n",
       "2  Georginio Wijnaldum  https://fbref.com/en/players/eb58eef0/Georgini...   \n",
       "3           Sadio Mané   https://fbref.com/en/players/c691bfe2/Sadio-Mane   \n",
       "4              Fabinho      https://fbref.com/en/players/7f3b388c/Fabinho   \n",
       "\n",
       "  nationality position                    age  minutes_90s_x  goals  \\\n",
       "0  [sco, SCO]       DF  26 years and 320 days           19.0      1   \n",
       "1   [br, BRA]       FW  29 years and 115 days           16.8      5   \n",
       "2   [nl, NED]       MF  30 years and 075 days           17.0      1   \n",
       "3   [sn, SEN]       FW  28 years and 290 days           16.8      6   \n",
       "4   [br, BRA]    DF,MF  27 years and 094 days           16.4      0   \n",
       "\n",
       "   shots_total  shots_on_target  shots_on_target_pct  ...  crosses_y  \\\n",
       "0           10                3                 30.0  ...         95   \n",
       "1           46               16                 34.8  ...         18   \n",
       "2           16                4                 25.0  ...          2   \n",
       "3           52               20                 38.5  ...         34   \n",
       "4            4                0                  0.0  ...          1   \n",
       "\n",
       "   interceptions_y  tackles_won_y  pens_won  pens_conceded  own_goals  \\\n",
       "0               10             10         0              1          0   \n",
       "1                5             12         0              0          0   \n",
       "2                8             19         0              0          0   \n",
       "3                9             20         1              0          0   \n",
       "4               23             28         1              1          0   \n",
       "\n",
       "   ball_recoveries  aerials_won  aerials_lost aerials_won_pct  \n",
       "0              218           19            17            52.8  \n",
       "1               96           15            53            22.1  \n",
       "2              153           20            33            37.7  \n",
       "3               83           16            43            27.1  \n",
       "4              194           39            31            55.7  \n",
       "\n",
       "[5 rows x 162 columns]"
      ]
     },
     "execution_count": 28,
     "metadata": {},
     "output_type": "execute_result"
    }
   ],
   "source": [
    "fbref_all.head()"
   ]
  },
  {
   "cell_type": "code",
   "execution_count": 29,
   "metadata": {},
   "outputs": [],
   "source": [
    "FBREF_DATA = Path(\"../../data/fbref-data\")"
   ]
  },
  {
   "cell_type": "code",
   "execution_count": 30,
   "metadata": {},
   "outputs": [
    {
     "data": {
      "text/plain": [
       "datetime.date(2021, 1, 25)"
      ]
     },
     "execution_count": 30,
     "metadata": {},
     "output_type": "execute_result"
    }
   ],
   "source": [
    "date.today()"
   ]
  },
  {
   "cell_type": "code",
   "execution_count": 31,
   "metadata": {},
   "outputs": [],
   "source": [
    "t_now = re.sub(r'\\D', '', str(date.today()))"
   ]
  },
  {
   "cell_type": "code",
   "execution_count": 32,
   "metadata": {},
   "outputs": [],
   "source": [
    "LIVE_GW = 19"
   ]
  },
  {
   "cell_type": "code",
   "execution_count": 35,
   "metadata": {},
   "outputs": [],
   "source": [
    "FBREF_DATA.mkdir(parents=True, exist_ok=True)\n",
    "fbref_all.to_csv(FBREF_DATA / f\"{t_now}_GW{LIVE_GW}_player_stats.csv\", index=False)"
   ]
  },
  {
   "cell_type": "code",
   "execution_count": null,
   "metadata": {},
   "outputs": [],
   "source": []
  },
  {
   "cell_type": "markdown",
   "metadata": {},
   "source": [
    "## FPL Data"
   ]
  },
  {
   "cell_type": "code",
   "execution_count": 36,
   "metadata": {},
   "outputs": [],
   "source": [
    "fpl_request = requests.get(\"https://fantasy.premierleague.com/api/bootstrap-static/\")"
   ]
  },
  {
   "cell_type": "code",
   "execution_count": 37,
   "metadata": {},
   "outputs": [],
   "source": [
    "all_fpl_data = fpl_request.content"
   ]
  },
  {
   "cell_type": "code",
   "execution_count": 38,
   "metadata": {},
   "outputs": [],
   "source": [
    "all_fpl_data = json.loads(all_fpl_data)"
   ]
  },
  {
   "cell_type": "code",
   "execution_count": 39,
   "metadata": {},
   "outputs": [
    {
     "data": {
      "text/plain": [
       "dict_keys(['events', 'game_settings', 'phases', 'teams', 'total_players', 'elements', 'element_stats', 'element_types'])"
      ]
     },
     "execution_count": 39,
     "metadata": {},
     "output_type": "execute_result"
    }
   ],
   "source": [
    "all_fpl_data.keys()"
   ]
  },
  {
   "cell_type": "code",
   "execution_count": 40,
   "metadata": {},
   "outputs": [
    {
     "data": {
      "text/plain": [
       "7885616"
      ]
     },
     "execution_count": 40,
     "metadata": {},
     "output_type": "execute_result"
    }
   ],
   "source": [
    "all_fpl_data[\"total_players\"]"
   ]
  },
  {
   "cell_type": "code",
   "execution_count": 41,
   "metadata": {},
   "outputs": [],
   "source": [
    "fpl_players = L(all_fpl_data[\"elements\"])"
   ]
  },
  {
   "cell_type": "code",
   "execution_count": 42,
   "metadata": {},
   "outputs": [],
   "source": [
    "fpl_teams = L(all_fpl_data[\"teams\"])"
   ]
  },
  {
   "cell_type": "code",
   "execution_count": 43,
   "metadata": {},
   "outputs": [
    {
     "data": {
      "text/plain": [
       "{'code': 3,\n",
       " 'draw': 0,\n",
       " 'form': None,\n",
       " 'id': 1,\n",
       " 'loss': 0,\n",
       " 'name': 'Arsenal',\n",
       " 'played': 0,\n",
       " 'points': 0,\n",
       " 'position': 0,\n",
       " 'short_name': 'ARS',\n",
       " 'strength': 4,\n",
       " 'team_division': None,\n",
       " 'unavailable': False,\n",
       " 'win': 0,\n",
       " 'strength_overall_home': 1190,\n",
       " 'strength_overall_away': 1210,\n",
       " 'strength_attack_home': 1170,\n",
       " 'strength_attack_away': 1210,\n",
       " 'strength_defence_home': 1190,\n",
       " 'strength_defence_away': 1200,\n",
       " 'pulse_id': 1}"
      ]
     },
     "execution_count": 43,
     "metadata": {},
     "output_type": "execute_result"
    }
   ],
   "source": [
    "fpl_teams[0]"
   ]
  },
  {
   "cell_type": "code",
   "execution_count": 44,
   "metadata": {},
   "outputs": [],
   "source": [
    "@typed\n",
    "def extract_team_details(team: dict) -> dict:\n",
    "    return {str(team[\"code\"]): {\"name\": team[\"name\"].lower().replace(\" \", \"_\"), \"slug\": team[\"short_name\"]}}"
   ]
  },
  {
   "cell_type": "code",
   "execution_count": 45,
   "metadata": {},
   "outputs": [
    {
     "data": {
      "text/plain": [
       "[None,\n",
       " None,\n",
       " None,\n",
       " None,\n",
       " None,\n",
       " None,\n",
       " None,\n",
       " None,\n",
       " None,\n",
       " None,\n",
       " None,\n",
       " None,\n",
       " None,\n",
       " None,\n",
       " None,\n",
       " None,\n",
       " None,\n",
       " None,\n",
       " None,\n",
       " None]"
      ]
     },
     "execution_count": 45,
     "metadata": {},
     "output_type": "execute_result"
    }
   ],
   "source": [
    "fpl_team_mapper = {}\n",
    "[fpl_team_mapper.update(extract_team_details(team)) for team in fpl_teams]"
   ]
  },
  {
   "cell_type": "code",
   "execution_count": 46,
   "metadata": {},
   "outputs": [
    {
     "data": {
      "text/plain": [
       "{'3': {'name': 'arsenal', 'slug': 'ARS'},\n",
       " '7': {'name': 'aston_villa', 'slug': 'AVL'},\n",
       " '36': {'name': 'brighton', 'slug': 'BHA'},\n",
       " '90': {'name': 'burnley', 'slug': 'BUR'},\n",
       " '8': {'name': 'chelsea', 'slug': 'CHE'},\n",
       " '31': {'name': 'crystal_palace', 'slug': 'CRY'},\n",
       " '11': {'name': 'everton', 'slug': 'EVE'},\n",
       " '54': {'name': 'fulham', 'slug': 'FUL'},\n",
       " '13': {'name': 'leicester', 'slug': 'LEI'},\n",
       " '2': {'name': 'leeds', 'slug': 'LEE'},\n",
       " '14': {'name': 'liverpool', 'slug': 'LIV'},\n",
       " '43': {'name': 'man_city', 'slug': 'MCI'},\n",
       " '1': {'name': 'man_utd', 'slug': 'MUN'},\n",
       " '4': {'name': 'newcastle', 'slug': 'NEW'},\n",
       " '49': {'name': 'sheffield_utd', 'slug': 'SHU'},\n",
       " '20': {'name': 'southampton', 'slug': 'SOU'},\n",
       " '6': {'name': 'spurs', 'slug': 'TOT'},\n",
       " '35': {'name': 'west_brom', 'slug': 'WBA'},\n",
       " '21': {'name': 'west_ham', 'slug': 'WHU'},\n",
       " '39': {'name': 'wolves', 'slug': 'WOL'}}"
      ]
     },
     "execution_count": 46,
     "metadata": {},
     "output_type": "execute_result"
    }
   ],
   "source": [
    "fpl_team_mapper"
   ]
  },
  {
   "cell_type": "code",
   "execution_count": 69,
   "metadata": {},
   "outputs": [
    {
     "data": {
      "text/plain": [
       "{'id': 38,\n",
       " 'name': 'Gameweek 38',\n",
       " 'deadline_time': '2021-05-23T13:30:00Z',\n",
       " 'average_entry_score': 0,\n",
       " 'finished': False,\n",
       " 'data_checked': False,\n",
       " 'highest_scoring_entry': None,\n",
       " 'deadline_time_epoch': 1621776600,\n",
       " 'deadline_time_game_offset': 0,\n",
       " 'highest_score': None,\n",
       " 'is_previous': False,\n",
       " 'is_current': False,\n",
       " 'is_next': False,\n",
       " 'chip_plays': [],\n",
       " 'most_selected': None,\n",
       " 'most_transferred_in': None,\n",
       " 'top_element': None,\n",
       " 'top_element_info': None,\n",
       " 'transfers_made': 0,\n",
       " 'most_captained': None,\n",
       " 'most_vice_captained': None}"
      ]
     },
     "execution_count": 69,
     "metadata": {},
     "output_type": "execute_result"
    }
   ],
   "source": [
    "all_fpl_data[\"events\"][-1]"
   ]
  },
  {
   "cell_type": "code",
   "execution_count": null,
   "metadata": {},
   "outputs": [],
   "source": []
  },
  {
   "cell_type": "code",
   "execution_count": 73,
   "metadata": {},
   "outputs": [],
   "source": [
    "gw_list = L([{\"gw\": event[\"name\"], \"finished\": event[\"finished\"]} for event in all_fpl_data[\"events\"]])"
   ]
  },
  {
   "cell_type": "code",
   "execution_count": 80,
   "metadata": {},
   "outputs": [
    {
     "data": {
      "text/plain": [
       "'20'"
      ]
     },
     "execution_count": 80,
     "metadata": {},
     "output_type": "execute_result"
    }
   ],
   "source": [
    "gw_list.filter(lambda x: not x[\"finished\"])[0][\"gw\"].split(\" \")[1]"
   ]
  },
  {
   "cell_type": "code",
   "execution_count": null,
   "metadata": {},
   "outputs": [],
   "source": []
  },
  {
   "cell_type": "code",
   "execution_count": 47,
   "metadata": {},
   "outputs": [
    {
     "data": {
      "text/plain": [
       "{'id': 1,\n",
       " 'name': 'Gameweek 1',\n",
       " 'deadline_time': '2020-09-12T10:00:00Z',\n",
       " 'average_entry_score': 50,\n",
       " 'finished': True,\n",
       " 'data_checked': True,\n",
       " 'highest_scoring_entry': 4761681,\n",
       " 'deadline_time_epoch': 1599904800,\n",
       " 'deadline_time_game_offset': 0,\n",
       " 'highest_score': 142,\n",
       " 'is_previous': False,\n",
       " 'is_current': False,\n",
       " 'is_next': False,\n",
       " 'chip_plays': [{'chip_name': 'bboost', 'num_played': 112843},\n",
       "  {'chip_name': '3xc', 'num_played': 225426}],\n",
       " 'most_selected': 259,\n",
       " 'most_transferred_in': 12,\n",
       " 'top_element': 254,\n",
       " 'top_element_info': {'id': 254, 'points': 20},\n",
       " 'transfers_made': 0,\n",
       " 'most_captained': 4,\n",
       " 'most_vice_captained': 4}"
      ]
     },
     "execution_count": 47,
     "metadata": {},
     "output_type": "execute_result"
    }
   ],
   "source": [
    "all_fpl_data[\"events\"][0]"
   ]
  },
  {
   "cell_type": "code",
   "execution_count": 48,
   "metadata": {},
   "outputs": [
    {
     "data": {
      "text/plain": [
       "{'id': 4, 'name': 'November', 'start_event': 8, 'stop_event': 10}"
      ]
     },
     "execution_count": 48,
     "metadata": {},
     "output_type": "execute_result"
    }
   ],
   "source": [
    "all_fpl_data[\"phases\"][3]"
   ]
  },
  {
   "cell_type": "code",
   "execution_count": 49,
   "metadata": {},
   "outputs": [
    {
     "data": {
      "text/plain": [
       "[None, None, None, None]"
      ]
     },
     "execution_count": 49,
     "metadata": {},
     "output_type": "execute_result"
    }
   ],
   "source": [
    "category_types = {}\n",
    "[category_types.update({str(player_cat[\"id\"]): player_cat[\"singular_name_short\"]}) for player_cat in all_fpl_data[\"element_types\"]]"
   ]
  },
  {
   "cell_type": "code",
   "execution_count": 50,
   "metadata": {},
   "outputs": [
    {
     "data": {
      "text/plain": [
       "{'1': 'GKP', '2': 'DEF', '3': 'MID', '4': 'FWD'}"
      ]
     },
     "execution_count": 50,
     "metadata": {},
     "output_type": "execute_result"
    }
   ],
   "source": [
    "category_types"
   ]
  },
  {
   "cell_type": "code",
   "execution_count": 51,
   "metadata": {},
   "outputs": [
    {
     "data": {
      "text/plain": [
       "[{'label': 'Minutes played', 'name': 'minutes'},\n",
       " {'label': 'Goals scored', 'name': 'goals_scored'},\n",
       " {'label': 'Assists', 'name': 'assists'},\n",
       " {'label': 'Clean sheets', 'name': 'clean_sheets'},\n",
       " {'label': 'Goals conceded', 'name': 'goals_conceded'},\n",
       " {'label': 'Own goals', 'name': 'own_goals'},\n",
       " {'label': 'Penalties saved', 'name': 'penalties_saved'},\n",
       " {'label': 'Penalties missed', 'name': 'penalties_missed'},\n",
       " {'label': 'Yellow cards', 'name': 'yellow_cards'},\n",
       " {'label': 'Red cards', 'name': 'red_cards'},\n",
       " {'label': 'Saves', 'name': 'saves'},\n",
       " {'label': 'Bonus', 'name': 'bonus'},\n",
       " {'label': 'Bonus Points System', 'name': 'bps'},\n",
       " {'label': 'Influence', 'name': 'influence'},\n",
       " {'label': 'Creativity', 'name': 'creativity'},\n",
       " {'label': 'Threat', 'name': 'threat'},\n",
       " {'label': 'ICT Index', 'name': 'ict_index'}]"
      ]
     },
     "execution_count": 51,
     "metadata": {},
     "output_type": "execute_result"
    }
   ],
   "source": [
    "all_fpl_data[\"element_stats\"]"
   ]
  },
  {
   "cell_type": "code",
   "execution_count": 52,
   "metadata": {},
   "outputs": [],
   "source": [
    "@typed\n",
    "def extract_player_fpl_stats(player: dict) -> dict:\n",
    "    return {\n",
    "        \"player_id\": player[\"id\"],\n",
    "        \"name\": f\"{player['first_name']} {player['second_name']}\",\n",
    "        \"display_slug\": player[\"web_name\"],\n",
    "        \"team_id\": player[\"team\"],\n",
    "        \"team\": fpl_team_mapper.get(str(player[\"team_code\"])).get(\"name\"),\n",
    "        \"team_slug\": fpl_team_mapper.get(str(player[\"team_code\"])).get(\"slug\"),\n",
    "        \"position\": category_types.get(str(player[\"element_type\"])),\n",
    "        \"points_per_game\": to_float(player[\"points_per_game\"]),\n",
    "        \"form\": to_float(player[\"form\"]),\n",
    "        \"news\": player[\"news\"],\n",
    "        \"news_added_at\": player[\"news_added\"],\n",
    "        \"status\": player[\"status\"],\n",
    "        \"total_points\": player[\"total_points\"],\n",
    "        \"value_form\": to_float(player[\"value_form\"]),\n",
    "        \"value_season\": to_float(player[\"value_season\"]),\n",
    "        \"selected_by_percent\": to_float(player[\"selected_by_percent\"]),\n",
    "        \"points_per_game\": to_float(player[\"points_per_game\"]),\n",
    "        \"influence_rank_overall\": player[\"influence_rank\"],\n",
    "        \"creativity_rank_overall\": player[\"creativity_rank\"],\n",
    "        \"threat_rank_overall\": player[\"threat_rank\"],\n",
    "        \"influence_rank_by_position\": player[\"influence_rank_type\"],\n",
    "        \"creativity_rank_by_position\": player[\"creativity_rank_type\"],\n",
    "        \"threat_rank_by_position:\": player[\"threat_rank_type\"],\n",
    "        \"ict_index\": player[\"ict_index_rank\"],\n",
    "        \"ict_index_by_position\": player[\"ict_index_rank_type\"],\n",
    "        \"dreamteam_count\": player[\"dreamteam_count\"],\n",
    "        \"transfers_in\": player[\"transfers_in\"],\n",
    "        \"transfers_out\": player[\"transfers_out\"],\n",
    "        \"chance_of_playing_next_round\": player[\"chance_of_playing_next_round\"],\n",
    "        \"chance_of_playing_this_round\": player[\"chance_of_playing_this_round\"],\n",
    "        \"cost_change_event\": player[\"cost_change_event\"],\n",
    "        \"cost_change_event_fall\": player[\"cost_change_event_fall\"],\n",
    "        \"cost_change_start\": player[\"cost_change_start\"],\n",
    "        \"cost_change_start_fall\": player[\"cost_change_start_fall\"],\n",
    "        \"ep_next\": player[\"ep_next\"],\n",
    "        \"ep_this\": player[\"ep_this\"],\n",
    "        \"now_cost\": player[\"now_cost\"],\n",
    "        \"transfers_in\": player[\"transfers_in\"],\n",
    "        \"transfers_out\": player[\"transfers_out\"],\n",
    "        \"transfers_in_event\": player[\"transfers_in_event\"],\n",
    "        \"transfers_out_event\": player[\"transfers_out_event\"],\n",
    "        \"goals_scored\": player[\"goals_scored\"],\n",
    "        \"assists\": player[\"assists\"],\n",
    "        \"clean_sheets\": player[\"clean_sheets\"],\n",
    "        \"goals_conceded\": player[\"goals_conceded\"],\n",
    "        \"penalties_saved\": player[\"penalties_saved\"],\n",
    "        \"penalties_missed\": player[\"penalties_missed\"],\n",
    "        \"saves\": player[\"saves\"],\n",
    "        \"bonus\": player[\"bonus\"],\n",
    "        \"bps\": player[\"bps\"],\n",
    "        \"corners_and_indirect_freekicks_order\": player[\"corners_and_indirect_freekicks_order\"],\n",
    "        \"corners_and_indirect_freekicks_text\": player[\"corners_and_indirect_freekicks_text\"],\n",
    "        \"direct_freekicks_order\": player[\"direct_freekicks_order\"],\n",
    "        \"direct_freekicks_text\": player[\"direct_freekicks_text\"],\n",
    "        \"penalties_order\": player[\"penalties_order\"],\n",
    "        \"penalties_text\": player[\"penalties_text\"],\n",
    "    }"
   ]
  },
  {
   "cell_type": "code",
   "execution_count": 53,
   "metadata": {
    "scrolled": true
   },
   "outputs": [
    {
     "name": "stdout",
     "output_type": "stream",
     "text": [
      "CPU times: user 44 ms, sys: 40 µs, total: 44.1 ms\n",
      "Wall time: 41.7 ms\n"
     ]
    }
   ],
   "source": [
    "%time fpl_player_stats = L([extract_player_fpl_stats(player) for player in fpl_players])"
   ]
  },
  {
   "cell_type": "code",
   "execution_count": 54,
   "metadata": {},
   "outputs": [],
   "source": [
    "fpl_player_stats_df = pd.DataFrame.from_dict(fpl_player_stats)"
   ]
  },
  {
   "cell_type": "code",
   "execution_count": 55,
   "metadata": {},
   "outputs": [],
   "source": [
    "FPL_DATA = Path(\"../../data/fpl-data\")"
   ]
  },
  {
   "cell_type": "code",
   "execution_count": 56,
   "metadata": {},
   "outputs": [
    {
     "data": {
      "text/plain": [
       "datetime.date(2021, 1, 25)"
      ]
     },
     "execution_count": 56,
     "metadata": {},
     "output_type": "execute_result"
    }
   ],
   "source": [
    "date.today()"
   ]
  },
  {
   "cell_type": "code",
   "execution_count": 57,
   "metadata": {},
   "outputs": [],
   "source": [
    "t_now = re.sub(r'\\D', '', str(date.today()))"
   ]
  },
  {
   "cell_type": "markdown",
   "metadata": {},
   "source": [
    "#### Check gameweek aggregated stats"
   ]
  },
  {
   "cell_type": "code",
   "execution_count": 58,
   "metadata": {},
   "outputs": [
    {
     "data": {
      "text/plain": [
       "{'id': 2,\n",
       " 'name': 'Gameweek 2',\n",
       " 'deadline_time': '2020-09-19T10:00:00Z',\n",
       " 'average_entry_score': 59,\n",
       " 'finished': True,\n",
       " 'data_checked': True,\n",
       " 'highest_scoring_entry': 6234344,\n",
       " 'deadline_time_epoch': 1600509600,\n",
       " 'deadline_time_game_offset': 0,\n",
       " 'highest_score': 165,\n",
       " 'is_previous': False,\n",
       " 'is_current': False,\n",
       " 'is_next': False,\n",
       " 'chip_plays': [{'chip_name': 'bboost', 'num_played': 94615},\n",
       "  {'chip_name': 'freehit', 'num_played': 111968},\n",
       "  {'chip_name': 'wildcard', 'num_played': 494000},\n",
       "  {'chip_name': '3xc', 'num_played': 221133}],\n",
       " 'most_selected': 259,\n",
       " 'most_transferred_in': 302,\n",
       " 'top_element': 390,\n",
       " 'top_element_info': {'id': 390, 'points': 24},\n",
       " 'transfers_made': 14637421,\n",
       " 'most_captained': 4,\n",
       " 'most_vice_captained': 254}"
      ]
     },
     "execution_count": 58,
     "metadata": {},
     "output_type": "execute_result"
    }
   ],
   "source": [
    "all_fpl_data[\"events\"][1]"
   ]
  },
  {
   "cell_type": "code",
   "execution_count": 59,
   "metadata": {},
   "outputs": [],
   "source": [
    "live_gameweek = 19"
   ]
  },
  {
   "cell_type": "code",
   "execution_count": 60,
   "metadata": {},
   "outputs": [],
   "source": [
    "FPL_DATA.mkdir(parents=True, exist_ok=True)\n",
    "fpl_player_stats_df.to_csv(FPL_DATA / f\"{t_now}_GW{live_gameweek}_player_stats.csv\", index=False)"
   ]
  },
  {
   "cell_type": "markdown",
   "metadata": {},
   "source": [
    "### Merge fbref and fpl data"
   ]
  },
  {
   "cell_type": "code",
   "execution_count": null,
   "metadata": {},
   "outputs": [],
   "source": [
    "fpl_player_stats_df.head()"
   ]
  },
  {
   "cell_type": "code",
   "execution_count": null,
   "metadata": {},
   "outputs": [],
   "source": [
    "fpl_player_stats_df.groupby([\"team_slug\", \"position\"])[\"player_id\"].count().reset_index().rename(\n",
    "    columns={'player_id': 'count'})"
   ]
  },
  {
   "cell_type": "code",
   "execution_count": 61,
   "metadata": {},
   "outputs": [
    {
     "data": {
      "text/html": [
       "<div>\n",
       "<style scoped>\n",
       "    .dataframe tbody tr th:only-of-type {\n",
       "        vertical-align: middle;\n",
       "    }\n",
       "\n",
       "    .dataframe tbody tr th {\n",
       "        vertical-align: top;\n",
       "    }\n",
       "\n",
       "    .dataframe thead th {\n",
       "        text-align: right;\n",
       "    }\n",
       "</style>\n",
       "<table border=\"1\" class=\"dataframe\">\n",
       "  <thead>\n",
       "    <tr style=\"text-align: right;\">\n",
       "      <th></th>\n",
       "      <th>name</th>\n",
       "      <th>profile_url</th>\n",
       "      <th>nationality</th>\n",
       "      <th>position</th>\n",
       "      <th>age</th>\n",
       "      <th>minutes_90s_x</th>\n",
       "      <th>goals</th>\n",
       "      <th>shots_total</th>\n",
       "      <th>shots_on_target</th>\n",
       "      <th>shots_on_target_pct</th>\n",
       "      <th>...</th>\n",
       "      <th>crosses_y</th>\n",
       "      <th>interceptions_y</th>\n",
       "      <th>tackles_won_y</th>\n",
       "      <th>pens_won</th>\n",
       "      <th>pens_conceded</th>\n",
       "      <th>own_goals</th>\n",
       "      <th>ball_recoveries</th>\n",
       "      <th>aerials_won</th>\n",
       "      <th>aerials_lost</th>\n",
       "      <th>aerials_won_pct</th>\n",
       "    </tr>\n",
       "  </thead>\n",
       "  <tbody>\n",
       "    <tr>\n",
       "      <th>0</th>\n",
       "      <td>Andrew Robertson</td>\n",
       "      <td>https://fbref.com/en/players/2e4f5f03/Andrew-R...</td>\n",
       "      <td>[sco, SCO]</td>\n",
       "      <td>DF</td>\n",
       "      <td>26 years and 320 days</td>\n",
       "      <td>19.0</td>\n",
       "      <td>1</td>\n",
       "      <td>10</td>\n",
       "      <td>3</td>\n",
       "      <td>30.0</td>\n",
       "      <td>...</td>\n",
       "      <td>95</td>\n",
       "      <td>10</td>\n",
       "      <td>10</td>\n",
       "      <td>0</td>\n",
       "      <td>1</td>\n",
       "      <td>0</td>\n",
       "      <td>218</td>\n",
       "      <td>19</td>\n",
       "      <td>17</td>\n",
       "      <td>52.8</td>\n",
       "    </tr>\n",
       "    <tr>\n",
       "      <th>1</th>\n",
       "      <td>Roberto Firmino</td>\n",
       "      <td>https://fbref.com/en/players/4c370d81/Roberto-...</td>\n",
       "      <td>[br, BRA]</td>\n",
       "      <td>FW</td>\n",
       "      <td>29 years and 115 days</td>\n",
       "      <td>16.8</td>\n",
       "      <td>5</td>\n",
       "      <td>46</td>\n",
       "      <td>16</td>\n",
       "      <td>34.8</td>\n",
       "      <td>...</td>\n",
       "      <td>18</td>\n",
       "      <td>5</td>\n",
       "      <td>12</td>\n",
       "      <td>0</td>\n",
       "      <td>0</td>\n",
       "      <td>0</td>\n",
       "      <td>96</td>\n",
       "      <td>15</td>\n",
       "      <td>53</td>\n",
       "      <td>22.1</td>\n",
       "    </tr>\n",
       "    <tr>\n",
       "      <th>2</th>\n",
       "      <td>Georginio Wijnaldum</td>\n",
       "      <td>https://fbref.com/en/players/eb58eef0/Georgini...</td>\n",
       "      <td>[nl, NED]</td>\n",
       "      <td>MF</td>\n",
       "      <td>30 years and 075 days</td>\n",
       "      <td>17.0</td>\n",
       "      <td>1</td>\n",
       "      <td>16</td>\n",
       "      <td>4</td>\n",
       "      <td>25.0</td>\n",
       "      <td>...</td>\n",
       "      <td>2</td>\n",
       "      <td>8</td>\n",
       "      <td>19</td>\n",
       "      <td>0</td>\n",
       "      <td>0</td>\n",
       "      <td>0</td>\n",
       "      <td>153</td>\n",
       "      <td>20</td>\n",
       "      <td>33</td>\n",
       "      <td>37.7</td>\n",
       "    </tr>\n",
       "    <tr>\n",
       "      <th>3</th>\n",
       "      <td>Sadio Mané</td>\n",
       "      <td>https://fbref.com/en/players/c691bfe2/Sadio-Mane</td>\n",
       "      <td>[sn, SEN]</td>\n",
       "      <td>FW</td>\n",
       "      <td>28 years and 290 days</td>\n",
       "      <td>16.8</td>\n",
       "      <td>6</td>\n",
       "      <td>52</td>\n",
       "      <td>20</td>\n",
       "      <td>38.5</td>\n",
       "      <td>...</td>\n",
       "      <td>34</td>\n",
       "      <td>9</td>\n",
       "      <td>20</td>\n",
       "      <td>1</td>\n",
       "      <td>0</td>\n",
       "      <td>0</td>\n",
       "      <td>83</td>\n",
       "      <td>16</td>\n",
       "      <td>43</td>\n",
       "      <td>27.1</td>\n",
       "    </tr>\n",
       "    <tr>\n",
       "      <th>4</th>\n",
       "      <td>Fabinho</td>\n",
       "      <td>https://fbref.com/en/players/7f3b388c/Fabinho</td>\n",
       "      <td>[br, BRA]</td>\n",
       "      <td>DF,MF</td>\n",
       "      <td>27 years and 094 days</td>\n",
       "      <td>16.4</td>\n",
       "      <td>0</td>\n",
       "      <td>4</td>\n",
       "      <td>0</td>\n",
       "      <td>0.0</td>\n",
       "      <td>...</td>\n",
       "      <td>1</td>\n",
       "      <td>23</td>\n",
       "      <td>28</td>\n",
       "      <td>1</td>\n",
       "      <td>1</td>\n",
       "      <td>0</td>\n",
       "      <td>194</td>\n",
       "      <td>39</td>\n",
       "      <td>31</td>\n",
       "      <td>55.7</td>\n",
       "    </tr>\n",
       "  </tbody>\n",
       "</table>\n",
       "<p>5 rows × 162 columns</p>\n",
       "</div>"
      ],
      "text/plain": [
       "                  name                                        profile_url  \\\n",
       "0     Andrew Robertson  https://fbref.com/en/players/2e4f5f03/Andrew-R...   \n",
       "1      Roberto Firmino  https://fbref.com/en/players/4c370d81/Roberto-...   \n",
       "2  Georginio Wijnaldum  https://fbref.com/en/players/eb58eef0/Georgini...   \n",
       "3           Sadio Mané   https://fbref.com/en/players/c691bfe2/Sadio-Mane   \n",
       "4              Fabinho      https://fbref.com/en/players/7f3b388c/Fabinho   \n",
       "\n",
       "  nationality position                    age  minutes_90s_x  goals  \\\n",
       "0  [sco, SCO]       DF  26 years and 320 days           19.0      1   \n",
       "1   [br, BRA]       FW  29 years and 115 days           16.8      5   \n",
       "2   [nl, NED]       MF  30 years and 075 days           17.0      1   \n",
       "3   [sn, SEN]       FW  28 years and 290 days           16.8      6   \n",
       "4   [br, BRA]    DF,MF  27 years and 094 days           16.4      0   \n",
       "\n",
       "   shots_total  shots_on_target  shots_on_target_pct  ...  crosses_y  \\\n",
       "0           10                3                 30.0  ...         95   \n",
       "1           46               16                 34.8  ...         18   \n",
       "2           16                4                 25.0  ...          2   \n",
       "3           52               20                 38.5  ...         34   \n",
       "4            4                0                  0.0  ...          1   \n",
       "\n",
       "   interceptions_y  tackles_won_y  pens_won  pens_conceded  own_goals  \\\n",
       "0               10             10         0              1          0   \n",
       "1                5             12         0              0          0   \n",
       "2                8             19         0              0          0   \n",
       "3                9             20         1              0          0   \n",
       "4               23             28         1              1          0   \n",
       "\n",
       "   ball_recoveries  aerials_won  aerials_lost aerials_won_pct  \n",
       "0              218           19            17            52.8  \n",
       "1               96           15            53            22.1  \n",
       "2              153           20            33            37.7  \n",
       "3               83           16            43            27.1  \n",
       "4              194           39            31            55.7  \n",
       "\n",
       "[5 rows x 162 columns]"
      ]
     },
     "execution_count": 61,
     "metadata": {},
     "output_type": "execute_result"
    }
   ],
   "source": [
    "fbref_all.head()"
   ]
  },
  {
   "cell_type": "code",
   "execution_count": 63,
   "metadata": {},
   "outputs": [
    {
     "data": {
      "text/html": [
       "<div>\n",
       "<style scoped>\n",
       "    .dataframe tbody tr th:only-of-type {\n",
       "        vertical-align: middle;\n",
       "    }\n",
       "\n",
       "    .dataframe tbody tr th {\n",
       "        vertical-align: top;\n",
       "    }\n",
       "\n",
       "    .dataframe thead th {\n",
       "        text-align: right;\n",
       "    }\n",
       "</style>\n",
       "<table border=\"1\" class=\"dataframe\">\n",
       "  <thead>\n",
       "    <tr style=\"text-align: right;\">\n",
       "      <th></th>\n",
       "      <th>player_id</th>\n",
       "      <th>name</th>\n",
       "      <th>display_slug</th>\n",
       "      <th>team_id</th>\n",
       "      <th>team</th>\n",
       "      <th>team_slug</th>\n",
       "      <th>position</th>\n",
       "      <th>points_per_game</th>\n",
       "      <th>form</th>\n",
       "      <th>news</th>\n",
       "      <th>...</th>\n",
       "      <th>penalties_missed</th>\n",
       "      <th>saves</th>\n",
       "      <th>bonus</th>\n",
       "      <th>bps</th>\n",
       "      <th>corners_and_indirect_freekicks_order</th>\n",
       "      <th>corners_and_indirect_freekicks_text</th>\n",
       "      <th>direct_freekicks_order</th>\n",
       "      <th>direct_freekicks_text</th>\n",
       "      <th>penalties_order</th>\n",
       "      <th>penalties_text</th>\n",
       "    </tr>\n",
       "  </thead>\n",
       "  <tbody>\n",
       "    <tr>\n",
       "      <th>0</th>\n",
       "      <td>1</td>\n",
       "      <td>Mesut Özil</td>\n",
       "      <td>Özil</td>\n",
       "      <td>1</td>\n",
       "      <td>arsenal</td>\n",
       "      <td>ARS</td>\n",
       "      <td>MID</td>\n",
       "      <td>0.0</td>\n",
       "      <td>0.0</td>\n",
       "      <td>Not included in Arsenal's 25-man Premier Leagu...</td>\n",
       "      <td>...</td>\n",
       "      <td>0</td>\n",
       "      <td>0</td>\n",
       "      <td>0</td>\n",
       "      <td>0</td>\n",
       "      <td>NaN</td>\n",
       "      <td></td>\n",
       "      <td>NaN</td>\n",
       "      <td></td>\n",
       "      <td>NaN</td>\n",
       "      <td></td>\n",
       "    </tr>\n",
       "    <tr>\n",
       "      <th>1</th>\n",
       "      <td>2</td>\n",
       "      <td>Sokratis Papastathopoulos</td>\n",
       "      <td>Sokratis</td>\n",
       "      <td>1</td>\n",
       "      <td>arsenal</td>\n",
       "      <td>ARS</td>\n",
       "      <td>DEF</td>\n",
       "      <td>0.0</td>\n",
       "      <td>0.0</td>\n",
       "      <td>Left the club by mutual consent on 20/1</td>\n",
       "      <td>...</td>\n",
       "      <td>0</td>\n",
       "      <td>0</td>\n",
       "      <td>0</td>\n",
       "      <td>0</td>\n",
       "      <td>NaN</td>\n",
       "      <td></td>\n",
       "      <td>NaN</td>\n",
       "      <td></td>\n",
       "      <td>NaN</td>\n",
       "      <td></td>\n",
       "    </tr>\n",
       "    <tr>\n",
       "      <th>2</th>\n",
       "      <td>3</td>\n",
       "      <td>David Luiz Moreira Marinho</td>\n",
       "      <td>David Luiz</td>\n",
       "      <td>1</td>\n",
       "      <td>arsenal</td>\n",
       "      <td>ARS</td>\n",
       "      <td>DEF</td>\n",
       "      <td>2.0</td>\n",
       "      <td>2.2</td>\n",
       "      <td></td>\n",
       "      <td>...</td>\n",
       "      <td>0</td>\n",
       "      <td>0</td>\n",
       "      <td>0</td>\n",
       "      <td>108</td>\n",
       "      <td>NaN</td>\n",
       "      <td></td>\n",
       "      <td>4.0</td>\n",
       "      <td></td>\n",
       "      <td>NaN</td>\n",
       "      <td></td>\n",
       "    </tr>\n",
       "    <tr>\n",
       "      <th>3</th>\n",
       "      <td>4</td>\n",
       "      <td>Pierre-Emerick Aubameyang</td>\n",
       "      <td>Aubameyang</td>\n",
       "      <td>1</td>\n",
       "      <td>arsenal</td>\n",
       "      <td>ARS</td>\n",
       "      <td>MID</td>\n",
       "      <td>4.2</td>\n",
       "      <td>4.8</td>\n",
       "      <td>Personal Reasons - 75% chance of playing</td>\n",
       "      <td>...</td>\n",
       "      <td>0</td>\n",
       "      <td>0</td>\n",
       "      <td>6</td>\n",
       "      <td>202</td>\n",
       "      <td>NaN</td>\n",
       "      <td></td>\n",
       "      <td>NaN</td>\n",
       "      <td></td>\n",
       "      <td>1.0</td>\n",
       "      <td></td>\n",
       "    </tr>\n",
       "    <tr>\n",
       "      <th>4</th>\n",
       "      <td>5</td>\n",
       "      <td>Cédric Soares</td>\n",
       "      <td>Cédric</td>\n",
       "      <td>1</td>\n",
       "      <td>arsenal</td>\n",
       "      <td>ARS</td>\n",
       "      <td>DEF</td>\n",
       "      <td>6.5</td>\n",
       "      <td>2.4</td>\n",
       "      <td></td>\n",
       "      <td>...</td>\n",
       "      <td>0</td>\n",
       "      <td>0</td>\n",
       "      <td>3</td>\n",
       "      <td>42</td>\n",
       "      <td>NaN</td>\n",
       "      <td></td>\n",
       "      <td>NaN</td>\n",
       "      <td></td>\n",
       "      <td>NaN</td>\n",
       "      <td></td>\n",
       "    </tr>\n",
       "  </tbody>\n",
       "</table>\n",
       "<p>5 rows × 53 columns</p>\n",
       "</div>"
      ],
      "text/plain": [
       "   player_id                        name display_slug  team_id     team  \\\n",
       "0          1                  Mesut Özil         Özil        1  arsenal   \n",
       "1          2   Sokratis Papastathopoulos     Sokratis        1  arsenal   \n",
       "2          3  David Luiz Moreira Marinho   David Luiz        1  arsenal   \n",
       "3          4   Pierre-Emerick Aubameyang   Aubameyang        1  arsenal   \n",
       "4          5               Cédric Soares       Cédric        1  arsenal   \n",
       "\n",
       "  team_slug position  points_per_game  form  \\\n",
       "0       ARS      MID              0.0   0.0   \n",
       "1       ARS      DEF              0.0   0.0   \n",
       "2       ARS      DEF              2.0   2.2   \n",
       "3       ARS      MID              4.2   4.8   \n",
       "4       ARS      DEF              6.5   2.4   \n",
       "\n",
       "                                                news  ... penalties_missed  \\\n",
       "0  Not included in Arsenal's 25-man Premier Leagu...  ...                0   \n",
       "1            Left the club by mutual consent on 20/1  ...                0   \n",
       "2                                                     ...                0   \n",
       "3           Personal Reasons - 75% chance of playing  ...                0   \n",
       "4                                                     ...                0   \n",
       "\n",
       "  saves  bonus  bps  corners_and_indirect_freekicks_order  \\\n",
       "0     0      0    0                                   NaN   \n",
       "1     0      0    0                                   NaN   \n",
       "2     0      0  108                                   NaN   \n",
       "3     0      6  202                                   NaN   \n",
       "4     0      3   42                                   NaN   \n",
       "\n",
       "   corners_and_indirect_freekicks_text  direct_freekicks_order  \\\n",
       "0                                                          NaN   \n",
       "1                                                          NaN   \n",
       "2                                                          4.0   \n",
       "3                                                          NaN   \n",
       "4                                                          NaN   \n",
       "\n",
       "   direct_freekicks_text  penalties_order  penalties_text  \n",
       "0                                     NaN                  \n",
       "1                                     NaN                  \n",
       "2                                     NaN                  \n",
       "3                                     1.0                  \n",
       "4                                     NaN                  \n",
       "\n",
       "[5 rows x 53 columns]"
      ]
     },
     "execution_count": 63,
     "metadata": {},
     "output_type": "execute_result"
    }
   ],
   "source": [
    "fpl_player_stats_df.head()"
   ]
  },
  {
   "cell_type": "code",
   "execution_count": 64,
   "metadata": {},
   "outputs": [
    {
     "data": {
      "text/html": [
       "<div>\n",
       "<style scoped>\n",
       "    .dataframe tbody tr th:only-of-type {\n",
       "        vertical-align: middle;\n",
       "    }\n",
       "\n",
       "    .dataframe tbody tr th {\n",
       "        vertical-align: top;\n",
       "    }\n",
       "\n",
       "    .dataframe thead th {\n",
       "        text-align: right;\n",
       "    }\n",
       "</style>\n",
       "<table border=\"1\" class=\"dataframe\">\n",
       "  <thead>\n",
       "    <tr style=\"text-align: right;\">\n",
       "      <th></th>\n",
       "      <th>player_id</th>\n",
       "      <th>name</th>\n",
       "    </tr>\n",
       "  </thead>\n",
       "  <tbody>\n",
       "    <tr>\n",
       "      <th>0</th>\n",
       "      <td>1</td>\n",
       "      <td>Mesut Özil</td>\n",
       "    </tr>\n",
       "    <tr>\n",
       "      <th>1</th>\n",
       "      <td>2</td>\n",
       "      <td>Sokratis Papastathopoulos</td>\n",
       "    </tr>\n",
       "    <tr>\n",
       "      <th>2</th>\n",
       "      <td>3</td>\n",
       "      <td>David Luiz Moreira Marinho</td>\n",
       "    </tr>\n",
       "    <tr>\n",
       "      <th>3</th>\n",
       "      <td>4</td>\n",
       "      <td>Pierre-Emerick Aubameyang</td>\n",
       "    </tr>\n",
       "    <tr>\n",
       "      <th>4</th>\n",
       "      <td>5</td>\n",
       "      <td>Cédric Soares</td>\n",
       "    </tr>\n",
       "    <tr>\n",
       "      <th>...</th>\n",
       "      <td>...</td>\n",
       "      <td>...</td>\n",
       "    </tr>\n",
       "    <tr>\n",
       "      <th>636</th>\n",
       "      <td>615</td>\n",
       "      <td>Lewis Richards</td>\n",
       "    </tr>\n",
       "    <tr>\n",
       "      <th>637</th>\n",
       "      <td>616</td>\n",
       "      <td>Christian Marques</td>\n",
       "    </tr>\n",
       "    <tr>\n",
       "      <th>638</th>\n",
       "      <td>617</td>\n",
       "      <td>Andreas Söndergaard</td>\n",
       "    </tr>\n",
       "    <tr>\n",
       "      <th>639</th>\n",
       "      <td>626</td>\n",
       "      <td>Patrick Cutrone</td>\n",
       "    </tr>\n",
       "    <tr>\n",
       "      <th>640</th>\n",
       "      <td>629</td>\n",
       "      <td>Nigel Lonwijk</td>\n",
       "    </tr>\n",
       "  </tbody>\n",
       "</table>\n",
       "<p>641 rows × 2 columns</p>\n",
       "</div>"
      ],
      "text/plain": [
       "     player_id                        name\n",
       "0            1                  Mesut Özil\n",
       "1            2   Sokratis Papastathopoulos\n",
       "2            3  David Luiz Moreira Marinho\n",
       "3            4   Pierre-Emerick Aubameyang\n",
       "4            5               Cédric Soares\n",
       "..         ...                         ...\n",
       "636        615              Lewis Richards\n",
       "637        616           Christian Marques\n",
       "638        617         Andreas Söndergaard\n",
       "639        626             Patrick Cutrone\n",
       "640        629               Nigel Lonwijk\n",
       "\n",
       "[641 rows x 2 columns]"
      ]
     },
     "execution_count": 64,
     "metadata": {},
     "output_type": "execute_result"
    }
   ],
   "source": [
    "fpl_player_stats_df[['player_id', 'name']]"
   ]
  },
  {
   "cell_type": "code",
   "execution_count": 65,
   "metadata": {},
   "outputs": [
    {
     "data": {
      "text/html": [
       "<div>\n",
       "<style scoped>\n",
       "    .dataframe tbody tr th:only-of-type {\n",
       "        vertical-align: middle;\n",
       "    }\n",
       "\n",
       "    .dataframe tbody tr th {\n",
       "        vertical-align: top;\n",
       "    }\n",
       "\n",
       "    .dataframe thead th {\n",
       "        text-align: right;\n",
       "    }\n",
       "</style>\n",
       "<table border=\"1\" class=\"dataframe\">\n",
       "  <thead>\n",
       "    <tr style=\"text-align: right;\">\n",
       "      <th></th>\n",
       "      <th>name</th>\n",
       "      <th>profile_url</th>\n",
       "    </tr>\n",
       "  </thead>\n",
       "  <tbody>\n",
       "    <tr>\n",
       "      <th>0</th>\n",
       "      <td>Andrew Robertson</td>\n",
       "      <td>https://fbref.com/en/players/2e4f5f03/Andrew-R...</td>\n",
       "    </tr>\n",
       "    <tr>\n",
       "      <th>1</th>\n",
       "      <td>Roberto Firmino</td>\n",
       "      <td>https://fbref.com/en/players/4c370d81/Roberto-...</td>\n",
       "    </tr>\n",
       "    <tr>\n",
       "      <th>2</th>\n",
       "      <td>Georginio Wijnaldum</td>\n",
       "      <td>https://fbref.com/en/players/eb58eef0/Georgini...</td>\n",
       "    </tr>\n",
       "    <tr>\n",
       "      <th>3</th>\n",
       "      <td>Sadio Mané</td>\n",
       "      <td>https://fbref.com/en/players/c691bfe2/Sadio-Mane</td>\n",
       "    </tr>\n",
       "    <tr>\n",
       "      <th>4</th>\n",
       "      <td>Fabinho</td>\n",
       "      <td>https://fbref.com/en/players/7f3b388c/Fabinho</td>\n",
       "    </tr>\n",
       "    <tr>\n",
       "      <th>...</th>\n",
       "      <td>...</td>\n",
       "      <td>...</td>\n",
       "    </tr>\n",
       "    <tr>\n",
       "      <th>20</th>\n",
       "      <td>Martinelli</td>\n",
       "      <td>https://fbref.com/en/players/48a5a5d6/Martinelli</td>\n",
       "    </tr>\n",
       "    <tr>\n",
       "      <th>21</th>\n",
       "      <td>Cédric Soares</td>\n",
       "      <td>https://fbref.com/en/players/839c14e1/Cedric-S...</td>\n",
       "    </tr>\n",
       "    <tr>\n",
       "      <th>22</th>\n",
       "      <td>Sead Kolašinac</td>\n",
       "      <td>https://fbref.com/en/players/3935e52e/Sead-Kol...</td>\n",
       "    </tr>\n",
       "    <tr>\n",
       "      <th>23</th>\n",
       "      <td>Reiss Nelson</td>\n",
       "      <td>https://fbref.com/en/players/c5bdb6e3/Reiss-Ne...</td>\n",
       "    </tr>\n",
       "    <tr>\n",
       "      <th>24</th>\n",
       "      <td>Shkodran Mustafi</td>\n",
       "      <td>https://fbref.com/en/players/3f2d59fe/Shkodran...</td>\n",
       "    </tr>\n",
       "  </tbody>\n",
       "</table>\n",
       "<p>473 rows × 2 columns</p>\n",
       "</div>"
      ],
      "text/plain": [
       "                   name                                        profile_url\n",
       "0      Andrew Robertson  https://fbref.com/en/players/2e4f5f03/Andrew-R...\n",
       "1       Roberto Firmino  https://fbref.com/en/players/4c370d81/Roberto-...\n",
       "2   Georginio Wijnaldum  https://fbref.com/en/players/eb58eef0/Georgini...\n",
       "3            Sadio Mané   https://fbref.com/en/players/c691bfe2/Sadio-Mane\n",
       "4               Fabinho      https://fbref.com/en/players/7f3b388c/Fabinho\n",
       "..                  ...                                                ...\n",
       "20           Martinelli   https://fbref.com/en/players/48a5a5d6/Martinelli\n",
       "21        Cédric Soares  https://fbref.com/en/players/839c14e1/Cedric-S...\n",
       "22       Sead Kolašinac  https://fbref.com/en/players/3935e52e/Sead-Kol...\n",
       "23         Reiss Nelson  https://fbref.com/en/players/c5bdb6e3/Reiss-Ne...\n",
       "24     Shkodran Mustafi  https://fbref.com/en/players/3f2d59fe/Shkodran...\n",
       "\n",
       "[473 rows x 2 columns]"
      ]
     },
     "execution_count": 65,
     "metadata": {},
     "output_type": "execute_result"
    }
   ],
   "source": [
    "fbref_all[['name', 'profile_url']]"
   ]
  },
  {
   "cell_type": "code",
   "execution_count": null,
   "metadata": {},
   "outputs": [],
   "source": []
  },
  {
   "cell_type": "code",
   "execution_count": null,
   "metadata": {},
   "outputs": [],
   "source": []
  }
 ],
 "metadata": {
  "celltoolbar": "Raw Cell Format",
  "kernelspec": {
   "display_name": "Python 3",
   "language": "python",
   "name": "python3"
  },
  "language_info": {
   "codemirror_mode": {
    "name": "ipython",
    "version": 3
   },
   "file_extension": ".py",
   "mimetype": "text/x-python",
   "name": "python",
   "nbconvert_exporter": "python",
   "pygments_lexer": "ipython3",
   "version": "3.8.6"
  }
 },
 "nbformat": 4,
 "nbformat_minor": 4
}
