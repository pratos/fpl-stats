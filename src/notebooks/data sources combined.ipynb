{
 "cells": [
  {
   "cell_type": "code",
   "execution_count": 80,
   "metadata": {},
   "outputs": [],
   "source": [
    "%reload_ext autoreload\n",
    "import pandas as pd\n",
    "from bs4 import BeautifulSoup\n",
    "import requests\n",
    "import json\n",
    "from pipetools import pipe, utils, where"
   ]
  },
  {
   "cell_type": "code",
   "execution_count": 2,
   "metadata": {},
   "outputs": [],
   "source": [
    "team_urls = {\n",
    "    \"liverpool\": \"https://fbref.com/en/squads/822bd0ba/Liverpool-Stats\",\n",
    "    \"aston_villa\": \"https://fbref.com/en/squads/8602292d/Aston-Villa-Stats\",\n",
    "    \"leeds_united\": \"https://fbref.com/en/squads/5bfb9659/Leeds-United-Stats\",\n",
    "    \"crystal_palace\": \"https://fbref.com/en/squads/47c64c55/Crystal-Palace-Stats\",\n",
    "    \"chelsea\": \"https://fbref.com/en/squads/cff3d9bb/Chelsea-Stats\",\n",
    "    \"leicester_city\": \"https://fbref.com/en/squads/a2d435b3/Leicester-City-Stats\",\n",
    "    \"wolves\": \"https://fbref.com/en/squads/8cec06e1/Wolverhampton-Wanderers-Stats\",\n",
    "    \"tottenham_hotspurs\": \"https://fbref.com/en/squads/361ca564/Tottenham-Hotspur-Stats\",\n",
    "    \"westham_united\": \"https://fbref.com/en/squads/7c21e445/West-Ham-United-Stats\",\n",
    "    \"manchester_city\": \"https://fbref.com/en/squads/b8fd03ef/Manchester-City-Stats\",\n",
    "    \"everton\": \"https://fbref.com/en/squads/d3fd31cc/Everton-Stats\",\n",
    "    \"southampton\": \"https://fbref.com/en/squads/33c895d4/Southampton-Stats\",\n",
    "    \"newcastle_united\": \"https://fbref.com/en/squads/b2b47a98/Newcastle-United-Stats\",\n",
    "    \"manchester_united\": \"https://fbref.com/en/squads/19538871/Manchester-United-Stats\",\n",
    "    \"brighton\": \"https://fbref.com/en/squads/d07537b9/Brighton-and-Hove-Albion-Stats\",\n",
    "    \"westbrom\": \"https://fbref.com/en/squads/60c6b05f/West-Bromwich-Albion-Stats\",\n",
    "    \"burnley\": \"https://fbref.com/en/squads/943e8050/Burnley-Stats\",\n",
    "    \"sheffield_united\": \"https://fbref.com/en/squads/1df6b87e/Sheffield-United-Stats\",\n",
    "    \"fulham\": \"https://fbref.com/en/squads/fd962109/Fulham-Stats\",\n",
    "    \"arsenal\": \"https://fbref.com/en/squads/18bb7c10/Arsenal-Stats\"\n",
    "}"
   ]
  },
  {
   "cell_type": "code",
   "execution_count": 3,
   "metadata": {},
   "outputs": [
    {
     "data": {
      "text/plain": [
       "20"
      ]
     },
     "execution_count": 3,
     "metadata": {},
     "output_type": "execute_result"
    }
   ],
   "source": [
    "len(team_urls)"
   ]
  },
  {
   "cell_type": "markdown",
   "metadata": {},
   "source": [
    "### Brewing the soup"
   ]
  },
  {
   "cell_type": "code",
   "execution_count": 4,
   "metadata": {},
   "outputs": [],
   "source": [
    "liv_content = requests.get(team_urls[\"arsenal\"])"
   ]
  },
  {
   "cell_type": "code",
   "execution_count": 5,
   "metadata": {},
   "outputs": [
    {
     "data": {
      "text/plain": [
       "200"
      ]
     },
     "execution_count": 5,
     "metadata": {},
     "output_type": "execute_result"
    }
   ],
   "source": [
    "liv_content.status_code"
   ]
  },
  {
   "cell_type": "code",
   "execution_count": 6,
   "metadata": {},
   "outputs": [],
   "source": [
    "liv_soup = BeautifulSoup(liv_content.content)"
   ]
  },
  {
   "cell_type": "markdown",
   "metadata": {},
   "source": [
    "### Shooting Stats"
   ]
  },
  {
   "cell_type": "code",
   "execution_count": 7,
   "metadata": {},
   "outputs": [],
   "source": [
    "shooting = BeautifulSoup(liv_content.content).find(attrs={\"id\": \"all_stats_shooting_10728\"})"
   ]
  },
  {
   "cell_type": "code",
   "execution_count": 8,
   "metadata": {},
   "outputs": [
    {
     "data": {
      "text/plain": [
       "19"
      ]
     },
     "execution_count": 8,
     "metadata": {},
     "output_type": "execute_result"
    }
   ],
   "source": [
    "len(BeautifulSoup(shooting.contents[5]).find_all(\"tr\")[2:-1])"
   ]
  },
  {
   "cell_type": "code",
   "execution_count": 9,
   "metadata": {},
   "outputs": [],
   "source": [
    "shooting = BeautifulSoup(shooting.contents[5]).find_all(\"tr\")[2:-1]"
   ]
  },
  {
   "cell_type": "code",
   "execution_count": 11,
   "metadata": {},
   "outputs": [],
   "source": [
    "import collections\n",
    "\n",
    "ShootingStats = collections.namedtuple(\n",
    "    'ShootingStats', \n",
    "    'name profile_url nationality position age minutes_90s goals shots_total shots_on_target \\\n",
    "    shots_on_target_pct shots_total_per90 goals_per_shot goals_per_shot_on_target \\\n",
    "    shots_free_kicks pens_made pens_att xg npxg npxg_per_shot xg_net npxg_net')"
   ]
  },
  {
   "cell_type": "code",
   "execution_count": 100,
   "metadata": {},
   "outputs": [],
   "source": [
    "def extract_shooting_stats(shooting: list) -> list(ShootingStats):\n",
    "    shooting_stats = []\n",
    "    for stat in shooting:\n",
    "        shooting_stats.append(ShootingStats(\n",
    "            name=(stat.find(\"th\").text),\n",
    "            profile_url=f'https://fbref.com{stat.find(\"a\").attrs[\"href\"]}',\n",
    "            nationality=stat.find(attrs={\"data-stat\": \"nationality\"}).text.split(\" \"),\n",
    "            position=stat.find(attrs={\"data-stat\": \"position\"}).text,\n",
    "            age=format_age(stat.find(attrs={\"data-stat\": \"age\"}).text),\n",
    "            minutes_90s=float(stat.find(attrs={\"data-stat\": \"minutes_90s\"}).text),\n",
    "            goals=int(stat.find(attrs={\"data-stat\": \"goals\"}).text),\n",
    "            shots_total=int(stat.find(attrs={\"data-stat\": \"shots_total\"}).text),\n",
    "            shots_on_target=int(stat.find(attrs={\"data-stat\": \"shots_on_target\"}).text),\n",
    "            shots_on_target_pct=to_float(stat.find(attrs={\"data-stat\": \"shots_on_target_pct\"}).text),\n",
    "            shots_total_per90=to_float(stat.find(attrs={\"data-stat\": \"shots_total_per90\"}).text),\n",
    "            goals_per_shot=to_float(stat.find(attrs={\"data-stat\": \"goals_per_shot\"}).text),\n",
    "            goals_per_shot_on_target=to_float(stat.find(attrs={\"data-stat\": \"goals_per_shot_on_target\"}).text),\n",
    "            shots_free_kicks=to_float(stat.find(attrs={\"data-stat\": \"shots_free_kicks\"}).text),\n",
    "            pens_made=int(stat.find(attrs={\"data-stat\": \"pens_made\"}).text),\n",
    "            pens_att=int(stat.find(attrs={\"data-stat\": \"pens_att\"}).text),\n",
    "            xg=to_float(stat.find(attrs={\"data-stat\": \"xg\"}).text),\n",
    "            npxg=to_float(stat.find(attrs={\"data-stat\": \"npxg\"}).text),\n",
    "            npxg_per_shot=to_float(stat.find(attrs={\"data-stat\": \"npxg_per_shot\"}).text),\n",
    "            xg_net=stat.find(attrs={\"data-stat\": \"xg_net\"}).text,\n",
    "            npxg_net=stat.find(attrs={\"data-stat\": \"npxg_net\"}).text\n",
    "        ))"
   ]
  },
  {
   "cell_type": "code",
   "execution_count": 101,
   "metadata": {},
   "outputs": [
    {
     "data": {
      "text/plain": [
       "ShootingStats(name='Shkodran Mustafi', profile_url='https://fbref.com/en/players/3f2d59fe/Shkodran-Mustafi', nationality=['de', 'GER'], position='DF', age='28 years and 192 days', minutes_90s=0.5, goals=0, shots_total=0, shots_on_target=0, shots_on_target_pct=0.0, shots_total_per90=0.0, goals_per_shot=0.0, goals_per_shot_on_target=0.0, shots_free_kicks=0.0, pens_made=0, pens_att=0, xg=0.0, npxg=0.0, npxg_per_shot=0.0, xg_net='0.0', npxg_net='0.0')"
      ]
     },
     "execution_count": 101,
     "metadata": {},
     "output_type": "execute_result"
    }
   ],
   "source": [
    "shooting_stats[-1]"
   ]
  },
  {
   "cell_type": "markdown",
   "metadata": {},
   "source": [
    "### Passing Stats"
   ]
  },
  {
   "cell_type": "code",
   "execution_count": 102,
   "metadata": {},
   "outputs": [],
   "source": [
    "passing = BeautifulSoup(liv_content.content).find(attrs={\"id\": \"all_stats_passing_10728\"})"
   ]
  },
  {
   "cell_type": "code",
   "execution_count": 103,
   "metadata": {},
   "outputs": [
    {
     "data": {
      "text/plain": [
       "19"
      ]
     },
     "execution_count": 103,
     "metadata": {},
     "output_type": "execute_result"
    }
   ],
   "source": [
    "len(BeautifulSoup(passing.contents[5]).find_all(\"tr\")[2:-1])"
   ]
  },
  {
   "cell_type": "code",
   "execution_count": 104,
   "metadata": {},
   "outputs": [],
   "source": [
    "passing = BeautifulSoup(passing.contents[5]).find_all(\"tr\")[2:-1]"
   ]
  },
  {
   "cell_type": "code",
   "execution_count": 105,
   "metadata": {},
   "outputs": [],
   "source": [
    "PassingStats = collections.namedtuple(\n",
    "    'PassingStats',\n",
    "    'name passes_completed passes passes_pct passes_total_distance passes_progressive_distance \\\n",
    "    passes_completed_short passes_short passes_pct_short passes_completed_medium passes_medium \\\n",
    "    passes_pct_medium passes_completed_long passes_long passes_pct_long assists xa xa_net assisted_shots \\\n",
    "    passes_into_final_third passes_into_penalty_area crosses_into_penalty_area progressive_passes'\n",
    ")"
   ]
  },
  {
   "cell_type": "code",
   "execution_count": 110,
   "metadata": {},
   "outputs": [],
   "source": [
    "def extract_passing_stats(passing: list) -> list(PassingStats):\n",
    "    passing_stats = []\n",
    "    for stat in passing:\n",
    "        passing_stats.append(\n",
    "            PassingStats(\n",
    "                name=stat.find(\"th\").text,\n",
    "                passes_completed=int(stat.find(attrs={\"data-stat\": \"passes_completed\"}).text),\n",
    "                passes=int(stat.find(attrs={\"data-stat\": \"passes\"}).text),\n",
    "                passes_pct=to_float(stat.find(attrs={\"data-stat\": \"passes_pct\"}).text),\n",
    "                passes_total_distance=to_float(stat.find(attrs={\"data-stat\": \"passes_total_distance\"}).text),\n",
    "                passes_progressive_distance=to_float(stat.find(attrs={\"data-stat\": \"passes_progressive_distance\"}).text),\n",
    "                passes_completed_short=int(stat.find(attrs={\"data-stat\": \"passes_completed_short\"}).text),\n",
    "                passes_short=int(stat.find(attrs={\"data-stat\": \"passes_short\"}).text),\n",
    "                passes_pct_short=to_float(stat.find(attrs={\"data-stat\": \"passes_pct_short\"}).text),\n",
    "                passes_completed_medium=int(stat.find(attrs={\"data-stat\": \"passes_completed_medium\"}).text),\n",
    "                passes_medium=int(stat.find(attrs={\"data-stat\": \"passes_medium\"}).text),\n",
    "                passes_pct_medium=to_float(stat.find(attrs={\"data-stat\": \"passes_pct_medium\"}).text),\n",
    "                passes_completed_long=int(stat.find(attrs={\"data-stat\": \"passes_completed_long\"}).text),\n",
    "                passes_long=int(stat.find(attrs={\"data-stat\": \"passes_long\"}).text),\n",
    "                passes_pct_long=to_float(stat.find(attrs={\"data-stat\": \"passes_pct_long\"}).text),\n",
    "                assists=int(stat.find(attrs={\"data-stat\": \"assists\"}).text),\n",
    "                xa=to_float(stat.find(attrs={\"data-stat\": \"xa\"}).text),\n",
    "                xa_net=stat.find(attrs={\"data-stat\": \"xa_net\"}).text,\n",
    "                assisted_shots=int(stat.find(attrs={\"data-stat\": \"assisted_shots\"}).text),\n",
    "                passes_into_final_third=int(stat.find(attrs={\"data-stat\": \"passes_into_final_third\"}).text),\n",
    "                passes_into_penalty_area=int(stat.find(attrs={\"data-stat\": \"passes_into_penalty_area\"}).text),\n",
    "                crosses_into_penalty_area=int(stat.find(attrs={\"data-stat\": \"crosses_into_penalty_area\"}).text),\n",
    "                progressive_passes=int(stat.find(attrs={\"data-stat\": \"progressive_passes\"}).text)\n",
    "            )\n",
    "        )"
   ]
  },
  {
   "cell_type": "code",
   "execution_count": 111,
   "metadata": {},
   "outputs": [
    {
     "data": {
      "text/plain": [
       "PassingStats(name='Pierre-Emerick Aubameyang', passes_completed=116, passes=162, passes_pct=71.6, passes_total_distance=1865.0, passes_progressive_distance=404.0, passes_completed_short=0, passes_short=7, passes_pct_short=0.0, passes_completed_medium=101, passes_medium=121, passes_pct_medium=83.5, passes_completed_long=15, passes_long=34, passes_pct_long=44.1, assists=1, xa=1.1, xa_net='-0.1', assisted_shots=8, passes_into_final_third=5, passes_into_penalty_area=6, crosses_into_penalty_area=3, progressive_passes=20)"
      ]
     },
     "execution_count": 111,
     "metadata": {},
     "output_type": "execute_result"
    }
   ],
   "source": [
    "passing_stats[0]"
   ]
  },
  {
   "cell_type": "markdown",
   "metadata": {},
   "source": [
    "### Extra Passing stats"
   ]
  },
  {
   "cell_type": "code",
   "execution_count": 112,
   "metadata": {},
   "outputs": [],
   "source": [
    "extra_passing = BeautifulSoup(liv_content.content).find(attrs={\"id\": \"all_stats_passing_types_10728\"})"
   ]
  },
  {
   "cell_type": "code",
   "execution_count": 114,
   "metadata": {},
   "outputs": [
    {
     "data": {
      "text/plain": [
       "19"
      ]
     },
     "execution_count": 114,
     "metadata": {},
     "output_type": "execute_result"
    }
   ],
   "source": [
    "len(BeautifulSoup(extra_passing.contents[5]).find_all(\"tr\")[2:-1])"
   ]
  },
  {
   "cell_type": "code",
   "execution_count": 115,
   "metadata": {},
   "outputs": [],
   "source": [
    "extra_passing = BeautifulSoup(extra_passing.contents[5]).find_all(\"tr\")[2:-1]"
   ]
  },
  {
   "cell_type": "code",
   "execution_count": 116,
   "metadata": {},
   "outputs": [],
   "source": [
    "ExtraPassingStats = collections.namedtuple(\n",
    "    'ExtraPassingStats',\n",
    "    'name passes_live passes_dead passes_free_kicks through_balls passes_pressure passes_switches\\\n",
    "    crosses corner_kicks corner_kicks_in corner_kicks_out corner_kicks_straight passes_ground\\\n",
    "    passes_low passes_high passes_left_foot passes_right_foot passes_head throw_ins passes_other_body\\\n",
    "    passes_completed passes_offsides passes_oob passes_intercepted passes_blocked'\n",
    ")"
   ]
  },
  {
   "cell_type": "code",
   "execution_count": 124,
   "metadata": {},
   "outputs": [],
   "source": [
    "def extract_extra_passing_stats(extra_passing: list) -> list(ExtraPassingStats):\n",
    "    extra_passing_stats = []\n",
    "    for stat in extra_passing:\n",
    "        extra_passing_stats.append(\n",
    "            ExtraPassingStats(\n",
    "                name=stat.find(\"th\").text,\n",
    "                passes_live=int(stat.find(attrs={\"data-stat\": \"passes_live\"}).text),\n",
    "                passes_dead=int(stat.find(attrs={\"data-stat\": \"passes_dead\"}).text),\n",
    "                passes_free_kicks=int(stat.find(attrs={\"data-stat\": \"passes_free_kicks\"}).text),\n",
    "                through_balls=int(stat.find(attrs={\"data-stat\": \"through_balls\"}).text),\n",
    "                passes_pressure=int(stat.find(attrs={\"data-stat\": \"passes_pressure\"}).text),\n",
    "                passes_switches=int(stat.find(attrs={\"data-stat\": \"passes_switches\"}).text),\n",
    "                crosses=int(stat.find(attrs={\"data-stat\": \"crosses\"}).text),\n",
    "                corner_kicks=int(stat.find(attrs={\"data-stat\": \"corner_kicks\"}).text),\n",
    "                corner_kicks_in=int(stat.find(attrs={\"data-stat\": \"corner_kicks_in\"}).text),\n",
    "                corner_kicks_out=int(stat.find(attrs={\"data-stat\": \"corner_kicks_out\"}).text),\n",
    "                corner_kicks_straight=int(stat.find(attrs={\"data-stat\": \"corner_kicks_straight\"}).text),\n",
    "                passes_ground=int(stat.find(attrs={\"data-stat\": \"passes_ground\"}).text),\n",
    "                passes_low=int(stat.find(attrs={\"data-stat\": \"passes_low\"}).text),\n",
    "                passes_high=int(stat.find(attrs={\"data-stat\": \"passes_high\"}).text),\n",
    "                passes_left_foot=int(stat.find(attrs={\"data-stat\": \"passes_left_foot\"}).text),\n",
    "                passes_right_foot=int(stat.find(attrs={\"data-stat\": \"passes_right_foot\"}).text),\n",
    "                passes_head=int(stat.find(attrs={\"data-stat\": \"passes_head\"}).text),\n",
    "                throw_ins=int(stat.find(attrs={\"data-stat\": \"throw_ins\"}).text),\n",
    "                passes_other_body=int(stat.find(attrs={\"data-stat\": \"passes_other_body\"}).text),\n",
    "                passes_completed=int(stat.find(attrs={\"data-stat\": \"passes_completed\"}).text),\n",
    "                passes_offsides=int(stat.find(attrs={\"data-stat\": \"passes_offsides\"}).text),\n",
    "                passes_oob=int(stat.find(attrs={\"data-stat\": \"passes_oob\"}).text),\n",
    "                passes_intercepted=int(stat.find(attrs={\"data-stat\": \"passes_intercepted\"}).text),\n",
    "                passes_blocked=int(stat.find(attrs={\"data-stat\": \"passes_blocked\"}).text)\n",
    "            )\n",
    "        )"
   ]
  },
  {
   "cell_type": "code",
   "execution_count": 125,
   "metadata": {},
   "outputs": [
    {
     "data": {
      "text/plain": [
       "ExtraPassingStats(name='Pierre-Emerick Aubameyang', passes_live=160, passes_dead=2, passes_free_kicks=0, through_balls=4, passes_pressure=36, passes_switches=2, crosses=16, corner_kicks=0, corner_kicks_in=0, corner_kicks_out=0, corner_kicks_straight=0, passes_ground=104, passes_low=30, passes_high=28, passes_left_foot=17, passes_right_foot=130, passes_head=6, throw_ins=0, passes_other_body=3, passes_completed=116, passes_offsides=2, passes_oob=3, passes_intercepted=3, passes_blocked=5)"
      ]
     },
     "execution_count": 125,
     "metadata": {},
     "output_type": "execute_result"
    }
   ],
   "source": [
    "extra_passing_stats[0]"
   ]
  },
  {
   "cell_type": "markdown",
   "metadata": {},
   "source": [
    "### Goal Creation Stats"
   ]
  },
  {
   "cell_type": "code",
   "execution_count": 126,
   "metadata": {},
   "outputs": [],
   "source": [
    "gca = BeautifulSoup(liv_content.content).find(attrs={\"id\": \"all_stats_gca_10728\"})"
   ]
  },
  {
   "cell_type": "code",
   "execution_count": 127,
   "metadata": {},
   "outputs": [
    {
     "data": {
      "text/plain": [
       "19"
      ]
     },
     "execution_count": 127,
     "metadata": {},
     "output_type": "execute_result"
    }
   ],
   "source": [
    "len(BeautifulSoup(gca.contents[5]).find_all(\"tr\")[2:-1])"
   ]
  },
  {
   "cell_type": "code",
   "execution_count": 128,
   "metadata": {},
   "outputs": [],
   "source": [
    "gca = BeautifulSoup(gca.contents[5]).find_all(\"tr\")[2:-1]"
   ]
  },
  {
   "cell_type": "code",
   "execution_count": 129,
   "metadata": {},
   "outputs": [],
   "source": [
    "GCAStats = collections.namedtuple(\n",
    "    'GCAStats',\n",
    "    'name sca sca_per90 sca_passes_live sca_passes_dead sca_dribbles sca_shots sca_fouled gca\\\n",
    "    gca_per90 gca_passes_live gca_passes_dead gca_dribbles gca_shots gca_fouled gca_og_for'\n",
    ")"
   ]
  },
  {
   "cell_type": "code",
   "execution_count": 135,
   "metadata": {},
   "outputs": [],
   "source": [
    "def extract_gca_stats(gca: list) -> list(GCAStats):\n",
    "    gca_stats = []\n",
    "    for stat in gca:\n",
    "        gca_stats.append(\n",
    "            GCAStats(\n",
    "                name=stat.find(\"th\").text,\n",
    "                sca=int(stat.find(attrs={\"data-stat\": \"sca\"}).text),\n",
    "                sca_per90=to_float(stat.find(attrs={\"data-stat\": \"sca_per90\"}).text),\n",
    "                sca_passes_live=int(stat.find(attrs={\"data-stat\": \"sca_passes_live\"}).text),\n",
    "                sca_passes_dead=int(stat.find(attrs={\"data-stat\": \"sca_passes_dead\"}).text),\n",
    "                sca_dribbles=int(stat.find(attrs={\"data-stat\": \"sca_dribbles\"}).text),\n",
    "                sca_shots=int(stat.find(attrs={\"data-stat\": \"sca_shots\"}).text),\n",
    "                sca_fouled=int(stat.find(attrs={\"data-stat\": \"sca_fouled\"}).text),\n",
    "                gca=int(stat.find(attrs={\"data-stat\": \"gca\"}).text),\n",
    "                gca_per90=to_float(stat.find(attrs={\"data-stat\": \"gca_per90\"}).text),\n",
    "                gca_passes_live=int(stat.find(attrs={\"data-stat\": \"gca_passes_live\"}).text),\n",
    "                gca_passes_dead=int(stat.find(attrs={\"data-stat\": \"gca_passes_dead\"}).text),\n",
    "                gca_dribbles=int(stat.find(attrs={\"data-stat\": \"gca_dribbles\"}).text),\n",
    "                gca_shots=int(stat.find(attrs={\"data-stat\": \"gca_shots\"}).text),\n",
    "                gca_fouled=int(stat.find(attrs={\"data-stat\": \"gca_fouled\"}).text),\n",
    "                gca_og_for=int(stat.find(attrs={\"data-stat\": \"gca_og_for\"}).text)\n",
    "            )\n",
    "        )"
   ]
  },
  {
   "cell_type": "code",
   "execution_count": 136,
   "metadata": {
    "scrolled": true
   },
   "outputs": [
    {
     "data": {
      "text/plain": [
       "GCAStats(name='Pierre-Emerick Aubameyang', sca=16, sca_per90=2.67, sca_passes_live=12, sca_passes_dead=0, sca_dribbles=1, sca_shots=1, sca_fouled=2, gca=2, gca_per90=0.33, gca_passes_live=2, gca_passes_dead=0, gca_dribbles=0, gca_shots=0, gca_fouled=0, gca_og_for=0)"
      ]
     },
     "execution_count": 136,
     "metadata": {},
     "output_type": "execute_result"
    }
   ],
   "source": [
    "gca_stats[0]"
   ]
  },
  {
   "cell_type": "markdown",
   "metadata": {},
   "source": [
    "### Defensive Stats"
   ]
  },
  {
   "cell_type": "code",
   "execution_count": 137,
   "metadata": {},
   "outputs": [],
   "source": [
    "defensive = BeautifulSoup(liv_content.content).find(attrs={\"id\": \"all_stats_defense_10728\"})"
   ]
  },
  {
   "cell_type": "code",
   "execution_count": 138,
   "metadata": {},
   "outputs": [
    {
     "data": {
      "text/plain": [
       "19"
      ]
     },
     "execution_count": 138,
     "metadata": {},
     "output_type": "execute_result"
    }
   ],
   "source": [
    "len(BeautifulSoup(defensive.contents[5]).find_all(\"tr\")[2:-1])"
   ]
  },
  {
   "cell_type": "code",
   "execution_count": 139,
   "metadata": {},
   "outputs": [],
   "source": [
    "defensive = BeautifulSoup(defensive.contents[5]).find_all(\"tr\")[2:-1]"
   ]
  },
  {
   "cell_type": "code",
   "execution_count": 140,
   "metadata": {},
   "outputs": [],
   "source": [
    "DefensiveActions = collections.namedtuple(\n",
    "    'DefensiveActions',\n",
    "    'name tackles tackles_won tackles_def_3rd tackles_mid_3rd tackles_att_3rd dribble_tackles dribbles_vs\\\n",
    "    dribble_tackles_pct dribbled_past pressures pressure_regains pressure_regain_pct pressures_def_3rd\\\n",
    "    pressures_mid_3rd pressures_att_3rd blocks blocked_shots blocked_shots_saves blocked_passes interceptions\\\n",
    "    tackles_interceptions clearances errors'\n",
    ")"
   ]
  },
  {
   "cell_type": "code",
   "execution_count": 141,
   "metadata": {},
   "outputs": [],
   "source": [
    "def extract_defensive_actions(defensive_actions: list) -> list(DefensiveActions):\n",
    "    defensive_actions = []\n",
    "    for stat in defensive:\n",
    "        defensive_actions.append(\n",
    "            DefensiveActions(\n",
    "                name=stat.find(\"th\").text,\n",
    "                tackles=int(stat.find(attrs={\"data-stat\": \"tackles\"}).text),\n",
    "                tackles_won=int(stat.find(attrs={\"data-stat\": \"tackles_won\"}).text),\n",
    "                tackles_def_3rd=int(stat.find(attrs={\"data-stat\": \"tackles_def_3rd\"}).text),\n",
    "                tackles_mid_3rd=int(stat.find(attrs={\"data-stat\": \"tackles_mid_3rd\"}).text),\n",
    "                tackles_att_3rd=int(stat.find(attrs={\"data-stat\": \"tackles_att_3rd\"}).text),\n",
    "                dribble_tackles=int(stat.find(attrs={\"data-stat\": \"dribble_tackles\"}).text),\n",
    "                dribbles_vs=int(stat.find(attrs={\"data-stat\": \"dribbles_vs\"}).text),\n",
    "                dribble_tackles_pct=to_float(stat.find(attrs={\"data-stat\": \"dribble_tackles_pct\"}).text),\n",
    "                dribbled_past=int(stat.find(attrs={\"data-stat\": \"dribbled_past\"}).text),\n",
    "                pressures=int(stat.find(attrs={\"data-stat\": \"pressures\"}).text),\n",
    "                pressure_regains=int(stat.find(attrs={\"data-stat\": \"pressure_regains\"}).text),\n",
    "                pressure_regain_pct=to_float(stat.find(attrs={\"data-stat\": \"pressure_regain_pct\"}).text),\n",
    "                pressures_def_3rd=int(stat.find(attrs={\"data-stat\": \"pressures_def_3rd\"}).text),\n",
    "                pressures_mid_3rd=int(stat.find(attrs={\"data-stat\": \"pressures_mid_3rd\"}).text),\n",
    "                pressures_att_3rd=int(stat.find(attrs={\"data-stat\": \"pressures_att_3rd\"}).text),\n",
    "                blocks=int(stat.find(attrs={\"data-stat\": \"blocks\"}).text),\n",
    "                blocked_shots=int(stat.find(attrs={\"data-stat\": \"blocked_shots\"}).text),\n",
    "                blocked_shots_saves=int(stat.find(attrs={\"data-stat\": \"blocked_shots_saves\"}).text),\n",
    "                blocked_passes=int(stat.find(attrs={\"data-stat\": \"blocked_passes\"}).text),\n",
    "                interceptions=int(stat.find(attrs={\"data-stat\": \"interceptions\"}).text),\n",
    "                tackles_interceptions=int(stat.find(attrs={\"data-stat\": \"tackles_interceptions\"}).text),\n",
    "                clearances=int(stat.find(attrs={\"data-stat\": \"clearances\"}).text),\n",
    "                errors=int(stat.find(attrs={\"data-stat\": \"errors\"}).text),\n",
    "            )\n",
    "        )"
   ]
  },
  {
   "cell_type": "code",
   "execution_count": 142,
   "metadata": {
    "scrolled": true
   },
   "outputs": [
    {
     "data": {
      "text/plain": [
       "DefensiveActions(name='Pierre-Emerick Aubameyang', tackles=5, tackles_won=2, tackles_def_3rd=0, tackles_mid_3rd=4, tackles_att_3rd=1, dribble_tackles=2, dribbles_vs=5, dribble_tackles_pct=40.0, dribbled_past=3, pressures=84, pressure_regains=20, pressure_regain_pct=23.8, pressures_def_3rd=15, pressures_mid_3rd=37, pressures_att_3rd=32, blocks=6, blocked_shots=0, blocked_shots_saves=0, blocked_passes=6, interceptions=0, tackles_interceptions=5, clearances=3, errors=0)"
      ]
     },
     "execution_count": 142,
     "metadata": {},
     "output_type": "execute_result"
    }
   ],
   "source": [
    "defensive_actions[0]"
   ]
  },
  {
   "cell_type": "markdown",
   "metadata": {},
   "source": [
    "### Possession Stats"
   ]
  },
  {
   "cell_type": "code",
   "execution_count": 144,
   "metadata": {},
   "outputs": [],
   "source": [
    "possesion = BeautifulSoup(liv_content.content).find(attrs={\"id\": \"all_stats_possession_10728\"})"
   ]
  },
  {
   "cell_type": "code",
   "execution_count": 145,
   "metadata": {},
   "outputs": [
    {
     "data": {
      "text/plain": [
       "19"
      ]
     },
     "execution_count": 145,
     "metadata": {},
     "output_type": "execute_result"
    }
   ],
   "source": [
    "len(BeautifulSoup(possesion.contents[5]).find_all(\"tr\")[2:-1])"
   ]
  },
  {
   "cell_type": "code",
   "execution_count": 150,
   "metadata": {},
   "outputs": [],
   "source": [
    "possesion = BeautifulSoup(possesion.contents[5]).find_all(\"tr\")[2:-1]"
   ]
  },
  {
   "cell_type": "code",
   "execution_count": 151,
   "metadata": {},
   "outputs": [],
   "source": [
    "PossessionStats = collections.namedtuple(\n",
    "    'PossessionStats',\n",
    "    'name touches touches_def_pen_area touches_def_3rd touches_mid_3rd touches_att_3rd touches_att_pen_area\\\n",
    "    touches_live_ball dribbles_completed dribbles dribbles_completed_pct players_dribbled_past nutmegs\\\n",
    "    carries carry_distance carry_progressive_distance pass_targets passes_received passes_received_pct\\\n",
    "    miscontrols dispossessed'\n",
    ")"
   ]
  },
  {
   "cell_type": "code",
   "execution_count": 153,
   "metadata": {},
   "outputs": [],
   "source": [
    "def extract_possession_stats(possesion: list) -> list(PossessionStats):\n",
    "    possesion_stats = []\n",
    "    for stat in possesion:\n",
    "        possesion_stats.append(\n",
    "            PossessionStats(\n",
    "                name=stat.find(\"th\").text,\n",
    "                touches=int(stat.find(attrs={\"data-stat\": \"touches\"}).text),\n",
    "                touches_def_pen_area=int(stat.find(attrs={\"data-stat\": \"touches_def_pen_area\"}).text),\n",
    "                touches_def_3rd=int(stat.find(attrs={\"data-stat\": \"touches_def_3rd\"}).text),\n",
    "                touches_mid_3rd=int(stat.find(attrs={\"data-stat\": \"touches_mid_3rd\"}).text),\n",
    "                touches_att_3rd=int(stat.find(attrs={\"data-stat\": \"touches_att_3rd\"}).text),\n",
    "                touches_att_pen_area=int(stat.find(attrs={\"data-stat\": \"touches_att_pen_area\"}).text),\n",
    "                touches_live_ball=int(stat.find(attrs={\"data-stat\": \"touches_live_ball\"}).text),\n",
    "                dribbles_completed=int(stat.find(attrs={\"data-stat\": \"dribbles_completed\"}).text),\n",
    "                dribbles=int(stat.find(attrs={\"data-stat\": \"dribbles\"}).text),\n",
    "                dribbles_completed_pct=to_float(stat.find(attrs={\"data-stat\": \"dribbles_completed_pct\"}).text),\n",
    "                players_dribbled_past=int(stat.find(attrs={\"data-stat\": \"players_dribbled_past\"}).text),\n",
    "                nutmegs=int(stat.find(attrs={\"data-stat\": \"nutmegs\"}).text),\n",
    "                carries=int(stat.find(attrs={\"data-stat\": \"carries\"}).text),\n",
    "                carry_distance=int(stat.find(attrs={\"data-stat\": \"carry_distance\"}).text),\n",
    "                carry_progressive_distance=int(stat.find(attrs={\"data-stat\": \"carry_progressive_distance\"}).text),\n",
    "                pass_targets=int(stat.find(attrs={\"data-stat\": \"pass_targets\"}).text),\n",
    "                passes_received=int(stat.find(attrs={\"data-stat\": \"passes_received\"}).text),\n",
    "                passes_received_pct=to_float(stat.find(attrs={\"data-stat\": \"passes_received_pct\"}).text),\n",
    "                miscontrols=int(stat.find(attrs={\"data-stat\": \"miscontrols\"}).text),\n",
    "                dispossessed=int(stat.find(attrs={\"data-stat\": \"dispossessed\"}).text),\n",
    "            )\n",
    "        )"
   ]
  },
  {
   "cell_type": "code",
   "execution_count": 154,
   "metadata": {
    "scrolled": true
   },
   "outputs": [
    {
     "data": {
      "text/plain": [
       "PossessionStats(name='Pierre-Emerick Aubameyang', touches=204, touches_def_pen_area=3, touches_def_3rd=26, touches_mid_3rd=85, touches_att_3rd=106, touches_att_pen_area=18, touches_live_ball=202, dribbles_completed=3, dribbles=8, dribbles_completed_pct=37.5, players_dribbled_past=4, nutmegs=0, carries=130, carry_distance=921, carry_progressive_distance=529, pass_targets=270, passes_received=165, passes_received_pct=61.1, miscontrols=5, dispossessed=6)"
      ]
     },
     "execution_count": 154,
     "metadata": {},
     "output_type": "execute_result"
    }
   ],
   "source": [
    "possesion_stats[0]"
   ]
  },
  {
   "cell_type": "markdown",
   "metadata": {},
   "source": [
    "### Playing Time Stats"
   ]
  },
  {
   "cell_type": "code",
   "execution_count": 156,
   "metadata": {},
   "outputs": [],
   "source": [
    "playing_time = BeautifulSoup(liv_content.content).find(attrs={\"id\": \"all_stats_playing_time_10728\"})"
   ]
  },
  {
   "cell_type": "code",
   "execution_count": 157,
   "metadata": {},
   "outputs": [
    {
     "data": {
      "text/plain": [
       "22"
      ]
     },
     "execution_count": 157,
     "metadata": {},
     "output_type": "execute_result"
    }
   ],
   "source": [
    "len(BeautifulSoup(playing_time.contents[5]).find_all(\"tr\")[2:-1])"
   ]
  },
  {
   "cell_type": "code",
   "execution_count": 158,
   "metadata": {},
   "outputs": [],
   "source": [
    "playing_time = BeautifulSoup(playing_time.contents[5]).find_all(\"tr\")[2:-1]"
   ]
  },
  {
   "cell_type": "code",
   "execution_count": 159,
   "metadata": {},
   "outputs": [],
   "source": [
    "PlayingTimeStats = collections.namedtuple(\n",
    "    'PlayingTimeStats',\n",
    "    'name games minutes minutes_per_game minutes_pct minutes_90s games_starts minutes_per_start\\\n",
    "    games_subs minutes_per_sub unused_subs points_per_match on_goals_for on_goals_against plus_minus\\\n",
    "    plus_minus_per90 plus_minus_wowy on_xg_for on_xg_against xg_plus_minus xg_plus_minus_per90\\\n",
    "    xg_plus_minus_wowy'\n",
    ")"
   ]
  },
  {
   "cell_type": "code",
   "execution_count": 167,
   "metadata": {},
   "outputs": [],
   "source": [
    "def extract_playing_time_stats(playing_time: list) -> list(PlayingTimeStats):\n",
    "    playing_time_stats = []\n",
    "    for stat in playing_time:\n",
    "        playing_time_stats.append(\n",
    "            PlayingTimeStats(\n",
    "                name=stat.find(\"th\").text,\n",
    "                games=int(stat.find(attrs={\"data-stat\": \"games\"}).text),\n",
    "                minutes=to_float(stat.find(attrs={\"data-stat\": \"minutes\"}).text),\n",
    "                minutes_per_game=to_float(stat.find(attrs={\"data-stat\": \"minutes_per_game\"}).text),\n",
    "                minutes_pct=to_float(stat.find(attrs={\"data-stat\": \"minutes_pct\"}).text),\n",
    "                minutes_90s=to_float(stat.find(attrs={\"data-stat\": \"minutes_90s\"}).text),\n",
    "                games_starts=int(stat.find(attrs={\"data-stat\": \"games_starts\"}).text),\n",
    "                minutes_per_start=to_float(stat.find(attrs={\"data-stat\": \"minutes_per_start\"}).text),\n",
    "                games_subs=int(stat.find(attrs={\"data-stat\": \"games_subs\"}).text),\n",
    "                minutes_per_sub=to_float(stat.find(attrs={\"data-stat\": \"minutes_per_sub\"}).text),\n",
    "                unused_subs=int(stat.find(attrs={\"data-stat\": \"unused_subs\"}).text),\n",
    "                points_per_match=to_float(stat.find(attrs={\"data-stat\": \"points_per_match\"}).text),\n",
    "                on_goals_for=to_float(stat.find(attrs={\"data-stat\": \"on_goals_for\"}).text),\n",
    "                on_goals_against=to_float(stat.find(attrs={\"data-stat\": \"on_goals_against\"}).text),\n",
    "                plus_minus=stat.find(attrs={\"data-stat\": \"plus_minus\"}).text,\n",
    "                plus_minus_per90=stat.find(attrs={\"data-stat\": \"plus_minus_per90\"}).text,\n",
    "                plus_minus_wowy=stat.find(attrs={\"data-stat\": \"plus_minus_wowy\"}).text,\n",
    "                on_xg_for=to_float(stat.find(attrs={\"data-stat\": \"on_xg_for\"}).text),\n",
    "                on_xg_against=to_float(stat.find(attrs={\"data-stat\": \"on_xg_against\"}).text),\n",
    "                xg_plus_minus=stat.find(attrs={\"data-stat\": \"xg_plus_minus\"}).text,\n",
    "                xg_plus_minus_per90=stat.find(attrs={\"data-stat\": \"xg_plus_minus_per90\"}).text,\n",
    "                xg_plus_minus_wowy=stat.find(attrs={\"data-stat\": \"xg_plus_minus_wowy\"}).text,\n",
    "            )\n",
    "        )"
   ]
  },
  {
   "cell_type": "code",
   "execution_count": 168,
   "metadata": {
    "scrolled": true
   },
   "outputs": [
    {
     "data": {
      "text/plain": [
       "PlayingTimeStats(name='Pierre-Emerick Aubameyang', games=6, minutes=540.0, minutes_per_game=90.0, minutes_pct=100.0, minutes_90s=6.0, games_starts=6, minutes_per_start=90.0, games_subs=0, minutes_per_sub=0.0, unused_subs=0, points_per_match=1.5, on_goals_for=8.0, on_goals_against=7.0, plus_minus='+1', plus_minus_per90='+0.17', plus_minus_wowy='', on_xg_for=6.5, on_xg_against=7.9, xg_plus_minus='-1.3', xg_plus_minus_per90='-0.22', xg_plus_minus_wowy='')"
      ]
     },
     "execution_count": 168,
     "metadata": {},
     "output_type": "execute_result"
    }
   ],
   "source": [
    "playing_time_stats[0]"
   ]
  },
  {
   "cell_type": "markdown",
   "metadata": {},
   "source": [
    "### Misc Stats"
   ]
  },
  {
   "cell_type": "code",
   "execution_count": 169,
   "metadata": {},
   "outputs": [],
   "source": [
    "misc = BeautifulSoup(liv_content.content).find(attrs={\"id\": \"all_stats_misc_10728\"})"
   ]
  },
  {
   "cell_type": "code",
   "execution_count": 170,
   "metadata": {},
   "outputs": [
    {
     "data": {
      "text/plain": [
       "19"
      ]
     },
     "execution_count": 170,
     "metadata": {},
     "output_type": "execute_result"
    }
   ],
   "source": [
    "len(BeautifulSoup(misc.contents[5]).find_all(\"tr\")[2:-1])"
   ]
  },
  {
   "cell_type": "code",
   "execution_count": 171,
   "metadata": {},
   "outputs": [],
   "source": [
    "misc = BeautifulSoup(misc.contents[5]).find_all(\"tr\")[2:-1]"
   ]
  },
  {
   "cell_type": "code",
   "execution_count": 172,
   "metadata": {},
   "outputs": [],
   "source": [
    "MiscStats = collections.namedtuple(\n",
    "    'MiscStats',\n",
    "    'name cards_yellow cards_red cards_yellow_red fouls fouled offsides crosses interceptions\\\n",
    "    tackles_won pens_won pens_conceded own_goals ball_recoveries aerials_won aerials_lost aerials_won_pct'\n",
    ")"
   ]
  },
  {
   "cell_type": "code",
   "execution_count": 173,
   "metadata": {},
   "outputs": [],
   "source": [
    "def extract_misc_stats(misc: list) -> list(MiscStats):\n",
    "    misc_stats = []\n",
    "    for stat in misc:\n",
    "        misc_stats.append(\n",
    "            MiscStats(\n",
    "                name=stat.find(\"th\").text,\n",
    "                cards_yellow=int(stat.find(attrs={\"data-stat\": \"cards_yellow\"}).text),\n",
    "                cards_red=int(stat.find(attrs={\"data-stat\": \"cards_red\"}).text),\n",
    "                cards_yellow_red=int(stat.find(attrs={\"data-stat\": \"cards_yellow_red\"}).text),\n",
    "                fouls=int(stat.find(attrs={\"data-stat\": \"fouls\"}).text),\n",
    "                fouled=int(stat.find(attrs={\"data-stat\": \"fouled\"}).text),\n",
    "                offsides=int(stat.find(attrs={\"data-stat\": \"offsides\"}).text),\n",
    "                crosses=int(stat.find(attrs={\"data-stat\": \"crosses\"}).text),\n",
    "                interceptions=int(stat.find(attrs={\"data-stat\": \"interceptions\"}).text),\n",
    "                tackles_won=int(stat.find(attrs={\"data-stat\": \"tackles_won\"}).text),\n",
    "                pens_won=int(stat.find(attrs={\"data-stat\": \"pens_won\"}).text),\n",
    "                pens_conceded=int(stat.find(attrs={\"data-stat\": \"pens_conceded\"}).text),\n",
    "                own_goals=int(stat.find(attrs={\"data-stat\": \"own_goals\"}).text),\n",
    "                ball_recoveries=int(stat.find(attrs={\"data-stat\": \"ball_recoveries\"}).text),\n",
    "                aerials_won=int(stat.find(attrs={\"data-stat\": \"aerials_won\"}).text),\n",
    "                aerials_lost=int(stat.find(attrs={\"data-stat\": \"aerials_lost\"}).text),\n",
    "                aerials_won_pct=to_float(stat.find(attrs={\"data-stat\": \"aerials_won_pct\"}).text),\n",
    "            )\n",
    "        )"
   ]
  },
  {
   "cell_type": "code",
   "execution_count": 174,
   "metadata": {
    "scrolled": true
   },
   "outputs": [
    {
     "data": {
      "text/plain": [
       "MiscStats(name='Pierre-Emerick Aubameyang', cards_yellow=1, cards_red=0, cards_yellow_red=0, fouls=4, fouled=5, offsides=6, crosses=16, interceptions=0, tackles_won=2, pens_won=0, pens_conceded=0, own_goals=0, ball_recoveries=21, aerials_won=6, aerials_lost=9, aerials_won_pct=40.0)"
      ]
     },
     "execution_count": 174,
     "metadata": {},
     "output_type": "execute_result"
    }
   ],
   "source": [
    "misc_stats[0]"
   ]
  },
  {
   "cell_type": "markdown",
   "metadata": {},
   "source": [
    "### Utilities"
   ]
  },
  {
   "cell_type": "code",
   "execution_count": 37,
   "metadata": {},
   "outputs": [],
   "source": [
    "def format_age(age: str) -> str:\n",
    "    spl = age.split(\"-\")\n",
    "    return f\"{spl[0]} years and {spl[1]} days\""
   ]
  },
  {
   "cell_type": "code",
   "execution_count": 98,
   "metadata": {},
   "outputs": [],
   "source": [
    "def to_float(text: str) -> float:\n",
    "    if not text:\n",
    "        return 0.0\n",
    "    else:\n",
    "        return text > pipe | str | float"
   ]
  },
  {
   "cell_type": "code",
   "execution_count": 99,
   "metadata": {},
   "outputs": [
    {
     "data": {
      "text/plain": [
       "float"
      ]
     },
     "execution_count": 99,
     "metadata": {},
     "output_type": "execute_result"
    }
   ],
   "source": [
    "type(to_float('0.222'))"
   ]
  },
  {
   "cell_type": "markdown",
   "metadata": {},
   "source": [
    "## FPL Data"
   ]
  },
  {
   "cell_type": "code",
   "execution_count": null,
   "metadata": {},
   "outputs": [],
   "source": []
  },
  {
   "cell_type": "code",
   "execution_count": null,
   "metadata": {},
   "outputs": [],
   "source": []
  },
  {
   "cell_type": "code",
   "execution_count": null,
   "metadata": {},
   "outputs": [],
   "source": []
  }
 ],
 "metadata": {
  "celltoolbar": "Raw Cell Format",
  "kernelspec": {
   "display_name": "Python 3",
   "language": "python",
   "name": "python3"
  },
  "language_info": {
   "codemirror_mode": {
    "name": "ipython",
    "version": 3
   },
   "file_extension": ".py",
   "mimetype": "text/x-python",
   "name": "python",
   "nbconvert_exporter": "python",
   "pygments_lexer": "ipython3",
   "version": "3.6.9"
  }
 },
 "nbformat": 4,
 "nbformat_minor": 4
}
